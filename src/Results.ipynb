{
 "cells": [
  {
   "cell_type": "code",
   "execution_count": 166,
   "id": "97e44b4c",
   "metadata": {},
   "outputs": [
    {
     "name": "stdout",
     "output_type": "stream",
     "text": [
      "The autoreload extension is already loaded. To reload it, use:\n",
      "  %reload_ext autoreload\n"
     ]
    }
   ],
   "source": [
    "%load_ext autoreload\n",
    "%autoreload 2\n",
    "%matplotlib inline\n",
    "import os\n",
    "import sys \n",
    "from torch.nn import functional as F\n",
    "import configparser\n",
    "import pandas as pd \n",
    "\n",
    "import numpy as np\n",
    "import torch\n",
    "import matplotlib.pyplot as plt\n",
    "\n",
    "import matplotlib\n",
    "matplotlib.rcParams['mathtext.fontset'] = 'stix'\n",
    "matplotlib.rcParams['font.family'] = 'STIXGeneral'\n",
    "from os.path import join as oj\n",
    "sys.path.insert(0, \"../src\")\n",
    "from unet import UNet\n",
    "import my_data\n",
    "import pickle as pkl\n",
    "pd.set_option('display.float_format', lambda x: '%.3f' % x)\n",
    "cuda = torch.cuda.is_available()\n",
    "device = torch.device(\"cuda:0\" if cuda else \"cpu\")\n",
    "config = configparser.ConfigParser()\n",
    "config.read('../config.ini');\n",
    "data_path =config['DATASET']['data_path'] \n",
    "fig_path =config['PATHS']['figure_path'] \n"
   ]
  },
  {
   "cell_type": "code",
   "execution_count": 174,
   "id": "6056e815",
   "metadata": {},
   "outputs": [
    {
     "data": {
      "text/html": [
       "<div>\n",
       "<style scoped>\n",
       "    .dataframe tbody tr th:only-of-type {\n",
       "        vertical-align: middle;\n",
       "    }\n",
       "\n",
       "    .dataframe tbody tr th {\n",
       "        vertical-align: top;\n",
       "    }\n",
       "\n",
       "    .dataframe thead th {\n",
       "        text-align: right;\n",
       "    }\n",
       "</style>\n",
       "<table border=\"1\" class=\"dataframe\">\n",
       "  <thead>\n",
       "    <tr style=\"text-align: right;\">\n",
       "      <th></th>\n",
       "      <th></th>\n",
       "      <th></th>\n",
       "      <th></th>\n",
       "      <th>final_dice_score</th>\n",
       "    </tr>\n",
       "    <tr>\n",
       "      <th>experiment_name</th>\n",
       "      <th>cost_function</th>\n",
       "      <th>add_ratio</th>\n",
       "      <th>foldername</th>\n",
       "      <th></th>\n",
       "    </tr>\n",
       "  </thead>\n",
       "  <tbody>\n",
       "    <tr>\n",
       "      <th rowspan=\"2\" valign=\"top\">EActiveLearning</th>\n",
       "      <th>cut_off_cost</th>\n",
       "      <th>0.020</th>\n",
       "      <th>lno_halfHour</th>\n",
       "      <td>0.970</td>\n",
       "    </tr>\n",
       "    <tr>\n",
       "      <th>random_cost</th>\n",
       "      <th>0.020</th>\n",
       "      <th>lno_halfHour</th>\n",
       "      <td>0.954</td>\n",
       "    </tr>\n",
       "  </tbody>\n",
       "</table>\n",
       "</div>"
      ],
      "text/plain": [
       "                                                      final_dice_score\n",
       "experiment_name cost_function add_ratio foldername                    \n",
       "EActiveLearning cut_off_cost  0.020     lno_halfHour             0.970\n",
       "                random_cost   0.020     lno_halfHour             0.954"
      ]
     },
     "execution_count": 174,
     "metadata": {},
     "output_type": "execute_result"
    }
   ],
   "source": [
    "fnames = sorted([oj(config['PATHS']['model_path'] , fname) for fname in os.listdir(config['PATHS']['model_path'] ) if \"pkl\" in fname]) \n",
    "results_list = [pd.Series(pkl.load(open(fname, \"rb\"))) for fname in (fnames)] \n",
    "results = pd.concat(results_list, axis=1).T.infer_objects()\n",
    "\n",
    "\n",
    "results.reset_index(inplace=True)\n",
    "\n",
    "results[['foldername',  'cost_function', 'add_ratio',  'final_dice_score', \n",
    "         'experiment_name']].groupby([ 'experiment_name', 'cost_function','add_ratio', \n",
    "         'foldername' ]).mean()\n"
   ]
  },
  {
   "cell_type": "code",
   "execution_count": null,
   "id": "99c080c3",
   "metadata": {},
   "outputs": [],
   "source": [
    "# make figure barplot\n",
    "results_dict ={}\n",
    "results_dict['No Aquisition'] = results[results.experiment_name == 'NoActiveLearningAnnotation'].test_dice_score\n",
    "# results_dict['Random'] = results[results.cost_function == 'random_cost'][results.add_ratio == .02].test_dice_score\n",
    "results_dict['Active Learning'] = results[results.cost_function == 'cut_off_cost'][results.add_ratio == .02].test_dice_score\n",
    "\n",
    "\n",
    "results_dict['Full Dataset'] = results[results.experiment_name == 'FullDatasetTraining'].test_dice_score\n",
    "# results_dict['Human repeat'] = np.asarray([0.9761262536048889])\n",
    "for key in results_dict:\n",
    "    results_dict[key] = np.asarray(results_dict[key])"
   ]
  },
  {
   "cell_type": "code",
   "execution_count": null,
   "id": "8096adcb",
   "metadata": {},
   "outputs": [],
   "source": [
    "# make barplot\n",
    "plt.figure(figsize=(10,5))\n",
    "plt.bar(results_dict.keys(), \n",
    "        [np.mean(results_dict[key]) for key in results_dict.keys()], \n",
    "        yerr=[np.std(results_dict[key])/np.sqrt(len(results_dict[key])) for key in results_dict.keys()],\n",
    "        # color=['#1f77b4', '#ff7f0e', '#2ca02c', '#d62728'])\n",
    "        color = ['g', 'g', 'r','g',])\n",
    "# ticks\n",
    "plt.xticks(fontsize=30, rotation=20)\n",
    "plt.yticks([0.94, 0.95, 0.96, 0.97, 0.98], fontsize=20)\n",
    "plt.axhline(0.9761262536048889, color='k', linestyle='--', label ='Human Repeat')\n",
    "plt.ylim(0.94, 0.98)\n",
    "plt.ylabel('Dice Score', fontsize=25)\n",
    "plt.legend(loc = 'upper left')\n",
    "plt.savefig(oj(fig_path, 'results_dice.png'), dpi=300, bbox_inches='tight')"
   ]
  },
  {
   "cell_type": "code",
   "execution_count": null,
   "id": "6c523083",
   "metadata": {},
   "outputs": [],
   "source": [
    "# make barplot\n",
    "plt.figure(figsize=(10,5))\n",
    "plt.bar(results_dict.keys(), \n",
    "        [np.mean(results_dict[key]) for key in results_dict.keys()], \n",
    "        yerr=[np.std(results_dict[key])/np.sqrt(len(results_dict[key])) for key in results_dict.keys()],\n",
    "        # color=['#1f77b4', '#ff7f0e', '#2ca02c', '#d62728'])\n",
    "        color = ['g', 'g', 'r','g',])\n",
    "# ticks\n",
    "plt.xticks(fontsize=30, rotation=20)\n",
    "plt.yticks([0.94, 0.95, 0.96, 0.97, 0.98], fontsize=20)\n",
    "plt.axhline(0.9761262536048889, color='k', linestyle='--', label ='Human Repeat')\n",
    "plt.ylim(0.94, 0.98)\n",
    "plt.ylabel('Dice Score', fontsize=25)\n",
    "plt.legend(loc = 'upper left')\n",
    "plt.savefig(oj(fig_path, 'results_dice.png'), dpi=300, bbox_inches='tight')"
   ]
  },
  {
   "cell_type": "code",
   "execution_count": null,
   "id": "d720b53e",
   "metadata": {},
   "outputs": [],
   "source": [
    "# make barplot\n",
    "plt.figure(figsize=(10,5))\n",
    "plt.bar(['Outside', 'Binder', 'Graphite'], \n",
    "        [0.1, 0.45, 0.45], \n",
    "        color = ['r', 'g', 'g',])\n",
    "plt.ylim(0., 1.0)\n"
   ]
  },
  {
   "cell_type": "code",
   "execution_count": null,
   "id": "2bed9e0d",
   "metadata": {},
   "outputs": [],
   "source": [
    "results_here = results[results.experiment_name != 'FullDataset']\n",
    "results_here_copy = results_here[results_here.add_ratio ==.0].copy()\n",
    "results_here_copy.cost_function = 'cut_off_cost'\n",
    "results_here = pd.concat([results_here, results_here_copy])\n",
    "plt.figure(figsize=(10,5))\n",
    "results_here.cost_function = results_here.cost_function.replace('cut_off_cost', 'Uncertainty based')\n",
    "results_here.cost_function = results_here.cost_function.replace('random_cost', 'Random baseline')\n",
    "#make matplotlib\n",
    "for i, name in enumerate(results_here.cost_function.unique()):\n",
    "    print(name)\n",
    "    # plt.plot(name.add_ratio, name.test_dice_score, marker='o', linestyle='', label=name.cost_function)\n",
    "\n"
   ]
  },
  {
   "cell_type": "code",
   "execution_count": null,
   "id": "958981a8",
   "metadata": {},
   "outputs": [],
   "source": [
    "import seaborn as sns\n",
    "#lineplot\n",
    "results_here = results[results.experiment_name != 'FullDataset']\n",
    "results_here_copy = results_here[results_here.add_ratio ==.0].copy()\n",
    "results_here_copy.cost_function = 'cut_off_cost'\n",
    "results_here = pd.concat([results_here, results_here_copy])\n",
    "plt.figure(figsize=(10,5))\n",
    "#rename \n",
    "results_here.cost_function = results_here.cost_function.replace('cut_off_cost', 'Uncertainty based')\n",
    "results_here.cost_function = results_here.cost_function.replace('random_cost', 'Random baseline')\n",
    "#make matplotlib\n",
    "\n",
    "plt.figure(figsize=(10,5))\n",
    "\n",
    "#rename column\n",
    "results_here = results_here.rename(columns={'test_dice_score': 'Dice Score'})\n",
    "\n",
    "results_here = results_here.rename(columns={'cost_function': 'Cost function'})\n",
    "results_here = results_here.rename(columns={'add_ratio': '% of Dataset'})\n",
    "\n",
    "#increase font size for seaborm\n",
    "sns.set(font_scale=2)\n",
    "sns.set_style(\"whitegrid\")\n",
    "# sns.despine(offset=10, trim=True);\n",
    "sns.lineplot(data=results_here, x=\"% of Dataset\", y=\"Dice Score\", hue=\"Cost function\", errorbar='se', palette=\"tab10\", linewidth=2.5)\n",
    "# plt.savefig(oj(fig_path, 'forloeb.png'), dpi=300, bbox_inches='tight')\n",
    "plt.ylim(.94, .98)"
   ]
  },
  {
   "cell_type": "code",
   "execution_count": null,
   "id": "55ffdf3e",
   "metadata": {},
   "outputs": [],
   "source": [
    "results = results[results['cost_function'] == 'cut_off_cost']\n",
    "results = results[results['experiment_name'] == 'ActiveLearningRandomChoose']\n",
    "#reindex\n",
    "results = results.reset_index(drop=True)"
   ]
  },
  {
   "cell_type": "code",
   "execution_count": null,
   "id": "f07f5bfd",
   "metadata": {},
   "outputs": [],
   "source": [
    " results.data_min"
   ]
  },
  {
   "cell_type": "code",
   "execution_count": null,
   "id": "52e63917",
   "metadata": {},
   "outputs": [],
   "source": []
  },
  {
   "cell_type": "code",
   "execution_count": null,
   "id": "160d3099",
   "metadata": {},
   "outputs": [],
   "source": [
    "x, y, num_classes, class_dict = my_data.load_layer_data( oj(config[\"DATASET\"][\"data_path\"], 'lno') )\n",
    "x_test, y_test = x[-1:], y[-1:]\n",
    "x_test = (x_test - results.data_min[0]) / (results.data_max[0] - results.data_min[0])\n",
    "num_classes = results.num_classes[0]"
   ]
  },
  {
   "cell_type": "code",
   "execution_count": null,
   "id": "1885e262",
   "metadata": {},
   "outputs": [],
   "source": [
    "net = UNet(1, results.num_classes[0], )\n"
   ]
  },
  {
   "cell_type": "code",
   "execution_count": null,
   "id": "b9d8ef59",
   "metadata": {},
   "outputs": [],
   "source": []
  },
  {
   "cell_type": "code",
   "execution_count": null,
   "id": "1c01016d",
   "metadata": {},
   "outputs": [],
   "source": [
    "x_test, y_test = my_data.stack_imgs(x_test, y_test)"
   ]
  },
  {
   "cell_type": "code",
   "execution_count": null,
   "id": "f2b47cd0",
   "metadata": {},
   "outputs": [],
   "source": [
    "from tqdm import tqdm"
   ]
  },
  {
   "cell_type": "code",
   "execution_count": null,
   "id": "bf5940bf",
   "metadata": {},
   "outputs": [],
   "source": [
    "for j in tqdm(range(len(results))):\n",
    "    # if the file exists\n",
    "    if os.path.exists(oj(config['PATHS']['model_path'] ,results.file_name[j]+\".pt\")):\n",
    "        \n",
    "        net = UNet(1, results.num_classes[0], )\n",
    "        net.load_state_dict(torch.load(oj(config['PATHS']['model_path'] ,results.file_name[j]+\".pt\")))\n",
    "        print(results.cost_function[j])\n",
    "        net = net.to(device).eval()\n",
    "        results.at[j, 'test_dice_score'] = evaluate.final_evaluate(net, x_test, y_test, num_classes, device)\n",
    "        break"
   ]
  },
  {
   "cell_type": "code",
   "execution_count": null,
   "id": "f904fc8f",
   "metadata": {},
   "outputs": [],
   "source": [
    "results[['foldername',  \n",
    "         'test_dice_score','cost_function', 'add_ratio',\n",
    "         'experiment_name']].groupby([ 'experiment_name', 'cost_function','foldername','add_ratio', ]).mean()"
   ]
  },
  {
   "cell_type": "code",
   "execution_count": null,
   "id": "2336285d",
   "metadata": {},
   "outputs": [],
   "source": [
    "x_pool = my_data.load_pool_data( oj(config[\"DATASET\"][\"data_path\"], 'lno') )\n",
    "x_pool = x_pool[:-4]\n",
    "x_pool = (x_pool.astype(np.float16) - results.data_min[0]) / (results.data_max[0] - results.data_min[0])\n",
    "x_pool_all, slice_numbers = my_data.make_dataset_single( x_pool, \n",
    "                                                 img_size=128, \n",
    "                                                 offset=128,\n",
    "                                                  return_slice_numbers= True )\n",
    "     \n",
    "pool_set = TensorDataset(torch.Tensor(x_pool_all))\n",
    "loader_args = dict( batch_size=4, num_workers=0, pin_memory=True )\n",
    "pool_loader = DataLoader(pool_set, shuffle=False, **loader_args)"
   ]
  },
  {
   "cell_type": "code",
   "execution_count": null,
   "id": "6dcf8438",
   "metadata": {},
   "outputs": [],
   "source": [
    "x_pool.shape"
   ]
  },
  {
   "cell_type": "code",
   "execution_count": null,
   "id": "35b1f767",
   "metadata": {},
   "outputs": [],
   "source": []
  },
  {
   "cell_type": "code",
   "execution_count": null,
   "id": "73062a15",
   "metadata": {},
   "outputs": [],
   "source": [
    "idx = 369\n",
    "plt.imshow(pool_loader.dataset[idx][0][0], )"
   ]
  },
  {
   "cell_type": "code",
   "execution_count": null,
   "id": "48632be9",
   "metadata": {},
   "outputs": [],
   "source": [
    "output = F.softmax(net.forward(pool_loader.dataset[idx][0][None,:].to(device)), dim=1)[:,:, 4:-4, 4:-4]\n",
    "plt.imshow((-torch.sum(output * torch.log(output), dim=1))[0].detach().cpu())\n",
    "print((-torch.sum(output * torch.log(output), dim=1))[0].detach().cpu().mean())"
   ]
  },
  {
   "cell_type": "code",
   "execution_count": null,
   "id": "c45d7268",
   "metadata": {},
   "outputs": [],
   "source": [
    "plt.plot((-torch.sum(output * torch.log(output), dim=1))[0].detach().cpu().reshape(-1).sort()[0])"
   ]
  },
  {
   "cell_type": "code",
   "execution_count": null,
   "id": "ee1b61d4",
   "metadata": {},
   "outputs": [],
   "source": [
    "net = net.to(device)\n",
    "net.eval()\n",
    "evaluate.cut_off_cost(net, device, pool_loader, percentile=.5,  n_choose=5)"
   ]
  },
  {
   "cell_type": "code",
   "execution_count": null,
   "id": "0b15b8ef",
   "metadata": {},
   "outputs": [],
   "source": [
    "net.forward(img_t).shape"
   ]
  },
  {
   "cell_type": "code",
   "execution_count": null,
   "id": "a0c55760",
   "metadata": {},
   "outputs": [],
   "source": [
    "img_idx = 1\n",
    "test_img_np  = ((x_test[img_idx][None, ].astype(np.float32) ))\n",
    "with torch.no_grad():\n",
    "    img_t = torch.Tensor(test_img_np).to(device)\n",
    "    output = F.softmax(net.forward(img_t), dim =1).cpu().detach().numpy()[0]"
   ]
  },
  {
   "cell_type": "code",
   "execution_count": null,
   "id": "b40be948",
   "metadata": {},
   "outputs": [],
   "source": [
    "fig, axes = plt.subplots(ncols = 5, figsize = (20,4))\n",
    "axes[0].imshow(x_test[img_idx][0])\n",
    "axes[1].imshow(np.argmax(output, axis=0),vmin =-1, vmax = 2)\n",
    "target = np.copy(y_test[img_idx]).astype(np.int16)\n",
    "target[np.where(target == 255)] =-1\n",
    "axes[2].imshow(target, vmin =-1,vmax = 2)\n",
    "axes[3].imshow((target !=np.argmax(output, axis=0) ) * (target !=-1))\n",
    "\n",
    "axes[4].imshow( (-output * np.log(output)).sum(axis=0))\n",
    "# axes[1].imshow()"
   ]
  },
  {
   "attachments": {},
   "cell_type": "markdown",
   "id": "ee7d1849",
   "metadata": {},
   "source": [
    "# try with detailed"
   ]
  },
  {
   "cell_type": "code",
   "execution_count": null,
   "id": "08e16921",
   "metadata": {},
   "outputs": [],
   "source": [
    "x,y,num_classes,_ = my_data.load_layer_data(oj(data_path, 'lno'))\n",
    "\n",
    "x, y = x[:-4], y[:-4]  # just don't touch the last four\n",
    "x = x/x.max()\n",
    "val_percent = .25\n",
    "init_train_ratio =1\n",
    "image_size = 128\n",
    "offset = 64\n",
    "all_idxs = np.arange(len(x))\n",
    "np.random.seed(0)\n",
    "np.random.shuffle(all_idxs)\n",
    "n_val = np.maximum(int(len(x) * val_percent), 1)\n",
    "n_train = len(x) - n_val\n",
    "all_train_idxs = all_idxs[:n_train]\n",
    "val_idxs = all_idxs[n_train:]\n",
    "init_train_idxs = all_train_idxs[: np.maximum(1, int(init_train_ratio * n_train))]\n",
    "pool_idxs = all_train_idxs[np.maximum(1, int(init_train_ratio * n_train)) :]\n",
    "\n",
    "val_set = TensorDataset(\n",
    "    *[\n",
    "        torch.Tensor(input)\n",
    "        for input in my_data.make_dataset(\n",
    "            x[val_idxs[:1]],\n",
    "            y[val_idxs[:1]],\n",
    "            img_size=image_size,\n",
    "            offset=image_size,\n",
    "        )\n",
    "    ]\n",
    ")\n",
    "val_loader = DataLoader(val_set, shuffle=False, drop_last=False, batch_size = 16)"
   ]
  },
  {
   "cell_type": "code",
   "execution_count": null,
   "id": "bdb31bab",
   "metadata": {},
   "outputs": [],
   "source": [
    "val_loader.batch_size"
   ]
  },
  {
   "cell_type": "code",
   "execution_count": null,
   "id": "cc22065b",
   "metadata": {},
   "outputs": [],
   "source": [
    "x_small, _,=my_data.make_dataset(\n",
    "            x[val_idxs[:1]],\n",
    "            y[val_idxs[:1]],\n",
    "            img_size=image_size,\n",
    "            offset=image_size,\n",
    "        )"
   ]
  },
  {
   "cell_type": "code",
   "execution_count": null,
   "id": "b8a2a1e4",
   "metadata": {
    "scrolled": true
   },
   "outputs": [],
   "source": [
    "x_small[test_idxes].min()"
   ]
  },
  {
   "cell_type": "code",
   "execution_count": null,
   "id": "37942291",
   "metadata": {},
   "outputs": [],
   "source": [
    "net(t)"
   ]
  },
  {
   "cell_type": "code",
   "execution_count": null,
   "id": "d03af80f",
   "metadata": {},
   "outputs": [],
   "source": [
    "x.shape"
   ]
  },
  {
   "cell_type": "code",
   "execution_count": null,
   "id": "324007c5",
   "metadata": {},
   "outputs": [],
   "source": [
    "val_loader"
   ]
  },
  {
   "cell_type": "code",
   "execution_count": null,
   "id": "0a84586c",
   "metadata": {},
   "outputs": [],
   "source": [
    "net"
   ]
  },
  {
   "cell_type": "code",
   "execution_count": null,
   "id": "4e87cfe8",
   "metadata": {},
   "outputs": [],
   "source": []
  },
  {
   "cell_type": "code",
   "execution_count": null,
   "id": "321a196b",
   "metadata": {},
   "outputs": [],
   "source": [
    "len(all_train_idxs)"
   ]
  },
  {
   "cell_type": "code",
   "execution_count": null,
   "id": "4905aef4",
   "metadata": {},
   "outputs": [],
   "source": [
    "len(val_loader.dataset)"
   ]
  },
  {
   "cell_type": "code",
   "execution_count": null,
   "id": "c94f3870",
   "metadata": {
    "scrolled": true
   },
   "outputs": [],
   "source": [
    "plt.imshow(x[val_idxs[0]][0])"
   ]
  },
  {
   "cell_type": "code",
   "execution_count": null,
   "id": "49539ec0",
   "metadata": {
    "scrolled": true
   },
   "outputs": [],
   "source": [
    "test_ids_safe = std_cost_function(net, device,val_loader,n_choose =59)\n",
    "\n",
    "# test_ids = np.argsort(test_ids_safe)"
   ]
  },
  {
   "cell_type": "code",
   "execution_count": null,
   "id": "d2592622",
   "metadata": {},
   "outputs": [],
   "source": [
    "len(val_loader.dataset)"
   ]
  },
  {
   "cell_type": "code",
   "execution_count": null,
   "id": "b4cdda89",
   "metadata": {},
   "outputs": [],
   "source": [
    "test_ids_safe"
   ]
  },
  {
   "cell_type": "code",
   "execution_count": null,
   "id": "78ff5da4",
   "metadata": {},
   "outputs": [],
   "source": [
    "plt.imshow(val_set[test_ids_safe[0]][0][0])"
   ]
  },
  {
   "cell_type": "code",
   "execution_count": null,
   "id": "7116ae01",
   "metadata": {},
   "outputs": [],
   "source": [
    "plt.imshow(val_set[test_ids_safe[-20]][0][0])"
   ]
  },
  {
   "cell_type": "code",
   "execution_count": null,
   "id": "3d9189f5",
   "metadata": {
    "scrolled": false
   },
   "outputs": [],
   "source": [
    "test_ids_safe[32]"
   ]
  },
  {
   "cell_type": "code",
   "execution_count": null,
   "id": "7ca14f6f",
   "metadata": {},
   "outputs": [],
   "source": [
    "test_ids_safe[23]"
   ]
  },
  {
   "cell_type": "code",
   "execution_count": null,
   "id": "d5ca6434",
   "metadata": {
    "scrolled": true
   },
   "outputs": [],
   "source": [
    "test_ids_safe"
   ]
  },
  {
   "cell_type": "code",
   "execution_count": null,
   "id": "03d48ef4",
   "metadata": {},
   "outputs": [],
   "source": [
    "test_ids_safe"
   ]
  },
  {
   "cell_type": "code",
   "execution_count": null,
   "id": "d1da3e38",
   "metadata": {},
   "outputs": [],
   "source": [
    "test_ids_safe"
   ]
  },
  {
   "cell_type": "code",
   "execution_count": null,
   "id": "867d4293",
   "metadata": {},
   "outputs": [],
   "source": [
    "test_ids_safe"
   ]
  },
  {
   "cell_type": "code",
   "execution_count": null,
   "id": "32db622b",
   "metadata": {},
   "outputs": [],
   "source": [
    "test_ids_safe"
   ]
  },
  {
   "cell_type": "code",
   "execution_count": null,
   "id": "ebad2ef4",
   "metadata": {},
   "outputs": [],
   "source": [
    "net(val_set[test_ids_safe[1]][0][None,:].to(device))[0].std(dim=1).mean(dim=(0,1))"
   ]
  },
  {
   "cell_type": "code",
   "execution_count": null,
   "id": "a3f21bfc",
   "metadata": {},
   "outputs": [],
   "source": [
    "net(val_set[test_ids_safe[-1]][0][None,:].to(device))[0].std(dim=1).mean(dim=(0,1))"
   ]
  },
  {
   "cell_type": "code",
   "execution_count": null,
   "id": "bab51878",
   "metadata": {},
   "outputs": [],
   "source": [
    "net(val_set[test_ids_safe[-1]][0][None,:].to(device))[0][0].mean()"
   ]
  },
  {
   "cell_type": "code",
   "execution_count": null,
   "id": "02d96408",
   "metadata": {},
   "outputs": [],
   "source": [
    "net(val_set[test_ids_safe[-1]][0][None,:].to(device))[0][2].mean()"
   ]
  },
  {
   "cell_type": "code",
   "execution_count": null,
   "id": "9766c031",
   "metadata": {},
   "outputs": [],
   "source": [
    "net(val_set[test_ids_safe[-1]][0][None,:].to(device))[0].std(dim=1)"
   ]
  },
  {
   "cell_type": "code",
   "execution_count": null,
   "id": "8ad6aa93",
   "metadata": {},
   "outputs": [],
   "source": [
    "test_ids_safe[224]"
   ]
  },
  {
   "cell_type": "code",
   "execution_count": null,
   "id": "05af76dc",
   "metadata": {
    "scrolled": true
   },
   "outputs": [],
   "source": [
    "len(test_ids_safe)"
   ]
  },
  {
   "cell_type": "code",
   "execution_count": null,
   "id": "bbea1944",
   "metadata": {},
   "outputs": [],
   "source": []
  },
  {
   "cell_type": "code",
   "execution_count": null,
   "id": "2f6d522d",
   "metadata": {},
   "outputs": [],
   "source": [
    "test_ids = np.sort(test_ids)"
   ]
  },
  {
   "cell_type": "code",
   "execution_count": null,
   "id": "c682fe18",
   "metadata": {},
   "outputs": [],
   "source": [
    "plt.imshow(val_set[5][0][0])"
   ]
  },
  {
   "cell_type": "code",
   "execution_count": null,
   "id": "5498b1c9",
   "metadata": {},
   "outputs": [],
   "source": []
  },
  {
   "cell_type": "code",
   "execution_count": null,
   "id": "efad24d8",
   "metadata": {},
   "outputs": [],
   "source": []
  },
  {
   "cell_type": "code",
   "execution_count": null,
   "id": "ee6f46dc",
   "metadata": {
    "scrolled": true
   },
   "outputs": [],
   "source": [
    "plt.imshow(val_set[test_ids[10]][0][0])"
   ]
  },
  {
   "cell_type": "code",
   "execution_count": null,
   "id": "7d833a7e",
   "metadata": {},
   "outputs": [],
   "source": [
    "plt.imshow(val_set[test_ids[1]][0][0])"
   ]
  },
  {
   "cell_type": "code",
   "execution_count": null,
   "id": "bcd782d1",
   "metadata": {},
   "outputs": [],
   "source": [
    "plt.imshow(val_set[test_ids[0]][0][0])"
   ]
  },
  {
   "cell_type": "code",
   "execution_count": null,
   "id": "4e029610",
   "metadata": {},
   "outputs": [],
   "source": [
    "img_idx = 0\n",
    "test_img_np  = ((x[img_idx][None, ].astype(np.float32) ))\n",
    "with torch.no_grad():\n",
    "    img_t = torch.Tensor(test_img_np).to(device)\n",
    "    output = F.softmax(net.forward(img_t)[0], dim =0).cpu().detach().numpy()\n"
   ]
  },
  {
   "cell_type": "code",
   "execution_count": null,
   "id": "00195642",
   "metadata": {
    "scrolled": true
   },
   "outputs": [],
   "source": [
    "fig, axes = plt.subplots(ncols = 5, figsize = (20,4))\n",
    "axes[0].imshow(x[img_idx][0])\n",
    "axes[1].imshow(np.argmax(output, axis=0),vmin =-1, vmax = 2)\n",
    "target = np.copy(y[img_idx]).astype(np.int16)\n",
    "target[np.where(target == 255)] =-1\n",
    "axes[2].imshow(target, vmin =-1,vmax = 2)\n",
    "axes[3].imshow((target !=np.argmax(output, axis=0) ))\n",
    "max_val =np.quantile(output.std(axis=0).max() - output.std(axis=0),.90)\n",
    "axes[4].imshow(output.std(axis=0).max() - output.std(axis=0),vmax = max_val)\n",
    "# axes[1].imshow()"
   ]
  },
  {
   "cell_type": "code",
   "execution_count": null,
   "id": "27a16a50",
   "metadata": {},
   "outputs": [],
   "source": [
    "output.std(axis=0).max() - output.std(axis=0)"
   ]
  },
  {
   "cell_type": "code",
   "execution_count": null,
   "id": "dc8af5ea",
   "metadata": {},
   "outputs": [],
   "source": [
    "with torch.no_grad():\n",
    "    img_t = torch.Tensor(x[val_idxs]).to(device)\n",
    "    output = F.softmax(net.forward(img_t), dim =1)\n"
   ]
  },
  {
   "cell_type": "code",
   "execution_count": null,
   "id": "4c10caa9",
   "metadata": {},
   "outputs": [],
   "source": [
    "(torch.argmax(output, dim = 1).detach().cpu().numpy() ==y[val_idxs]).mean()"
   ]
  },
  {
   "cell_type": "code",
   "execution_count": null,
   "id": "6f10d3d4",
   "metadata": {},
   "outputs": [],
   "source": [
    "(torch.argmax(output, dim = 1).detach().cpu().numpy() ==y[val_idxs])[np.where((my_std < np.quantile(my_std, .1)))].mean()"
   ]
  },
  {
   "cell_type": "code",
   "execution_count": null,
   "id": "42d2010a",
   "metadata": {},
   "outputs": [],
   "source": [
    "(torch.argmax(output, dim = 1).detach().cpu().numpy() ==y[val_idxs])[np.where((my_std > np.quantile(my_std, .1)))].mean()"
   ]
  },
  {
   "cell_type": "code",
   "execution_count": null,
   "id": "56ce3c35",
   "metadata": {},
   "outputs": [],
   "source": [
    "len(val_loader)"
   ]
  },
  {
   "cell_type": "code",
   "execution_count": null,
   "id": "5105dad7",
   "metadata": {},
   "outputs": [],
   "source": [
    "val_loader"
   ]
  },
  {
   "cell_type": "code",
   "execution_count": null,
   "id": "b0a3e1f4",
   "metadata": {},
   "outputs": [],
   "source": [
    "eva"
   ]
  },
  {
   "cell_type": "code",
   "execution_count": null,
   "id": "b984fb52",
   "metadata": {},
   "outputs": [],
   "source": [
    "my_std = torch.std(output,dim =1).detach().cpu().numpy()"
   ]
  },
  {
   "cell_type": "code",
   "execution_count": null,
   "id": "b09d89db",
   "metadata": {},
   "outputs": [],
   "source": [
    "torch.argmax(output, dim = 1)"
   ]
  },
  {
   "cell_type": "code",
   "execution_count": null,
   "id": "12d8ccd5",
   "metadata": {},
   "outputs": [],
   "source": [
    "np.where((my_std < np.quantile(my_std, .1)))"
   ]
  },
  {
   "cell_type": "code",
   "execution_count": null,
   "id": "5e84a70f",
   "metadata": {},
   "outputs": [],
   "source": [
    "(torch.argmax(output, dim = 1).detach().cpu().numpy() ==y[val_idxs]).mean()"
   ]
  },
  {
   "cell_type": "code",
   "execution_count": null,
   "id": "fbb6e06d",
   "metadata": {},
   "outputs": [],
   "source": []
  },
  {
   "cell_type": "code",
   "execution_count": null,
   "id": "fc620b16",
   "metadata": {},
   "outputs": [],
   "source": []
  },
  {
   "cell_type": "code",
   "execution_count": null,
   "id": "1f1c3a78",
   "metadata": {},
   "outputs": [],
   "source": [
    "output.shape"
   ]
  },
  {
   "cell_type": "code",
   "execution_count": null,
   "id": "44a5446b",
   "metadata": {},
   "outputs": [],
   "source": [
    "1-dice_loss(output, torch.Tensor(y[val_idxs]).to(device), num_classes, multiclass=True)"
   ]
  },
  {
   "cell_type": "code",
   "execution_count": null,
   "id": "2690ad66",
   "metadata": {},
   "outputs": [],
   "source": []
  },
  {
   "cell_type": "code",
   "execution_count": null,
   "id": "6d426bca",
   "metadata": {},
   "outputs": [],
   "source": []
  },
  {
   "cell_type": "code",
   "execution_count": null,
   "id": "199efcf2",
   "metadata": {},
   "outputs": [],
   "source": [
    "from dice_score import dice_loss"
   ]
  },
  {
   "cell_type": "code",
   "execution_count": null,
   "id": "07c19997",
   "metadata": {},
   "outputs": [],
   "source": [
    "dice_loss()"
   ]
  },
  {
   "cell_type": "code",
   "execution_count": null,
   "id": "8934f4a0",
   "metadata": {},
   "outputs": [],
   "source": [
    "num_classes"
   ]
  },
  {
   "cell_type": "code",
   "execution_count": null,
   "id": "2e9ab8f7",
   "metadata": {},
   "outputs": [],
   "source": []
  },
  {
   "cell_type": "code",
   "execution_count": null,
   "id": "ac66bad3",
   "metadata": {
    "scrolled": true
   },
   "outputs": [],
   "source": []
  },
  {
   "cell_type": "code",
   "execution_count": null,
   "id": "a186d962",
   "metadata": {},
   "outputs": [],
   "source": []
  },
  {
   "cell_type": "code",
   "execution_count": null,
   "id": "33f24262",
   "metadata": {},
   "outputs": [],
   "source": [
    "np.quantile(output.std(axis=0).max() - output.std(axis=0), .9)"
   ]
  },
  {
   "cell_type": "code",
   "execution_count": null,
   "id": "64bbcf1f",
   "metadata": {},
   "outputs": [],
   "source": [
    "output.std(axis=0).max()"
   ]
  },
  {
   "cell_type": "code",
   "execution_count": null,
   "id": "5bfcf333",
   "metadata": {},
   "outputs": [],
   "source": [
    "(target ==np.argmax(output, axis=0) ).mean()"
   ]
  },
  {
   "cell_type": "code",
   "execution_count": null,
   "id": "f16acaf9",
   "metadata": {},
   "outputs": [],
   "source": [
    "output.std(axis=0)"
   ]
  },
  {
   "cell_type": "code",
   "execution_count": null,
   "id": "628c1285",
   "metadata": {},
   "outputs": [],
   "source": []
  },
  {
   "cell_type": "code",
   "execution_count": null,
   "id": "a065bec2",
   "metadata": {},
   "outputs": [],
   "source": []
  },
  {
   "attachments": {},
   "cell_type": "markdown",
   "id": "03e26ab6",
   "metadata": {},
   "source": [
    "# old stuff"
   ]
  },
  {
   "cell_type": "code",
   "execution_count": null,
   "id": "989fda76",
   "metadata": {},
   "outputs": [],
   "source": [
    "for i in range(4):\n",
    "    img_idx = i\n",
    "    test_img_np  = ((x[img_idx][None, ].astype(np.float32) ))\n",
    "    with torch.no_grad():\n",
    "        img_t = torch.Tensor(test_img_np).to(device)\n",
    "        output = net.forward(img_t).cpu().detach().numpy()[0]\n",
    "        show_img = np.zeros_like(y[img_idx])\n",
    "        show_img[np.where(y[img_idx] ==my_data.phase_1)] =1\n",
    "        show_img[np.where(y[img_idx] ==my_data.phase_2)] =2\n",
    "        print((show_img ==np.argmax(output, axis=0)).mean())\n"
   ]
  },
  {
   "cell_type": "code",
   "execution_count": null,
   "id": "f93364aa",
   "metadata": {
    "scrolled": false
   },
   "outputs": [],
   "source": [
    "img_idx = -1\n",
    "test_img_np  = ((x[img_idx][None, ].astype(np.float32) -my_data.mean)/my_data.std)\n",
    "with torch.no_grad():\n",
    "    img_t = torch.Tensor(test_img_np).to(device)\n",
    "    output = net.forward(img_t).cpu().detach().numpy()[0]\n"
   ]
  },
  {
   "cell_type": "code",
   "execution_count": null,
   "id": "8457e75c",
   "metadata": {},
   "outputs": [],
   "source": [
    "show_img = np.zeros_like(y[img_idx])\n",
    "show_img[np.where(y[img_idx] ==my_data.phase_1)] =1\n",
    "show_img[np.where(y[img_idx] ==my_data.phase_2)] =2"
   ]
  },
  {
   "cell_type": "code",
   "execution_count": null,
   "id": "5859fa6c",
   "metadata": {},
   "outputs": [],
   "source": [
    "std_large = output.std(axis=0)<np.quantile(output.std(axis=0), .1)\n",
    "\n",
    "fig, axes = plt.subplots(ncols = 5, figsize = (20,7))\n",
    "axes[0].imshow(x[img_idx,2])\n",
    "axes[1].imshow(np.argmax(output, axis=0))\n",
    "axes[2].imshow(show_img)\n",
    "axes[3].imshow(show_img !=np.argmax(output, axis=0) )\n",
    "\n",
    "axes[4].imshow(std_large)"
   ]
  },
  {
   "cell_type": "code",
   "execution_count": null,
   "id": "d33118fc",
   "metadata": {},
   "outputs": [],
   "source": [
    "x.shape"
   ]
  },
  {
   "cell_type": "code",
   "execution_count": null,
   "id": "05f30cc7",
   "metadata": {},
   "outputs": [],
   "source": [
    "std_large = output.std(axis=0)<np.quantile(output.std(axis=0), .05)\n",
    "\n",
    "fig, axes = plt.subplots(ncols = 3, figsize = (20,8))\n",
    "# axes[0].imshow(x[img_idx,2])\n",
    "axes[0].imshow(np.argmax(output, axis=0))\n",
    "# axes[2].imshow(show_img)\n",
    "axes[1].imshow(show_img !=np.argmax(output, axis=0) )\n",
    "\n",
    "axes[2].imshow(std_large)"
   ]
  },
  {
   "cell_type": "code",
   "execution_count": null,
   "id": "d8607c09",
   "metadata": {},
   "outputs": [],
   "source": [
    "(show_img !=np.argmax(output, axis=0))[np.where(1-std_large)].mean()"
   ]
  },
  {
   "cell_type": "code",
   "execution_count": null,
   "id": "7abc430f",
   "metadata": {},
   "outputs": [],
   "source": [
    "(show_img ==np.argmax(output, axis=0)).mean()"
   ]
  },
  {
   "cell_type": "code",
   "execution_count": null,
   "id": "ae87a03d",
   "metadata": {},
   "outputs": [],
   "source": []
  },
  {
   "cell_type": "code",
   "execution_count": null,
   "id": "5fd228a5",
   "metadata": {},
   "outputs": [],
   "source": [
    "correct = np.reshape(show_img !=np.argmax(output, axis=0),-1)\n",
    "std = np.reshape(output.std(axis=0), -1)"
   ]
  },
  {
   "cell_type": "code",
   "execution_count": null,
   "id": "c7ee65d2",
   "metadata": {},
   "outputs": [],
   "source": [
    "std_large = output.std(axis=0)<np.quantile(output.std(axis=0), .1)\n",
    "\n",
    "fig, axes = plt.subplots(ncols = 5, figsize = (20,7))\n",
    "axes[0].imshow(x[img_idx,2])\n",
    "axes[1].imshow(np.argmax(output, axis=0))\n",
    "axes[2].imshow(show_img)\n",
    "axes[3].imshow(show_img !=np.argmax(output, axis=0) )\n",
    "\n",
    "axes[4].imshow(std_large)"
   ]
  },
  {
   "cell_type": "code",
   "execution_count": null,
   "id": "75995f0c",
   "metadata": {},
   "outputs": [],
   "source": [
    "std_large = output.std(axis=0)<np.quantile(output.std(axis=0), .1)\n",
    "\n",
    "fig, axes = plt.subplots(ncols = 1, figsize = (20,7))\n",
    "axes.imshow(x[img_idx,2][200:400,350:600])\n",
    "\n",
    "# axes[4].imshow(std_large)"
   ]
  },
  {
   "cell_type": "code",
   "execution_count": null,
   "id": "fa2e2ca6",
   "metadata": {},
   "outputs": [],
   "source": [
    "x.shape"
   ]
  },
  {
   "cell_type": "code",
   "execution_count": null,
   "id": "78a9494c",
   "metadata": {},
   "outputs": [],
   "source": [
    "plt.imshow(x[0,2])"
   ]
  },
  {
   "cell_type": "code",
   "execution_count": null,
   "id": "e7fec01f",
   "metadata": {},
   "outputs": [],
   "source": [
    "plt.imshow(x[-1,2])"
   ]
  },
  {
   "cell_type": "code",
   "execution_count": null,
   "id": "dfaa8be0",
   "metadata": {},
   "outputs": [],
   "source": [
    "x[img_idx,2][200:400,350:600]"
   ]
  }
 ],
 "metadata": {
  "kernelspec": {
   "display_name": "my_science",
   "language": "python",
   "name": "python3"
  },
  "language_info": {
   "codemirror_mode": {
    "name": "ipython",
    "version": 3
   },
   "file_extension": ".py",
   "mimetype": "text/x-python",
   "name": "python",
   "nbconvert_exporter": "python",
   "pygments_lexer": "ipython3",
   "version": "3.11.4"
  },
  "vscode": {
   "interpreter": {
    "hash": "fe90bd0bfe1f7c0a3a21ff6777adbd41ff0f7f2f3655c7130ab5c5c9a3300e3e"
   }
  }
 },
 "nbformat": 4,
 "nbformat_minor": 5
}
