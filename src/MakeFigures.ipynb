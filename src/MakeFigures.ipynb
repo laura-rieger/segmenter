{
 "cells": [
  {
   "attachments": {},
   "cell_type": "markdown",
   "metadata": {},
   "source": [
    "# Repeat annotation as a baseline"
   ]
  }
 ],
 "metadata": {
  "kernelspec": {
   "display_name": "my_science",
   "language": "python",
   "name": "python3"
  },
  "language_info": {
   "name": "python",
   "version": "3.9.13 | packaged by conda-forge | (main, May 27 2022, 16:51:29) [MSC v.1929 64 bit (AMD64)]"
  },
  "orig_nbformat": 4,
  "vscode": {
   "interpreter": {
    "hash": "fe90bd0bfe1f7c0a3a21ff6777adbd41ff0f7f2f3655c7130ab5c5c9a3300e3e"
   }
  }
 },
 "nbformat": 4,
 "nbformat_minor": 2
}
