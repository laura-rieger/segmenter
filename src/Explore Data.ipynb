{
 "cells": [
  {
   "cell_type": "code",
   "execution_count": null,
   "id": "9e4e7e49",
   "metadata": {},
   "outputs": [],
   "source": [
    "%load_ext autoreload\n",
    "%autoreload 2\n",
    "%matplotlib inline"
   ]
  },
  {
   "cell_type": "code",
   "execution_count": null,
   "id": "6bd43c9e",
   "metadata": {},
   "outputs": [],
   "source": [
    "import my_data\n",
    "import numpy as np\n",
    "import matplotlib.pyplot as plt\n",
    "import configparser\n",
    "from os.path import join as oj\n",
    "config = configparser.ConfigParser()\n",
    "config.read(\"../config.ini\")\n",
    "save_path = config[\"PATHS\"][\"model_path\"]"
   ]
  },
  {
   "cell_type": "code",
   "execution_count": null,
   "id": "ed21a0ca",
   "metadata": {},
   "outputs": [],
   "source": [
    "x, y, num_classes, class_dict = my_data.load_layer_data(\n",
    "    oj(config[\"DATASET\"][\"data_path\"], \"lno\")\n",
    ")"
   ]
  },
  {
   "cell_type": "code",
   "execution_count": null,
   "id": "1227854f",
   "metadata": {},
   "outputs": [],
   "source": [
    "x_ho, y_ho, num_classes_ho, class_dict_ho = my_data.load_layer_data(\n",
    "    oj(config[\"DATASET\"][\"data_path\"], \"lno_halfHour\")\n",
    ")"
   ]
  },
  {
   "cell_type": "code",
   "execution_count": null,
   "id": "a4e4f6cd",
   "metadata": {},
   "outputs": [],
   "source": [
    "import numpy as np\n",
    "my_arr = [4,5,6,6,7]\n",
    "my_arr = np.asarray(my_arr)\n",
    "print(my_arr[3,2])"
   ]
  },
  {
   "cell_type": "code",
   "execution_count": null,
   "id": "0c26f64f",
   "metadata": {},
   "outputs": [],
   "source": [
    "np.random.choice(10, 3, replace=False)"
   ]
  },
  {
   "cell_type": "code",
   "execution_count": null,
   "id": "b32d192c",
   "metadata": {},
   "outputs": [],
   "source": [
    "np.unique(y)"
   ]
  },
  {
   "cell_type": "code",
   "execution_count": null,
   "id": "657600d3",
   "metadata": {},
   "outputs": [],
   "source": [
    "np.unique(y_ho)"
   ]
  },
  {
   "cell_type": "code",
   "execution_count": null,
   "id": "a446ef2a",
   "metadata": {},
   "outputs": [],
   "source": [
    "fig, axes = plt.subplots(1, 2, figsize=(10, 5))\n",
    "axes[0].imshow(x[0, 0, :, :])\n",
    "axes[1].imshow(y[ 0, :, :], vmin =-1, vmax = 2)\n",
    "# ax"
   ]
  },
  {
   "cell_type": "code",
   "execution_count": null,
   "id": "2ad6d126",
   "metadata": {},
   "outputs": [],
   "source": [
    "fig, axes = plt.subplots(1, 2, figsize=(10, 5))\n",
    "test_show = y_ho[2, :, :].astype(np.int32)\n",
    "test_show[test_show == 255] = -1\n",
    "axes[0].imshow(x_ho[2, 0, :, :])\n",
    "axes[1].imshow(test_show, vmin =-1, vmax = 2)"
   ]
  },
  {
   "cell_type": "code",
   "execution_count": null,
   "id": "f229bc43",
   "metadata": {},
   "outputs": [],
   "source": [
    "plt.hist(x_ho.flatten(), density=True, bins =100);\n",
    "plt.hist(x.flatten(), alpha = 0.5, color = 'red', density=True,bins =100);\n",
    "plt.ylim(0, 0.03)"
   ]
  },
  {
   "cell_type": "code",
   "execution_count": null,
   "id": "df950383",
   "metadata": {},
   "outputs": [],
   "source": [
    "x[0,0,0,0]"
   ]
  },
  {
   "cell_type": "code",
   "execution_count": null,
   "id": "bb5952ba",
   "metadata": {},
   "outputs": [],
   "source": []
  }
 ],
 "metadata": {
  "kernelspec": {
   "display_name": "Python (my_science)",
   "language": "python",
   "name": "my_science"
  },
  "language_info": {
   "codemirror_mode": {
    "name": "ipython",
    "version": 3
   },
   "file_extension": ".py",
   "mimetype": "text/x-python",
   "name": "python",
   "nbconvert_exporter": "python",
   "pygments_lexer": "ipython3",
   "version": "3.9.13"
  },
  "vscode": {
   "interpreter": {
    "hash": "fe90bd0bfe1f7c0a3a21ff6777adbd41ff0f7f2f3655c7130ab5c5c9a3300e3e"
   }
  }
 },
 "nbformat": 4,
 "nbformat_minor": 5
}
