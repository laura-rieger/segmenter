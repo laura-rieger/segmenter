{
 "cells": [
  {
   "cell_type": "code",
   "execution_count": 4,
   "id": "97e44b4c",
   "metadata": {},
   "outputs": [
    {
     "name": "stdout",
     "output_type": "stream",
     "text": [
      "The autoreload extension is already loaded. To reload it, use:\n",
      "  %reload_ext autoreload\n"
     ]
    }
   ],
   "source": [
    "%load_ext autoreload\n",
    "%autoreload 2\n",
    "%matplotlib inline\n",
    "import os\n",
    "import sys \n",
    "sys.path.insert(0, \"../src\")\n",
    "\n",
    "from skimage import data, io, filters\n",
    "import configparser\n",
    "import pandas as pd \n",
    "import numpy as np\n",
    "import torch\n",
    "import matplotlib.pyplot as plt\n",
    "from tqdm.notebook import tqdm\n",
    "# from utils.dice_score import multiclass_dice_coeff, dice_coeff\n",
    "from matplotlib import cycler\n",
    "from os.path import join as oj\n",
    "from torch.utils.data import DataLoader, TensorDataset\n",
    "from sklearn.model_selection import train_test_split\n",
    "from torch.utils.data import TensorDataset, DataLoader\n",
    "import pickle as pkl\n",
    "from sklearn.preprocessing import StandardScaler,MinMaxScaler\n",
    "\n",
    "\n",
    "from torch import optim\n",
    "from torch.utils.data import DataLoader, TensorDataset\n",
    "import my_data\n",
    "# from utils.dice_score import dice_loss\n",
    "from evaluate import evaluate\n",
    "from unet import UNet\n",
    "from predict import predict_img\n",
    "import seaborn as sns\n",
    "import pickle as pkl\n",
    "\n",
    "pd.set_option('display.float_format', lambda x: '%.2f' % x)\n",
    "cuda = False # torch.cuda.is_available()\n",
    "device = torch.device(\"cuda:0\" if cuda else \"cpu\")\n",
    "config = configparser.ConfigParser()\n",
    "config.read('../config.ini');\n",
    "data_path =config['DATASET']['data_path'] \n"
   ]
  },
  {
   "cell_type": "code",
   "execution_count": 3,
   "id": "ec9c243b",
   "metadata": {},
   "outputs": [
    {
     "ename": "NameError",
     "evalue": "name 'config' is not defined",
     "output_type": "error",
     "traceback": [
      "\u001b[1;31m---------------------------------------------------------------------------\u001b[0m",
      "\u001b[1;31mNameError\u001b[0m                                 Traceback (most recent call last)",
      "\u001b[1;32m~\\AppData\\Local\\Temp\\ipykernel_20624\\3607741443.py\u001b[0m in \u001b[0;36m<cell line: 1>\u001b[1;34m()\u001b[0m\n\u001b[1;32m----> 1\u001b[1;33m \u001b[0mfnames\u001b[0m \u001b[1;33m=\u001b[0m \u001b[0msorted\u001b[0m\u001b[1;33m(\u001b[0m\u001b[1;33m[\u001b[0m\u001b[0moj\u001b[0m\u001b[1;33m(\u001b[0m\u001b[0mconfig\u001b[0m\u001b[1;33m[\u001b[0m\u001b[1;34m'PATHS'\u001b[0m\u001b[1;33m]\u001b[0m\u001b[1;33m[\u001b[0m\u001b[1;34m'model_path'\u001b[0m\u001b[1;33m]\u001b[0m \u001b[1;33m,\u001b[0m \u001b[0mfname\u001b[0m\u001b[1;33m)\u001b[0m \u001b[1;32mfor\u001b[0m \u001b[0mfname\u001b[0m \u001b[1;32min\u001b[0m \u001b[0mos\u001b[0m\u001b[1;33m.\u001b[0m\u001b[0mlistdir\u001b[0m\u001b[1;33m(\u001b[0m\u001b[0mconfig\u001b[0m\u001b[1;33m[\u001b[0m\u001b[1;34m'PATHS'\u001b[0m\u001b[1;33m]\u001b[0m\u001b[1;33m[\u001b[0m\u001b[1;34m'model_path'\u001b[0m\u001b[1;33m]\u001b[0m \u001b[1;33m)\u001b[0m \u001b[1;32mif\u001b[0m \u001b[1;34m\"pkl\"\u001b[0m \u001b[1;32min\u001b[0m \u001b[0mfname\u001b[0m\u001b[1;33m]\u001b[0m\u001b[1;33m)\u001b[0m\u001b[1;33m\u001b[0m\u001b[1;33m\u001b[0m\u001b[0m\n\u001b[0m\u001b[0;32m      2\u001b[0m \u001b[0mresults_list\u001b[0m \u001b[1;33m=\u001b[0m \u001b[1;33m[\u001b[0m\u001b[0mpd\u001b[0m\u001b[1;33m.\u001b[0m\u001b[0mSeries\u001b[0m\u001b[1;33m(\u001b[0m\u001b[0mpkl\u001b[0m\u001b[1;33m.\u001b[0m\u001b[0mload\u001b[0m\u001b[1;33m(\u001b[0m\u001b[0mopen\u001b[0m\u001b[1;33m(\u001b[0m\u001b[0mfname\u001b[0m\u001b[1;33m,\u001b[0m \u001b[1;34m\"rb\"\u001b[0m\u001b[1;33m)\u001b[0m\u001b[1;33m)\u001b[0m\u001b[1;33m)\u001b[0m \u001b[1;32mfor\u001b[0m \u001b[0mfname\u001b[0m \u001b[1;32min\u001b[0m \u001b[1;33m(\u001b[0m\u001b[0mfnames\u001b[0m\u001b[1;33m)\u001b[0m\u001b[1;33m]\u001b[0m\u001b[1;33m\u001b[0m\u001b[1;33m\u001b[0m\u001b[0m\n",
      "\u001b[1;31mNameError\u001b[0m: name 'config' is not defined"
     ]
    }
   ],
   "source": [
    "fnames = sorted([oj(config['PATHS']['model_path'] , fname) for fname in os.listdir(config['PATHS']['model_path'] ) if \"pkl\" in fname]) \n",
    "results_list = [pd.Series(pkl.load(open(fname, \"rb\"))) for fname in (fnames)] \n"
   ]
  },
  {
   "cell_type": "code",
   "execution_count": null,
   "id": "e3369917",
   "metadata": {},
   "outputs": [],
   "source": [
    "results = pd.concat(results_list, axis=1).T.infer_objects()\n",
    "\n",
    "results.experiment_name.unique()\n",
    "results['best_val_score'] = [max(x) for x in results.val_scores]"
   ]
  },
  {
   "cell_type": "code",
   "execution_count": null,
   "id": "0f1c5b90",
   "metadata": {},
   "outputs": [],
   "source": [
    "results.experiment_name.unique()"
   ]
  },
  {
   "cell_type": "code",
   "execution_count": null,
   "id": "463ae252",
   "metadata": {},
   "outputs": [],
   "source": [
    "results = results[results.experiment_name == \"BaselineFullDataset\"]\n",
    "# results = results[results.dataset == \"lno\"]"
   ]
  },
  {
   "cell_type": "code",
   "execution_count": null,
   "id": "4d834715",
   "metadata": {
    "scrolled": false
   },
   "outputs": [],
   "source": [
    "results[['experiment_name','best_val_score', 'cost_function']].groupby('cost_function').mean()"
   ]
  },
  {
   "cell_type": "code",
   "execution_count": null,
   "id": "2287beb8",
   "metadata": {},
   "outputs": [],
   "source": [
    "results"
   ]
  },
  {
   "cell_type": "code",
   "execution_count": null,
   "id": "eaebd8b1",
   "metadata": {},
   "outputs": [],
   "source": [
    "results = results.reset_index()"
   ]
  },
  {
   "cell_type": "code",
   "execution_count": null,
   "id": "f156b7f7",
   "metadata": {
    "scrolled": true
   },
   "outputs": [],
   "source": [
    "x,y, _, _ = my_data.load_layer_data(oj(data_path, 'lno'))\n",
    "data_mean = x[:-4].mean()\n",
    "data_std = x[:-4].std()\n",
    "y_second= my_data.load_single_file(oj(data_path, 'lno_second_annotation'))\n",
    "y_second_formatted = np.copy(y_second)\n",
    "y_second_formatted_vals = np.unique(y_second_formatted)\n",
    "for i,val in enumerate(y_second_formatted_vals):\n",
    "    y_second_formatted[y_second == val] = i\n",
    "\n",
    "# y_second_formatted[y_second_formatted == 2] = 1"
   ]
  },
  {
   "cell_type": "code",
   "execution_count": null,
   "id": "acd10735",
   "metadata": {},
   "outputs": [],
   "source": [
    "net = UNet(1, 3, bilinear = results.bilinear[0]).to(device)\n",
    "# load state dict\n",
    "net.load_state_dict(torch.load(oj(config['PATHS']['model_path'] ,results.file_name[0]+\".pt\")));\n",
    "net.eval();"
   ]
  },
  {
   "attachments": {},
   "cell_type": "markdown",
   "id": "322a93e7",
   "metadata": {},
   "source": [
    "# Human comparison"
   ]
  },
  {
   "cell_type": "code",
   "execution_count": null,
   "id": "ee888de2",
   "metadata": {},
   "outputs": [],
   "source": [
    "\n",
    "test_img_np  = ((x[-1][None, ].astype(np.float32)))\n"
   ]
  },
  {
   "cell_type": "code",
   "execution_count": null,
   "id": "8fb532f9",
   "metadata": {},
   "outputs": [],
   "source": [
    "output_list = []\n",
    "output_list.append(y[-1])\n",
    "output_list.append(y_second_formatted[-1])\n",
    "real_val_list = []\n",
    "for i in range(len(results)):\n",
    "    my_models = [UNet(1, 3, bilinear = results.bilinear[0]).to(device) for i, _ in enumerate(results.file_name)] \n",
    "    print(i)\n",
    "\n",
    "    net.load_state_dict(torch.load(oj(config['PATHS']['model_path'] ,results.file_name[i]+\".pt\")))\n",
    "    net= net.to(device).eval()\n",
    "    with torch.no_grad():\n",
    "        img_t = torch.Tensor(test_img_np).to(device)\n",
    "        output = net.forward(img_t).cpu().detach().numpy()[0]\n",
    "        nn_y = np.argmax(output, axis=0) \n",
    "        real_val_list.append(output == output.max(axis=0))\n",
    "        output_list.append(np.copy(nn_y))\n",
    "\n"
   ]
  },
  {
   "cell_type": "code",
   "execution_count": null,
   "id": "48a05e23",
   "metadata": {},
   "outputs": [],
   "source": [
    "agreement_matrix = np.zeros((len(output_list),len(output_list)))\n",
    "for i in range(len(output_list)):\n",
    "    for j in range(len(output_list)):\n",
    "        agreement_matrix[i,j] = (output_list[i] == output_list[j]).mean()"
   ]
  },
  {
   "cell_type": "code",
   "execution_count": null,
   "id": "11c9c8bd",
   "metadata": {},
   "outputs": [],
   "source": [
    "# plot a matrix with max and min values 0 and 1\n",
    "fig, ax = plt.subplots(figsize=(10,10))\n",
    "sns.heatmap(agreement_matrix, annot=True, fmt=\".2f\", cmap=\"YlGnBu_r\", ax=ax)\n",
    "ax.set_title(\"Agreement Matrix\")\n",
    "ax.set_xlabel(\"Model\")\n",
    "ax.set_ylabel(\"Model\")\n",
    "plt.show()\n",
    "\n"
   ]
  },
  {
   "cell_type": "code",
   "execution_count": null,
   "id": "36edecf5",
   "metadata": {},
   "outputs": [],
   "source": [
    "print(\"NN agreement: \", (nn_y == y[-1]).mean())"
   ]
  },
  {
   "cell_type": "code",
   "execution_count": null,
   "id": "eef6b1c9",
   "metadata": {},
   "outputs": [],
   "source": [
    "print(\"NN agreement: \", (nn_y == y_second[3]).mean())"
   ]
  },
  {
   "cell_type": "code",
   "execution_count": null,
   "id": "8c81b8d3",
   "metadata": {},
   "outputs": [],
   "source": []
  }
 ],
 "metadata": {
  "kernelspec": {
   "display_name": "my_science",
   "language": "python",
   "name": "python3"
  },
  "language_info": {
   "codemirror_mode": {
    "name": "ipython",
    "version": 3
   },
   "file_extension": ".py",
   "mimetype": "text/x-python",
   "name": "python",
   "nbconvert_exporter": "python",
   "pygments_lexer": "ipython3",
   "version": "3.9.13"
  },
  "vscode": {
   "interpreter": {
    "hash": "fe90bd0bfe1f7c0a3a21ff6777adbd41ff0f7f2f3655c7130ab5c5c9a3300e3e"
   }
  }
 },
 "nbformat": 4,
 "nbformat_minor": 5
}
