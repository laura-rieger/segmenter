{
 "cells": [
  {
   "cell_type": "code",
   "execution_count": null,
   "id": "97e44b4c",
   "metadata": {},
   "outputs": [],
   "source": [
    "%load_ext autoreload\n",
    "%autoreload 2\n",
    "%matplotlib inline\n",
    "import os\n",
    "import sys \n",
    "from torch.nn import functional as F\n",
    "import configparser\n",
    "import pandas as pd \n",
    "\n",
    "import numpy as np\n",
    "import torch\n",
    "import matplotlib.pyplot as plt\n",
    "\n",
    "import matplotlib\n",
    "# import evaluate\n",
    "matplotlib.rcParams['mathtext.fontset'] = 'stix'\n",
    "matplotlib.rcParams['font.family'] = 'STIXGeneral'\n",
    "from os.path import join as oj\n",
    "sys.path.insert(0, \"../src\")\n",
    "import my_data\n",
    "import pickle as pkl\n",
    "import predict\n",
    "pd.set_option('display.float_format', lambda x: '%.3f' % x)\n",
    "cuda = torch.cuda.is_available()\n",
    "device = torch.device(\"cuda:0\" if cuda else \"cpu\")\n",
    "config = configparser.ConfigParser()\n",
    "config.read('../config.ini');\n",
    "data_path =config['DATASET']['data_path'] \n",
    "fig_path =config['PATHS']['figure_path'] \n",
    "import segmentation_models_pytorch as smp\n"
   ]
  },
  {
   "cell_type": "code",
   "execution_count": null,
   "id": "6056e815",
   "metadata": {},
   "outputs": [],
   "source": [
    "# need exp with no active learning\n",
    "# need exp with prop increasingf\n",
    "fnames = sorted([oj(config['PATHS']['model_path'] , fname) for fname in os.listdir(config['PATHS']['model_path'] ) if \"pkl\" in fname]) \n",
    "results_list = [pd.Series(pkl.load(open(fname, \"rb\"))) for fname in (fnames)] \n",
    "results = pd.concat(results_list, axis=1).T.infer_objects()\n",
    "\n",
    "\n",
    "results.reset_index(inplace=True)\n",
    "\n",
    "results[['foldername',  'cost_function', 'add_ratio',  'final_dice_score', \n",
    "         'experiment_name']].groupby([ 'experiment_name', 'cost_function','add_ratio', \n",
    "         'foldername' ]).mean()\n"
   ]
  },
  {
   "cell_type": "code",
   "execution_count": 15,
   "id": "912f1675",
   "metadata": {},
   "outputs": [],
   "source": [
    "from torch.utils.data import TensorDataset\n",
    "import my_data\n",
    "x, y, num_classes, class_dict = my_data.load_layer_data( oj(config[\"DATASET\"][\"data_path\"], 'lno') )\n",
    "data_min, data_max = np.min(x[:-1]), np.max(x[:-1])\n",
    "x_test, y_test = x[-1:], y[-1:]\n",
    "x_pool, y_pool = x[:-1], y[:-1]\n",
    "x_pool_all, y_pool_all = my_data.make_dataset( x_pool, y_pool, img_size=128, offset=128, )\n",
    "pool_set = TensorDataset( *[ torch.from_numpy(x_pool_all), torch.from_numpy(y_pool_all), ] )"
   ]
  },
  {
   "cell_type": "code",
   "execution_count": 24,
   "id": "a55915f6",
   "metadata": {},
   "outputs": [],
   "source": [
    "net = smp.Unet(\n",
    "    encoder_name=\"resnet34\", encoder_weights=None,  \n",
    "    in_channels=1,                  \n",
    "    classes=3,\n",
    ").to(device=device)"
   ]
  },
  {
   "cell_type": "code",
   "execution_count": null,
   "id": "79e62a3f",
   "metadata": {},
   "outputs": [],
   "source": []
  },
  {
   "cell_type": "code",
   "execution_count": 16,
   "id": "76a17ff5",
   "metadata": {},
   "outputs": [],
   "source": [
    "net = smp.UnetPlusPlus(\n",
    "    encoder_name=\"resnet34\", encoder_weights='imagenet',  \n",
    "    in_channels=1,                  \n",
    "    classes=3,\n",
    ").to(device=device)"
   ]
  },
  {
   "cell_type": "code",
   "execution_count": null,
   "id": "b10f9d5f",
   "metadata": {},
   "outputs": [],
   "source": [
    "results_now = results[results['experiment_name'] == 'ActiveLearning']\n",
    "results_now = results_now[results_now.cost_function == 'emc']\n",
    "results_now = results_now[results_now.add_ratio == 0.02]\n",
    "net.load_state_dict(torch.load(oj(config['PATHS']['model_path'],  results_now.file_name.iloc[0] + '.pt')))\n"
   ]
  },
  {
   "cell_type": "code",
   "execution_count": null,
   "id": "1c9a169c",
   "metadata": {},
   "outputs": [],
   "source": [
    "a = predict.run(net, x_test, data_min, data_max, 512, 3, use_orig_values=True, return_whole = True )\n"
   ]
  },
  {
   "cell_type": "code",
   "execution_count": null,
   "id": "45c8f388",
   "metadata": {},
   "outputs": [],
   "source": [
    "print(\"outside \" + str(np.round((a.argmax(0) == 0).mean(), decimals =3)))\n",
    "\n",
    "\n",
    "print(\"porosity \" + str(np.round((a.argmax(0) == 1).sum() / (a.argmax(0) != 0).sum(), decimals =3)))\n",
    "\n",
    "\n",
    "print(\"lno \" + str(np.round((a.argmax(0) == 2).sum() / (a.argmax(0) != 0).sum(), decimals =3)))"
   ]
  },
  {
   "cell_type": "markdown",
   "id": "eaeb7591",
   "metadata": {},
   "source": [
    "# Test run time of both cost functions"
   ]
  },
  {
   "cell_type": "code",
   "execution_count": 10,
   "metadata": {},
   "outputs": [],
   "source": [
    "\n",
    "from torch.utils.data import DataLoader, TensorDataset, ConcatDataset\n",
    "import evaluate\n",
    "loader_args = dict( batch_size=128, num_workers=1, pin_memory=True )\n",
    "pool_loader = DataLoader(pool_set, shuffle=False, **loader_args)"
   ]
  },
  {
   "cell_type": "code",
   "execution_count": 11,
   "id": "3660546e",
   "metadata": {},
   "outputs": [],
   "source": [
    "\n",
    "from focal_loss.focal_loss import FocalLoss\n",
    "\n",
    "criterion = FocalLoss(gamma=0.7, ignore_index=255)"
   ]
  },
  {
   "cell_type": "code",
   "execution_count": null,
   "id": "d14e812b",
   "metadata": {},
   "outputs": [],
   "source": [
    "import time\n",
    "start = time.time()\n",
    "a = evaluate.emc(net, device, pool_loader, (data_min, data_max), n_choose=-1, num_classes = 3, criterion = criterion, )\n",
    "print(time.time() - start)"
   ]
  },
  {
   "cell_type": "code",
   "execution_count": null,
   "id": "65a5e3a6",
   "metadata": {},
   "outputs": [],
   "source": [
    "start = time.time()\n",
    "a = evaluate.cut_off_cost(net, device, pool_loader, (data_min, data_max), n_choose=-1, num_classes = 3, criterion = criterion, )\n",
    "print(time.time() - start)"
   ]
  },
  {
   "cell_type": "code",
   "execution_count": null,
   "id": "68f14b62",
   "metadata": {},
   "outputs": [],
   "source": [
    "net.decoder\n"
   ]
  },
  {
   "cell_type": "code",
   "execution_count": null,
   "id": "6db42a75",
   "metadata": {},
   "outputs": [],
   "source": []
  }
 ],
 "metadata": {
  "kernelspec": {
   "display_name": "my_science",
   "language": "python",
   "name": "python3"
  },
  "language_info": {
   "codemirror_mode": {
    "name": "ipython",
    "version": 3
   },
   "file_extension": ".py",
   "mimetype": "text/x-python",
   "name": "python",
   "nbconvert_exporter": "python",
   "pygments_lexer": "ipython3",
   "version": "3.11.3"
  },
  "vscode": {
   "interpreter": {
    "hash": "fe90bd0bfe1f7c0a3a21ff6777adbd41ff0f7f2f3655c7130ab5c5c9a3300e3e"
   }
  }
 },
 "nbformat": 4,
 "nbformat_minor": 5
}
