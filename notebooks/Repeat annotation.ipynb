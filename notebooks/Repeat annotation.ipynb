{
 "cells": [
  {
   "cell_type": "code",
   "execution_count": null,
   "id": "97e44b4c",
   "metadata": {},
   "outputs": [],
   "source": [
    "%load_ext autoreload\n",
    "%autoreload 2\n",
    "%matplotlib inline\n",
    "import sys \n",
    "sys.path.insert(0, \"../src\")\n",
    "import configparser\n",
    "import pandas as pd \n",
    "\n",
    "from utils.dice_score import multiclass_dice_coeff\n",
    "import numpy as np\n",
    "import torch\n",
    "import matplotlib.pyplot as plt\n",
    "from os.path import join as oj\n",
    "import my_data\n",
    "pd.set_option('display.float_format', lambda x: '%.3f' % x)\n",
    "cuda =  torch.cuda.is_available()\n",
    "device = torch.device(\"cuda:0\" if cuda else \"cpu\")\n",
    "config = configparser.ConfigParser()\n",
    "config.read('../config.ini');\n",
    "data_path =config['DATASET']['data_path'] \n"
   ]
  },
  {
   "cell_type": "code",
   "execution_count": null,
   "id": "3a7d4e86",
   "metadata": {},
   "outputs": [],
   "source": [
    "x_full,y, _, _ = my_data.load_layer_data(oj(data_path, 'lno'))\n",
    "x_full = x_full[:-1]\n",
    "x_full.size"
   ]
  },
  {
   "cell_type": "code",
   "execution_count": null,
   "id": "2159df19",
   "metadata": {},
   "outputs": [],
   "source": [
    "x,y, _, _ = my_data.load_layer_data(oj(data_path, 'lno_halfHour'))\n",
    "x.size"
   ]
  },
  {
   "cell_type": "code",
   "execution_count": null,
   "id": "38396fb8",
   "metadata": {},
   "outputs": [],
   "source": [
    "(y!=255).mean() *x.size "
   ]
  },
  {
   "cell_type": "code",
   "execution_count": null,
   "id": "3b468413",
   "metadata": {},
   "outputs": [],
   "source": [
    "((y!=255).mean() *x.size + 0.02*x_full.size)"
   ]
  },
  {
   "cell_type": "code",
   "execution_count": null,
   "id": "5ef6386e",
   "metadata": {},
   "outputs": [],
   "source": [
    "x_rough,y_rough, _, _ = my_data.load_layer_data(oj(data_path, 'lno_halfHour'))\n",
    "# how many pixels labelled in rough annot\n",
    "print((y_rough == 255).mean())\n",
    "del x_rough\n",
    "del y_rough"
   ]
  },
  {
   "cell_type": "code",
   "execution_count": 4,
   "id": "0bd9dc4b",
   "metadata": {},
   "outputs": [],
   "source": [
    "y_second_formatted = y_second_formatted[1024:, :1024] # only one quarter annotated\n",
    "y = y[-1,1024:, :1024]"
   ]
  },
  {
   "cell_type": "code",
   "execution_count": 5,
   "id": "f6b7a7a0",
   "metadata": {},
   "outputs": [],
   "source": [
    "y_pred = y_second_formatted[None,:]\n",
    "y_pred_one_hot = torch.nn.functional.one_hot(torch.Tensor(y_pred).to(torch.int64), \n",
    "                                            num_classes=3).permute(0, 3, 1, 2).squeeze()[None, :]\n",
    "dice = multiclass_dice_coeff(y_pred_one_hot.float(), \n",
    "                    torch.Tensor(y[None,:]), \n",
    "                    num_classes=3,separated_up = True)\n"
   ]
  },
  {
   "cell_type": "code",
   "execution_count": null,
   "id": "ae87f00b",
   "metadata": {},
   "outputs": [],
   "source": [
    "dice.mean() # all classes"
   ]
  },
  {
   "cell_type": "code",
   "execution_count": null,
   "id": "dc6a8d94",
   "metadata": {},
   "outputs": [],
   "source": [
    "dice"
   ]
  },
  {
   "cell_type": "code",
   "execution_count": null,
   "id": "ab41d8ce",
   "metadata": {},
   "outputs": [],
   "source": [
    "dice[1:].mean() # separated up"
   ]
  },
  {
   "cell_type": "code",
   "execution_count": null,
   "id": "b2ed2d3a",
   "metadata": {},
   "outputs": [],
   "source": [
    "fig, axes = plt.subplots(ncols=3, figsize= (12,4))\n",
    "axes[0].imshow(x[-1, 0,1024:, :1024], cmap = plt.get_cmap('gray')  )\n",
    "axes[1].imshow(y)\n",
    "# add title\n",
    "axes[1].set_title('First annotation', fontsize = 20)\n",
    "axes[2].imshow(y_second_formatted)\n",
    "\n",
    "axes[2].set_title('Second annotation', fontsize = 20)\n",
    "# axes[3].imshow(y != y_second_formatted)\n",
    "# # remove the ticks on x and y\n",
    "# axes[3].set_title('Difference')\n",
    "for ax in axes:\n",
    "    ax.set_xticks([])\n",
    "    ax.set_yticks([])\n",
    "\n",
    "#have a red box in the image\n",
    "rect = plt.Rectangle((250, 550), 200, 200, edgecolor='r', facecolor='none', linewidth=2)\n",
    "axes[2].add_patch(rect)\n",
    "rect = plt.Rectangle((250, 550), 200, 200, edgecolor='r', facecolor='none', linewidth=2)\n",
    "axes[1].add_patch(rect)\n",
    "\n",
    "\n",
    "\n",
    "# axes[3].bar(np.arange(2), [entropy[y == y_second_formatted].mean(), entropy[y != y_second_formatted].mean()],color=['green', 'red'] )\n",
    "# axes[3].set_xticks(np.arange(2))\n",
    "# # make arrows to the plots\n",
    "\n",
    "# axes[3].set_xticklabels(['Annotations match', 'Do not match'], rotation=10, fontsize = 15)\n",
    "# axes[3].set_ylabel('Entropy (NN)', fontsize = 15);\n",
    "# axes[3].set_yticks([0, 0.3, .6])\n",
    "plt.tight_layout()\n",
    "fig_path =config['PATHS']['figure_path'] \n",
    "\n",
    "plt.savefig(oj(fig_path,'lno_annotations.png'), bbox_inches='tight', dpi=300)"
   ]
  },
  {
   "cell_type": "code",
   "execution_count": 12,
   "id": "71d97987",
   "metadata": {},
   "outputs": [],
   "source": [
    "# load a model and\n",
    "\n",
    "from scipy.signal import convolve2d\n",
    "# from unet import UNet\n",
    "import segmentation_models_pytorch as smp\n",
    "# from tqdm.notebook import  tqdm\n",
    "\n",
    "net =  smp.UnetPlusPlus(\n",
    "                        encoder_name=\"resnet34\",\n",
    "                        encoder_weights=\"imagenet\",\n",
    "                        in_channels=1,  # model input channels (1 for gray-scale images, 3 for RGB, etc.)\n",
    "                        classes=3  # model output channels (number of classes in your dataset)\n",
    "                    ).to(device=device)\n",
    "\n",
    "net.load_state_dict(torch.load(oj(config['PATHS']['model_path'] , '0073024568' +  \".pt\" )))\n",
    "y_pred = net(torch.Tensor(x[-1:, 0,1024:, :1024]/255.0)[None, :].to(device))\n",
    "y_pred_softmax = torch.nn.functional.softmax(y_pred[0], dim=0).detach().cpu().numpy()\n",
    "entropy = ( - (y_pred_softmax * np.log(y_pred_softmax)).sum(axis=0))"
   ]
  },
  {
   "cell_type": "code",
   "execution_count": 13,
   "id": "d54266ed",
   "metadata": {},
   "outputs": [],
   "source": [
    "\n",
    "from scipy.signal import convolve2d\n",
    "add_val = 32\n",
    "mean_arr= np.ones((add_val,add_val))/np.square(add_val)\n",
    "\n",
    "\n",
    "correct_vals = convolve2d((y != y_second_formatted).astype(float), mean_arr, mode = 'same')[::add_val, ::add_val].reshape(-1)\n",
    "entropy_smooth = convolve2d(entropy, mean_arr, mode = 'same')[::add_val, ::add_val].reshape(-1)"
   ]
  },
  {
   "cell_type": "code",
   "execution_count": null,
   "id": "05f8dc33",
   "metadata": {},
   "outputs": [],
   "source": [
    "\n",
    "\n",
    "vals = [x*100 for x in [ .1, .2, .3, .4,.5,.6,.7,.8,.9, .95, .99,  .999]]\n",
    "# vals \n",
    "\n",
    "correct_mean = []\n",
    "for i in range(len(vals)):\n",
    "\n",
    "    correct_mean.append(correct_vals[np.where((entropy_smooth > np.percentile(entropy_smooth, vals[i])) )].mean())\n",
    "plt.plot(vals, np.asarray(correct_mean)*100, marker = 'o')\n",
    "\n",
    "\n",
    "ninetyfive = correct_vals[np.where((entropy_smooth > np.percentile(entropy_smooth, 95)) )].mean()*100\n",
    "plt.plot([95, ], [ninetyfive,], marker = 'o', c= 'r', label = \"95%\",)\n",
    "plt.xlabel('Percentile of entropy', fontsize = 15)\n",
    "\n",
    "plt.ylabel('% Wrong pixels', fontsize = 15)\n",
    "plt.legend()\n",
    "# plt.savefig(oj(fig_path,'entropy_corrected.png'), bbox_inches='tight', dpi=300)\n",
    "\n",
    "\n",
    "\n"
   ]
  },
  {
   "cell_type": "markdown",
   "id": "d24d8fa5",
   "metadata": {},
   "source": []
  },
  {
   "cell_type": "code",
   "execution_count": null,
   "id": "349cf960",
   "metadata": {},
   "outputs": [],
   "source": []
  }
 ],
 "metadata": {
  "kernelspec": {
   "display_name": "my_science",
   "language": "python",
   "name": "python3"
  },
  "language_info": {
   "codemirror_mode": {
    "name": "ipython",
    "version": 3
   },
   "file_extension": ".py",
   "mimetype": "text/x-python",
   "name": "python",
   "nbconvert_exporter": "python",
   "pygments_lexer": "ipython3",
   "version": "3.11.3"
  },
  "vscode": {
   "interpreter": {
    "hash": "fe90bd0bfe1f7c0a3a21ff6777adbd41ff0f7f2f3655c7130ab5c5c9a3300e3e"
   }
  }
 },
 "nbformat": 4,
 "nbformat_minor": 5
}
