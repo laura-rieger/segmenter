{
 "cells": [
  {
   "cell_type": "code",
   "execution_count": 8,
   "id": "97e44b4c",
   "metadata": {},
   "outputs": [
    {
     "name": "stdout",
     "output_type": "stream",
     "text": [
      "The autoreload extension is already loaded. To reload it, use:\n",
      "  %reload_ext autoreload\n"
     ]
    }
   ],
   "source": [
    "%load_ext autoreload\n",
    "%autoreload 2\n",
    "%matplotlib inline\n",
    "import os\n",
    "sys.path.insert(0, \"../src\")\n",
    "import sys \n",
    "from skimage import data, io, filters\n",
    "import configparser\n",
    "import pandas as pd \n",
    "import numpy as np\n",
    "import torch\n",
    "import matplotlib.pyplot as plt\n",
    "from tqdm.notebook import tqdm\n",
    "# from utils.dice_score import multiclass_dice_coeff, dice_coeff\n",
    "from matplotlib import cycler\n",
    "from os.path import join as oj\n",
    "from torch.utils.data import DataLoader, TensorDataset\n",
    "from sklearn.model_selection import train_test_split\n",
    "from torch.utils.data import TensorDataset, DataLoader\n",
    "import pickle as pkl\n",
    "from sklearn.preprocessing import StandardScaler,MinMaxScaler\n",
    "\n",
    "\n",
    "from torch import optim\n",
    "from torch.utils.data import DataLoader, TensorDataset\n",
    "import my_data\n",
    "# from utils.dice_score import dice_loss\n",
    "from evaluate import evaluate\n",
    "from unet import UNet\n",
    "from predict import predict_img\n",
    "import seaborn as sns\n",
    "import pickle as pkl\n",
    "\n",
    "pd.set_option('display.float_format', lambda x: '%.2f' % x)\n",
    "cuda = False # torch.cuda.is_available()\n",
    "device = torch.device(\"cuda:0\" if cuda else \"cpu\")\n",
    "config = configparser.ConfigParser()\n",
    "config.read('../config.ini');\n",
    "data_path =config['DATASET']['data_path'] \n"
   ]
  },
  {
   "cell_type": "code",
   "execution_count": 50,
   "id": "ec9c243b",
   "metadata": {},
   "outputs": [],
   "source": [
    "fnames = sorted([oj(config['PATHS']['model_path'] , fname) for fname in os.listdir(config['PATHS']['model_path'] ) if \"pkl\" in fname]) \n",
    "results_list = [pd.Series(pkl.load(open(fname, \"rb\"))) for fname in (fnames)] \n"
   ]
  },
  {
   "cell_type": "code",
   "execution_count": 51,
   "id": "e3369917",
   "metadata": {},
   "outputs": [],
   "source": [
    "results = pd.concat(results_list, axis=1).T.infer_objects()\n",
    "\n",
    "results.experiment_name.unique()\n",
    "results['best_val_score'] = [max(x) for x in results.val_scores]"
   ]
  },
  {
   "cell_type": "code",
   "execution_count": 52,
   "id": "0f1c5b90",
   "metadata": {},
   "outputs": [
    {
     "data": {
      "text/plain": [
       "array(['BaselineFullDataset', 'BaselineNoAquisition'], dtype=object)"
      ]
     },
     "execution_count": 52,
     "metadata": {},
     "output_type": "execute_result"
    }
   ],
   "source": [
    "results.experiment_name.unique()"
   ]
  },
  {
   "cell_type": "code",
   "execution_count": 53,
   "id": "463ae252",
   "metadata": {},
   "outputs": [],
   "source": [
    "results = results[results.experiment_name == \"BaselineFullDataset\"]\n",
    "# results = results[results.dataset == \"lno\"]"
   ]
  },
  {
   "cell_type": "code",
   "execution_count": 54,
   "id": "4d834715",
   "metadata": {
    "scrolled": false
   },
   "outputs": [
    {
     "data": {
      "text/html": [
       "<div>\n",
       "<style scoped>\n",
       "    .dataframe tbody tr th:only-of-type {\n",
       "        vertical-align: middle;\n",
       "    }\n",
       "\n",
       "    .dataframe tbody tr th {\n",
       "        vertical-align: top;\n",
       "    }\n",
       "\n",
       "    .dataframe thead th {\n",
       "        text-align: right;\n",
       "    }\n",
       "</style>\n",
       "<table border=\"1\" class=\"dataframe\">\n",
       "  <thead>\n",
       "    <tr style=\"text-align: right;\">\n",
       "      <th></th>\n",
       "      <th>best_val_score</th>\n",
       "    </tr>\n",
       "    <tr>\n",
       "      <th>cost_function</th>\n",
       "      <th></th>\n",
       "    </tr>\n",
       "  </thead>\n",
       "  <tbody>\n",
       "    <tr>\n",
       "      <th>uncertainty_cost</th>\n",
       "      <td>0.96</td>\n",
       "    </tr>\n",
       "  </tbody>\n",
       "</table>\n",
       "</div>"
      ],
      "text/plain": [
       "                  best_val_score\n",
       "cost_function                   \n",
       "uncertainty_cost            0.96"
      ]
     },
     "execution_count": 54,
     "metadata": {},
     "output_type": "execute_result"
    }
   ],
   "source": [
    "results[['experiment_name','best_val_score', 'cost_function']].groupby('cost_function').mean()"
   ]
  },
  {
   "cell_type": "code",
   "execution_count": 91,
   "id": "2287beb8",
   "metadata": {},
   "outputs": [
    {
     "data": {
      "text/html": [
       "<div>\n",
       "<style scoped>\n",
       "    .dataframe tbody tr th:only-of-type {\n",
       "        vertical-align: middle;\n",
       "    }\n",
       "\n",
       "    .dataframe tbody tr th {\n",
       "        vertical-align: top;\n",
       "    }\n",
       "\n",
       "    .dataframe thead th {\n",
       "        text-align: right;\n",
       "    }\n",
       "</style>\n",
       "<table border=\"1\" class=\"dataframe\">\n",
       "  <thead>\n",
       "    <tr style=\"text-align: right;\">\n",
       "      <th></th>\n",
       "      <th>index</th>\n",
       "      <th>file_name</th>\n",
       "      <th>epochs</th>\n",
       "      <th>batch_size</th>\n",
       "      <th>cost_function</th>\n",
       "      <th>add_ratio</th>\n",
       "      <th>foldername</th>\n",
       "      <th>poolname</th>\n",
       "      <th>experiment_name</th>\n",
       "      <th>lr</th>\n",
       "      <th>...</th>\n",
       "      <th>seed</th>\n",
       "      <th>scale</th>\n",
       "      <th>val</th>\n",
       "      <th>amp</th>\n",
       "      <th>bilinear</th>\n",
       "      <th>classes</th>\n",
       "      <th>val_scores</th>\n",
       "      <th>num_classes</th>\n",
       "      <th>final_dice_score</th>\n",
       "      <th>best_val_score</th>\n",
       "    </tr>\n",
       "  </thead>\n",
       "  <tbody>\n",
       "    <tr>\n",
       "      <th>0</th>\n",
       "      <td>0</td>\n",
       "      <td>0416265941</td>\n",
       "      <td>1000</td>\n",
       "      <td>128</td>\n",
       "      <td>uncertainty_cost</td>\n",
       "      <td>0.00</td>\n",
       "      <td>lno</td>\n",
       "      <td>lno</td>\n",
       "      <td>BaselineFullDataset</td>\n",
       "      <td>0.01</td>\n",
       "      <td>...</td>\n",
       "      <td>1</td>\n",
       "      <td>0.50</td>\n",
       "      <td>10</td>\n",
       "      <td>False</td>\n",
       "      <td>False</td>\n",
       "      <td>6</td>\n",
       "      <td>[0.5306558609008789, 0.7434965968132019, 0.950...</td>\n",
       "      <td>3</td>\n",
       "      <td>0.96</td>\n",
       "      <td>0.96</td>\n",
       "    </tr>\n",
       "    <tr>\n",
       "      <th>1</th>\n",
       "      <td>5</td>\n",
       "      <td>4543548831</td>\n",
       "      <td>1000</td>\n",
       "      <td>128</td>\n",
       "      <td>uncertainty_cost</td>\n",
       "      <td>0.00</td>\n",
       "      <td>lno</td>\n",
       "      <td>lno</td>\n",
       "      <td>BaselineFullDataset</td>\n",
       "      <td>0.01</td>\n",
       "      <td>...</td>\n",
       "      <td>0</td>\n",
       "      <td>0.50</td>\n",
       "      <td>10</td>\n",
       "      <td>False</td>\n",
       "      <td>False</td>\n",
       "      <td>6</td>\n",
       "      <td>[0.4488801956176758, 0.865180492401123, 0.9619...</td>\n",
       "      <td>3</td>\n",
       "      <td>0.96</td>\n",
       "      <td>0.96</td>\n",
       "    </tr>\n",
       "    <tr>\n",
       "      <th>2</th>\n",
       "      <td>8</td>\n",
       "      <td>7744788866</td>\n",
       "      <td>1000</td>\n",
       "      <td>128</td>\n",
       "      <td>uncertainty_cost</td>\n",
       "      <td>0.00</td>\n",
       "      <td>lno</td>\n",
       "      <td>lno</td>\n",
       "      <td>BaselineFullDataset</td>\n",
       "      <td>0.01</td>\n",
       "      <td>...</td>\n",
       "      <td>2</td>\n",
       "      <td>0.50</td>\n",
       "      <td>10</td>\n",
       "      <td>False</td>\n",
       "      <td>False</td>\n",
       "      <td>6</td>\n",
       "      <td>[0.4155906140804291, 0.8366259336471558, 0.962...</td>\n",
       "      <td>3</td>\n",
       "      <td>0.95</td>\n",
       "      <td>0.96</td>\n",
       "    </tr>\n",
       "  </tbody>\n",
       "</table>\n",
       "<p>3 rows × 22 columns</p>\n",
       "</div>"
      ],
      "text/plain": [
       "   index   file_name  epochs  batch_size     cost_function  add_ratio  \\\n",
       "0      0  0416265941    1000         128  uncertainty_cost       0.00   \n",
       "1      5  4543548831    1000         128  uncertainty_cost       0.00   \n",
       "2      8  7744788866    1000         128  uncertainty_cost       0.00   \n",
       "\n",
       "  foldername poolname      experiment_name   lr  ...  seed  scale  val    amp  \\\n",
       "0        lno      lno  BaselineFullDataset 0.01  ...     1   0.50   10  False   \n",
       "1        lno      lno  BaselineFullDataset 0.01  ...     0   0.50   10  False   \n",
       "2        lno      lno  BaselineFullDataset 0.01  ...     2   0.50   10  False   \n",
       "\n",
       "   bilinear  classes                                         val_scores  \\\n",
       "0     False        6  [0.5306558609008789, 0.7434965968132019, 0.950...   \n",
       "1     False        6  [0.4488801956176758, 0.865180492401123, 0.9619...   \n",
       "2     False        6  [0.4155906140804291, 0.8366259336471558, 0.962...   \n",
       "\n",
       "   num_classes final_dice_score  best_val_score  \n",
       "0            3             0.96            0.96  \n",
       "1            3             0.96            0.96  \n",
       "2            3             0.95            0.96  \n",
       "\n",
       "[3 rows x 22 columns]"
      ]
     },
     "execution_count": 91,
     "metadata": {},
     "output_type": "execute_result"
    }
   ],
   "source": [
    "results"
   ]
  },
  {
   "cell_type": "code",
   "execution_count": null,
   "id": "20a10719",
   "metadata": {},
   "outputs": [],
   "source": []
  },
  {
   "cell_type": "code",
   "execution_count": 56,
   "id": "eaebd8b1",
   "metadata": {},
   "outputs": [],
   "source": [
    "results = results.reset_index()"
   ]
  },
  {
   "cell_type": "code",
   "execution_count": 86,
   "id": "f156b7f7",
   "metadata": {
    "scrolled": true
   },
   "outputs": [
    {
     "name": "stderr",
     "output_type": "stream",
     "text": [
      "ImageJ series: invalid metadata or corrupted file ()\n"
     ]
    },
    {
     "name": "stdout",
     "output_type": "stream",
     "text": [
      "TrainSet_v2_secondAnnotation.tif\n",
      "(2048, 2048)\n"
     ]
    }
   ],
   "source": [
    "x,y, _, _ = my_data.load_layer_data(oj(data_path, 'lno'))\n",
    "data_mean = x[:-4].mean()\n",
    "data_std = x[:-4].std()\n",
    "y_second= my_data.load_single_file(oj(data_path, 'lno_second_annotation'))\n",
    "y_second_formatted = np.copy(y_second)\n",
    "y_second_formatted_vals = np.unique(y_second_formatted)\n",
    "for i,val in enumerate(y_second_formatted_vals):\n",
    "    y_second_formatted[y_second == val] = i\n",
    "\n",
    "# y_second_formatted[y_second_formatted == 2] = 1"
   ]
  },
  {
   "cell_type": "code",
   "execution_count": 78,
   "id": "acd10735",
   "metadata": {},
   "outputs": [],
   "source": [
    "net = UNet(1, 3, bilinear = results.bilinear[0]).to(device)\n",
    "# load state dict\n",
    "net.load_state_dict(torch.load(oj(config['PATHS']['model_path'] ,results.file_name[0]+\".pt\")));\n",
    "net.eval();"
   ]
  },
  {
   "cell_type": "markdown",
   "id": "322a93e7",
   "metadata": {},
   "source": [
    "# Human comparison"
   ]
  },
  {
   "cell_type": "code",
   "execution_count": 100,
   "id": "ee888de2",
   "metadata": {},
   "outputs": [],
   "source": [
    "\n",
    "test_img_np  = ((x[-1][None, ].astype(np.float32)))\n"
   ]
  },
  {
   "cell_type": "code",
   "execution_count": 101,
   "id": "8fb532f9",
   "metadata": {},
   "outputs": [
    {
     "name": "stdout",
     "output_type": "stream",
     "text": [
      "0\n",
      "1\n",
      "2\n"
     ]
    }
   ],
   "source": [
    "output_list = []\n",
    "output_list.append(y[-1])\n",
    "output_list.append(y_second_formatted[-1])\n",
    "real_val_list = []\n",
    "for i in range(len(results)):\n",
    "    my_models = [UNet(1, 3, bilinear = results.bilinear[0]).to(device) for i, _ in enumerate(results.file_name)] \n",
    "    print(i)\n",
    "\n",
    "    net.load_state_dict(torch.load(oj(config['PATHS']['model_path'] ,results.file_name[i]+\".pt\")))\n",
    "    net= net.to(device).eval()\n",
    "    with torch.no_grad():\n",
    "        img_t = torch.Tensor(test_img_np).to(device)\n",
    "        output = net.forward(img_t).cpu().detach().numpy()[0]\n",
    "        nn_y = np.argmax(output, axis=0) \n",
    "        real_val_list.append(output == output.max(axis=0))\n",
    "        output_list.append(np.copy(nn_y))\n",
    "\n"
   ]
  },
  {
   "cell_type": "code",
   "execution_count": 126,
   "id": "48a05e23",
   "metadata": {},
   "outputs": [],
   "source": [
    "agreement_matrix = np.zeros((len(output_list),len(output_list)))\n",
    "for i in range(len(output_list)):\n",
    "    for j in range(len(output_list)):\n",
    "        agreement_matrix[i,j] = (output_list[i] == output_list[j]).mean()"
   ]
  },
  {
   "cell_type": "code",
   "execution_count": 137,
   "id": "11c9c8bd",
   "metadata": {},
   "outputs": [
    {
     "data": {
      "image/png": "[encoded data removed]",
      "text/plain": [
       "<Figure size 720x720 with 2 Axes>"
      ]
     },
     "metadata": {
      "needs_background": "light"
     },
     "output_type": "display_data"
    }
   ],
   "source": [
    "# plot a matrix with max and min values 0 and 1\n",
    "fig, ax = plt.subplots(figsize=(10,10))\n",
    "sns.heatmap(agreement_matrix, annot=True, fmt=\".2f\", cmap=\"YlGnBu_r\", ax=ax)\n",
    "ax.set_title(\"Agreement Matrix\")\n",
    "ax.set_xlabel(\"Model\")\n",
    "ax.set_ylabel(\"Model\")\n",
    "plt.show()\n",
    "\n"
   ]
  },
  {
   "cell_type": "code",
   "execution_count": 141,
   "id": "36edecf5",
   "metadata": {},
   "outputs": [
    {
     "name": "stdout",
     "output_type": "stream",
     "text": [
      "NN agreement:  0.9658746719360352\n"
     ]
    }
   ],
   "source": [
    "print(\"NN agreement: \", (nn_y == y[-1]).mean())"
   ]
  },
  {
   "cell_type": "code",
   "execution_count": 142,
   "id": "eef6b1c9",
   "metadata": {},
   "outputs": [
    {
     "name": "stdout",
     "output_type": "stream",
     "text": [
      "NN agreement:  0.000701904296875\n"
     ]
    }
   ],
   "source": [
    "print(\"NN agreement: \", (nn_y == y_second[3]).mean())"
   ]
  }
 ],
 "metadata": {
  "kernelspec": {
   "display_name": "my_science",
   "language": "python",
   "name": "python3"
  },
  "language_info": {
   "codemirror_mode": {
    "name": "ipython",
    "version": 3
   },
   "file_extension": ".py",
   "mimetype": "text/x-python",
   "name": "python",
   "nbconvert_exporter": "python",
   "pygments_lexer": "ipython3",
   "version": "3.9.13 | packaged by conda-forge | (main, May 27 2022, 16:51:29) [MSC v.1929 64 bit (AMD64)]"
  },
  "vscode": {
   "interpreter": {
    "hash": "fe90bd0bfe1f7c0a3a21ff6777adbd41ff0f7f2f3655c7130ab5c5c9a3300e3e"
   }
  }
 },
 "nbformat": 4,
 "nbformat_minor": 5
}
