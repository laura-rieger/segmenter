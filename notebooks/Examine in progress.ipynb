{
 "cells": [
  {
   "cell_type": "code",
   "execution_count": null,
   "id": "97e44b4c",
   "metadata": {},
   "outputs": [],
   "source": [
    "%load_ext autoreload\n",
    "%autoreload 2\n",
    "%matplotlib inline\n",
    "import os\n",
    "import sys \n",
    "\n",
    "import configparser\n",
    "import pandas as pd \n",
    "import numpy as np\n",
    "import torch\n",
    "import matplotlib.pyplot as plt\n",
    "from tqdm.notebook import tqdm\n",
    "\n",
    "from matplotlib import cycler\n",
    "from os.path import join as oj\n",
    "from torch.utils.data import DataLoader, TensorDataset\n",
    "from sklearn.model_selection import train_test_split\n",
    "from torch.utils.data import TensorDataset, DataLoader\n",
    "import pickle as pkl\n",
    "from sklearn.preprocessing import StandardScaler,MinMaxScaler\n",
    "sys.path.insert(0, \"../src\")\n",
    "sys.path.insert(0, \"./src\")\n",
    "from torch.utils.data import DataLoader, TensorDataset\n",
    "import my_data\n",
    "from utils.dice_score import dice_loss\n",
    "from evaluate import evaluate,random_cost,cut_off_cost\n",
    "from unet import UNet\n",
    "# from predict import predict_img\n",
    "import seaborn as sns\n",
    "import pickle as pkl\n",
    "pd.set_option('display.float_format', lambda x: '%.2f' % x)\n",
    "cuda = False # torch.cuda.is_available()\n",
    "device = torch.device(\"cuda:0\" if cuda else \"cpu\")\n",
    "config = configparser.ConfigParser()\n",
    "config.read('../config.ini');\n",
    "data_path =config['DATASET']['data_path'] \n",
    "from torch.nn import functional as F"
   ]
  },
  {
   "cell_type": "code",
   "execution_count": 9,
   "id": "53ed3e78",
   "metadata": {},
   "outputs": [],
   "source": [
    "# go in all of the subfolders and get the names of the files with the folder appended\n",
    "fnames = []\n",
    "for root, dirs, files in os.walk(config['PATHS']['progress_results']):\n",
    "    for file in files:\n",
    "        if file.endswith(\"results.pkl\"):\n",
    "             fnames.append(os.path.join(root, file))"
   ]
  },
  {
   "cell_type": "code",
   "execution_count": null,
   "id": "e3369917",
   "metadata": {},
   "outputs": [],
   "source": [
    "# fnames = sorted([oj(config['PATHS']['progress_results'] , fname) for fname in os.listdir(config['PATHS']['progress_results'] ) if \"pkl\" in fname]) \n",
    "results_list = [pd.Series(pkl.load(open(fname, \"rb\"))) for fname in (fnames)] \n",
    "\n",
    "results = pd.concat(results_list, axis=1).T.infer_objects()\n",
    "\n",
    "results.experiment_name.unique()\n",
    "results['best_val_score'] = [max(x) for x in results.val_scores]\n",
    "results[['foldername', 'best_val_score', 'cost_function', 'add_ratio','experiment_name']]"
   ]
  },
  {
   "cell_type": "code",
   "execution_count": null,
   "id": "c6d88582",
   "metadata": {},
   "outputs": [],
   "source": []
  },
  {
   "cell_type": "code",
   "execution_count": 6,
   "id": "53bbaa60",
   "metadata": {},
   "outputs": [],
   "source": [
    "results = results[results.file_name == '6500866533']\n",
    "results.reset_index(inplace=True)"
   ]
  },
  {
   "cell_type": "code",
   "execution_count": null,
   "id": "ee6f33f6",
   "metadata": {},
   "outputs": [],
   "source": [
    "results"
   ]
  },
  {
   "cell_type": "code",
   "execution_count": null,
   "id": "8b089cd7",
   "metadata": {},
   "outputs": [],
   "source": []
  },
  {
   "cell_type": "code",
   "execution_count": null,
   "id": "45ef1210",
   "metadata": {},
   "outputs": [],
   "source": [
    "plt.plot(results.train_losses)"
   ]
  },
  {
   "cell_type": "code",
   "execution_count": null,
   "id": "df1ba7ec",
   "metadata": {},
   "outputs": [],
   "source": [
    "plt.plot(results.val_scores[0])"
   ]
  },
  {
   "cell_type": "code",
   "execution_count": 132,
   "id": "c83ef0e6",
   "metadata": {},
   "outputs": [],
   "source": [
    "my_id = 0"
   ]
  },
  {
   "cell_type": "code",
   "execution_count": null,
   "id": "fd0d1dce",
   "metadata": {},
   "outputs": [],
   "source": [
    "net = UNet(1, 3, ).to(device)"
   ]
  },
  {
   "cell_type": "code",
   "execution_count": null,
   "id": "df13d140",
   "metadata": {},
   "outputs": [],
   "source": []
  },
  {
   "cell_type": "code",
   "execution_count": null,
   "id": "db0ce644",
   "metadata": {},
   "outputs": [],
   "source": [
    "net = UNet(1, 3, ).to(device)\n",
    "# my_models = [UNet(1, 3, bilinear = results_all.bilinear[0]).to(device) for i, _ in enumerate(results.file_name)] \n",
    "\n",
    "net.load_state_dict(torch.load(oj(config['PATHS']['progress_results'], results.file_name[0], 'model_state.pt')))\n",
    "net = net.to(device).eval()"
   ]
  },
  {
   "cell_type": "code",
   "execution_count": null,
   "id": "e96a7d27",
   "metadata": {},
   "outputs": [],
   "source": [
    "net = net.train()"
   ]
  },
  {
   "cell_type": "code",
   "execution_count": 10,
   "id": "e9cb8f99",
   "metadata": {},
   "outputs": [],
   "source": [
    "x,y,num_classes,_ = my_data.load_layer_data(oj(data_path, 'lno'))"
   ]
  },
  {
   "cell_type": "code",
   "execution_count": 13,
   "id": "faa1a48b",
   "metadata": {},
   "outputs": [],
   "source": [
    "x/=255"
   ]
  },
  {
   "cell_type": "code",
   "execution_count": null,
   "id": "bb4fda15",
   "metadata": {},
   "outputs": [],
   "source": [
    "x.std()"
   ]
  },
  {
   "cell_type": "code",
   "execution_count": null,
   "id": "2fafee4e",
   "metadata": {},
   "outputs": [],
   "source": [
    "plt.imshow(x[0,0,:,:])"
   ]
  },
  {
   "cell_type": "code",
   "execution_count": null,
   "id": "01836331",
   "metadata": {},
   "outputs": [],
   "source": [
    "plt.imshow(x[0,0,900:1256,900:1256], vmin = 0, vmax = 1)  "
   ]
  },
  {
   "cell_type": "code",
   "execution_count": null,
   "id": "a761f4a2",
   "metadata": {},
   "outputs": [],
   "source": [
    "x_noise = x + np.random.normal(scale = .01, size = x.shape)\n",
    "plt.imshow(x_noise[0,0,1000:1256,1000:1256], vmin = 0, vmax = 1)  "
   ]
  },
  {
   "cell_type": "code",
   "execution_count": null,
   "id": "b20c0c04",
   "metadata": {},
   "outputs": [],
   "source": []
  },
  {
   "cell_type": "code",
   "execution_count": 144,
   "id": "091aa8d7",
   "metadata": {},
   "outputs": [],
   "source": [
    "x,y,num_classes,class_dict = my_data.load_layer_data(oj(data_path, 'DataLNOop'))\n",
    "# x,y,num_classes,_ = my_data.load_layer_data(oj(data_path, 'lno'))\n",
    "x, y = x[:-4], y[:-4]  # just don't touch the last four\n",
    "data_max, data_min = x.max(), x.min()\n",
    "x = (x - data_min) / (data_max - data_min)\n",
    "val_percent = .25\n",
    "init_train_ratio =1\n",
    "image_size = 128\n",
    "offset = 64\n",
    "all_idxs = np.arange(len(x))\n",
    "np.random.seed(0)\n",
    "np.random.shuffle(all_idxs)\n",
    "n_val = np.maximum(int(len(x) * val_percent), 1)\n",
    "n_train = len(x) - n_val\n",
    "all_train_idxs = all_idxs[:n_train]\n",
    "val_idxs = all_idxs[n_train:]\n",
    "init_train_idxs = all_train_idxs[: np.maximum(1, int(init_train_ratio * n_train))]\n",
    "pool_idxs = all_train_idxs[np.maximum(1, int(init_train_ratio * n_train)) :]\n",
    "\n"
   ]
  },
  {
   "cell_type": "code",
   "execution_count": 145,
   "id": "5f6d1a57",
   "metadata": {},
   "outputs": [],
   "source": [
    "x,y,num_classes,class_dict = my_data.load_layer_data(oj(data_path, 'DataLNOop'))\n",
    "# x,y,num_classes,_ = my_data.load_layer_data(oj(data_path, 'lno'))\n",
    "x, y = x[:-4], y[:-4]  # just don't touch the last four\n",
    "data_max, data_min = x.max(), x.min()\n",
    "x = (x - data_min) / (data_max - data_min)\n",
    "val_percent = .25\n",
    "init_train_ratio =1\n",
    "image_size = 128\n",
    "offset = 64\n",
    "all_idxs = np.arange(len(x))\n",
    "np.random.seed(0)\n",
    "np.random.shuffle(all_idxs)\n",
    "n_val = np.maximum(int(len(x) * val_percent), 1)\n",
    "n_train = len(x) - n_val\n",
    "all_train_idxs = all_idxs[:n_train]\n",
    "val_idxs = all_idxs[n_train:]\n",
    "init_train_idxs = all_train_idxs[: np.maximum(1, int(init_train_ratio * n_train))]\n",
    "pool_idxs = all_train_idxs[np.maximum(1, int(init_train_ratio * n_train)) :]\n",
    "\n"
   ]
  },
  {
   "cell_type": "code",
   "execution_count": 146,
   "id": "812ee068",
   "metadata": {},
   "outputs": [],
   "source": [
    "x_pool = my_data.load_pool_data( oj(data_path, 'voltif_LNOop') )\n",
    "x_pool = (x_pool - data_min) / (data_max - data_min)"
   ]
  },
  {
   "cell_type": "code",
   "execution_count": 147,
   "id": "afa00ab8",
   "metadata": {},
   "outputs": [],
   "source": [
    "\n",
    "x_pool_all, slice_numbers = my_data.make_dataset_single( x_pool, \n",
    "                                            img_size=128, \n",
    "                                            offset=128,\n",
    "                                            return_slice_numbers= True )\n",
    "# del x_pool\n",
    "# x_pool_all = (x_pool_all - data_min) / (data_max - data_min)\n",
    "pool_set = TensorDataset(torch.from_numpy(x_pool_all))"
   ]
  },
  {
   "cell_type": "code",
   "execution_count": 148,
   "id": "206b116c",
   "metadata": {},
   "outputs": [],
   "source": [
    "img_idx = 0\n",
    "test_img_np  = ((x_pool[62][None,:].astype(np.float32) ))\n",
    "with torch.no_grad():\n",
    "    img_t = torch.Tensor(test_img_np).to(device)\n",
    "    output = net.forward(img_t).cpu().detach().numpy()[0]"
   ]
  },
  {
   "cell_type": "code",
   "execution_count": null,
   "id": "00e55674",
   "metadata": {},
   "outputs": [],
   "source": [
    "fig, axes = plt.subplots(ncols = 2, figsize = (20,4))\n",
    "axes[0].imshow(test_img_np[0,0])\n",
    "axes[1].imshow(np.argmax(output, axis=0),vmin =-1, vmax = 2)\n"
   ]
  },
  {
   "cell_type": "code",
   "execution_count": null,
   "id": "211c4a9e",
   "metadata": {},
   "outputs": [],
   "source": []
  },
  {
   "cell_type": "code",
   "execution_count": null,
   "id": "a2f6c90f",
   "metadata": {},
   "outputs": [],
   "source": [
    "test_sanity.shape"
   ]
  },
  {
   "cell_type": "code",
   "execution_count": null,
   "id": "cde2e510",
   "metadata": {},
   "outputs": [],
   "source": [
    "fig, axes = plt.subplots(ncols = 2, figsize = (20,4))\n",
    "test_sanity = x_pool[62][0, 448-64:448+64,  448-64:448+64][None, None,:]\n",
    "axes[0].imshow(test_sanity[0,0], vmin =0, vmax =1)\n",
    "with torch.no_grad():\n",
    "    img_t = torch.Tensor(test_sanity).to(device)\n",
    "    output = net.forward(img_t).cpu().detach().numpy()[0]\n",
    "\n",
    "axes[1].imshow(output.argmax(axis=0), vmin =-1, vmax =2)"
   ]
  },
  {
   "cell_type": "code",
   "execution_count": null,
   "id": "4613b982",
   "metadata": {},
   "outputs": [],
   "source": []
  },
  {
   "cell_type": "code",
   "execution_count": null,
   "id": "183a3f84",
   "metadata": {},
   "outputs": [],
   "source": [
    "fig, axes = plt.subplots(ncols = 2, figsize = (20,4))\n",
    "axes[0].imshow(pool_set[1007][0][0], vmin =0, vmax =1)\n",
    "\n",
    "\n",
    "with torch.no_grad():\n",
    "    img_t = pool_set[1007][0].to(device).float()\n",
    "    output = net.forward(img_t[None,:]).cpu().detach().numpy()[0]\n",
    "axes[1].imshow(output.argmax(axis=0), vmin =-1, vmax =2)"
   ]
  },
  {
   "cell_type": "code",
   "execution_count": null,
   "id": "7c2cc5d7",
   "metadata": {},
   "outputs": [],
   "source": [
    "img_t.max()"
   ]
  },
  {
   "cell_type": "code",
   "execution_count": 104,
   "id": "c64a2ab5",
   "metadata": {},
   "outputs": [],
   "source": []
  },
  {
   "cell_type": "code",
   "execution_count": null,
   "id": "85774d95",
   "metadata": {},
   "outputs": [],
   "source": [
    "pool_set[1007][0][0].max()"
   ]
  },
  {
   "cell_type": "code",
   "execution_count": null,
   "id": "7f5c5f06",
   "metadata": {},
   "outputs": [],
   "source": []
  },
  {
   "cell_type": "code",
   "execution_count": 108,
   "id": "e22e3c36",
   "metadata": {},
   "outputs": [],
   "source": []
  },
  {
   "cell_type": "code",
   "execution_count": 109,
   "id": "ad69e60d",
   "metadata": {},
   "outputs": [],
   "source": []
  },
  {
   "cell_type": "code",
   "execution_count": null,
   "id": "31dc83f4",
   "metadata": {},
   "outputs": [],
   "source": []
  },
  {
   "cell_type": "code",
   "execution_count": null,
   "id": "03362bf7",
   "metadata": {},
   "outputs": [],
   "source": [
    "plt.imshow(np.argmax(output, axis=0),vmin =-1, vmax = 2)\n",
    "# output.argmax(axis=0)"
   ]
  },
  {
   "cell_type": "markdown",
   "id": "e3c6a285",
   "metadata": {},
   "source": [
    "# old, not pool"
   ]
  },
  {
   "cell_type": "code",
   "execution_count": 25,
   "id": "a0c55760",
   "metadata": {},
   "outputs": [],
   "source": [
    "img_idx = 0\n",
    "test_img_np  = ((x[all_train_idxs[img_idx]][None, ].astype(np.float32) ))\n",
    "with torch.no_grad():\n",
    "    img_t = torch.Tensor(test_img_np).to(device)\n",
    "    output = net.forward(img_t).cpu().detach().numpy()[0]"
   ]
  },
  {
   "cell_type": "code",
   "execution_count": null,
   "id": "b4b40b73",
   "metadata": {},
   "outputs": [],
   "source": [
    "fig, axes = plt.subplots(ncols = 4, figsize = (20,4))\n",
    "axes[0].imshow(x[all_train_idxs[img_idx]][0])\n",
    "axes[1].imshow(np.argmax(output, axis=0),vmin =-1, vmax = 2)\n",
    "target = np.copy(y[all_train_idxs[img_idx]]).astype(np.int16)\n",
    "target[np.where(target == 255)] =-1\n",
    "axes[2].imshow(target, vmin =-1,vmax = 2)\n",
    "axes[3].imshow((target !=np.argmax(output, axis=0) ) * (target !=-1))\n",
    "# axes[1].imshow()"
   ]
  },
  {
   "cell_type": "code",
   "execution_count": null,
   "id": "45259a6b",
   "metadata": {},
   "outputs": [],
   "source": [
    "(train_add_set, new_val_set) = my_data.load_annotated_imgs( oj( config[\"PATHS\"][\"progress_results\"], \n",
    "                                                               results.file_name[0], ), \n",
    "                                                               class_dict, )\n",
    "loader_args = dict( batch_size=1, num_workers=0, pin_memory=True )\n",
    "val_loader = DataLoader(train_add_set, shuffle=False, drop_last=False, **loader_args)"
   ]
  },
  {
   "cell_type": "code",
   "execution_count": 94,
   "id": "e0f3a261",
   "metadata": {},
   "outputs": [],
   "source": [
    "output_list = give_results( net, device, val_loader,)"
   ]
  },
  {
   "cell_type": "code",
   "execution_count": 95,
   "id": "17ef7d1d",
   "metadata": {},
   "outputs": [],
   "source": [
    "my_idx = 0\n"
   ]
  },
  {
   "cell_type": "code",
   "execution_count": null,
   "id": "2239509c",
   "metadata": {},
   "outputs": [],
   "source": [
    "# my_idx = 1\n",
    "fig, axes = plt.subplots(ncols=3)\n",
    "axes[0].imshow(train_add_set[my_idx][1])\n",
    "axes[1].imshow(output_list[my_idx])\n",
    "\n",
    "axes[2].imshow(train_add_set[my_idx][0][0])\n",
    "my_idx+=1\n"
   ]
  },
  {
   "cell_type": "code",
   "execution_count": 4,
   "id": "b8c92728",
   "metadata": {},
   "outputs": [],
   "source": [
    "import torch\n",
    "a = torch.Size([2, 1, 128, 128])"
   ]
  },
  {
   "cell_type": "code",
   "execution_count": null,
   "id": "0679f3cd",
   "metadata": {},
   "outputs": [],
   "source": [
    "torch.zeros(a).shape"
   ]
  },
  {
   "cell_type": "code",
   "execution_count": null,
   "id": "09837764",
   "metadata": {},
   "outputs": [],
   "source": []
  },
  {
   "cell_type": "code",
   "execution_count": null,
   "id": "8e22e068",
   "metadata": {},
   "outputs": [],
   "source": []
  },
  {
   "cell_type": "code",
   "execution_count": null,
   "id": "15ca4e0e",
   "metadata": {},
   "outputs": [],
   "source": []
  },
  {
   "cell_type": "code",
   "execution_count": null,
   "id": "b4ad986f",
   "metadata": {},
   "outputs": [],
   "source": [
    "torc\n",
    "\n",
    "x = torch.zeros(5, 10, 20, dtype=torch.float64)\n",
    "x = x + (0.1**0.5)*torch.randn(5, 10, 20)"
   ]
  },
  {
   "cell_type": "code",
   "execution_count": null,
   "id": "6ba4afd0",
   "metadata": {},
   "outputs": [],
   "source": [
    "x.shape"
   ]
  },
  {
   "cell_type": "code",
   "execution_count": null,
   "id": "32fbde2c",
   "metadata": {},
   "outputs": [],
   "source": [
    "plt.imshow(train_add_set[0][1])"
   ]
  },
  {
   "cell_type": "code",
   "execution_count": null,
   "id": "665d5366",
   "metadata": {},
   "outputs": [],
   "source": [
    "plt.imshow(output_list[0])"
   ]
  },
  {
   "cell_type": "code",
   "execution_count": null,
   "id": "4dfbdc4a",
   "metadata": {},
   "outputs": [],
   "source": [
    "results.foldername[my_id]\n"
   ]
  },
  {
   "cell_type": "code",
   "execution_count": 42,
   "id": "b40be948",
   "metadata": {},
   "outputs": [],
   "source": [
    "x, y, num_classes, class_dict = my_data.load_layer_data( oj(config[\"DATASET\"][\"data_path\"], results.foldername[my_id]))"
   ]
  },
  {
   "cell_type": "code",
   "execution_count": null,
   "id": "3765c982",
   "metadata": {},
   "outputs": [],
   "source": [
    "annotated_set = my_data.load_annotated_imgs(oj(config[\"PATHS\"][\"progress_results\"], dirs[my_id], ), class_dict)"
   ]
  },
  {
   "cell_type": "code",
   "execution_count": null,
   "id": "c28c4497",
   "metadata": {},
   "outputs": [],
   "source": []
  },
  {
   "cell_type": "code",
   "execution_count": null,
   "id": "29445c92",
   "metadata": {},
   "outputs": [],
   "source": [
    "plt.imshow(annotated_set[3][1].numpy())"
   ]
  },
  {
   "cell_type": "code",
   "execution_count": null,
   "id": "7dd79aba",
   "metadata": {},
   "outputs": [],
   "source": [
    "load_annotated_imgs"
   ]
  },
  {
   "cell_type": "code",
   "execution_count": 51,
   "id": "bb611028",
   "metadata": {},
   "outputs": [],
   "source": [
    "dirs = [oj(config['PATHS']['progress_results'], x) for x in os.listdir(config['PATHS']['progress_results']) if os.path.isdir(oj(config['PATHS']['progress_results'], x))]\n",
    "\n",
    "data_folder = oj(dirs[my_id], 'predictions')\n"
   ]
  },
  {
   "cell_type": "code",
   "execution_count": 52,
   "id": "c876b5dd",
   "metadata": {},
   "outputs": [],
   "source": [
    "# load the exported images and try this\n",
    "# find the folder \n",
    "filenames = [x for x in os.listdir(data_folder) ]\n",
    "img_list = []\n",
    "for file_name in files:  # careful: currently depends on order of files\n",
    "\n",
    "    im = io.imread(oj(data_folder, file_name))\n",
    "    img_list.append(im)\n"
   ]
  },
  {
   "cell_type": "code",
   "execution_count": null,
   "id": "bfabed99",
   "metadata": {},
   "outputs": [],
   "source": []
  },
  {
   "cell_type": "code",
   "execution_count": null,
   "id": "5d45dc56",
   "metadata": {},
   "outputs": [],
   "source": [
    "img_list[0].shape"
   ]
  },
  {
   "cell_type": "code",
   "execution_count": null,
   "id": "94c99548",
   "metadata": {},
   "outputs": [],
   "source": [
    "plt.imshow(img_list[0])"
   ]
  },
  {
   "cell_type": "code",
   "execution_count": 38,
   "id": "cb5049f0",
   "metadata": {},
   "outputs": [],
   "source": []
  },
  {
   "cell_type": "code",
   "execution_count": null,
   "id": "f83f3ecb",
   "metadata": {},
   "outputs": [],
   "source": [
    "img_list[0].shape"
   ]
  },
  {
   "cell_type": "code",
   "execution_count": null,
   "id": "ea345a93",
   "metadata": {},
   "outputs": [],
   "source": []
  },
  {
   "cell_type": "code",
   "execution_count": null,
   "id": "85cfe35d",
   "metadata": {},
   "outputs": [],
   "source": []
  },
  {
   "cell_type": "code",
   "execution_count": null,
   "id": "50320211",
   "metadata": {},
   "outputs": [],
   "source": []
  },
  {
   "attachments": {},
   "cell_type": "markdown",
   "id": "ee7d1849",
   "metadata": {},
   "source": [
    "# try with detailed"
   ]
  },
  {
   "cell_type": "code",
   "execution_count": null,
   "id": "08e16921",
   "metadata": {},
   "outputs": [],
   "source": [
    "x,y,num_classes,_ = my_data.load_layer_data(oj(data_path, 'lno'))\n",
    "\n",
    "x, y = x[:-4], y[:-4]  # just don't touch the last four\n",
    "x = x/x.max()\n",
    "val_percent = .25\n",
    "init_train_ratio =1\n",
    "image_size = 128\n",
    "offset = 64\n",
    "all_idxs = np.arange(len(x))\n",
    "np.random.seed(0)\n",
    "np.random.shuffle(all_idxs)\n",
    "n_val = np.maximum(int(len(x) * val_percent), 1)\n",
    "n_train = len(x) - n_val\n",
    "all_train_idxs = all_idxs[:n_train]\n",
    "val_idxs = all_idxs[n_train:]\n",
    "init_train_idxs = all_train_idxs[: np.maximum(1, int(init_train_ratio * n_train))]\n",
    "pool_idxs = all_train_idxs[np.maximum(1, int(init_train_ratio * n_train)) :]\n",
    "\n",
    "val_set = TensorDataset(\n",
    "    *[\n",
    "        torch.Tensor(input)\n",
    "        for input in my_data.make_dataset(\n",
    "            x[val_idxs[:1]],\n",
    "            y[val_idxs[:1]],\n",
    "            img_size=image_size,\n",
    "            offset=image_size,\n",
    "        )\n",
    "    ]\n",
    ")\n",
    "val_loader = DataLoader(val_set, shuffle=False, drop_last=False, batch_size = 16)"
   ]
  },
  {
   "cell_type": "code",
   "execution_count": null,
   "id": "bdb31bab",
   "metadata": {},
   "outputs": [],
   "source": [
    "val_loader.batch_size"
   ]
  },
  {
   "cell_type": "code",
   "execution_count": null,
   "id": "cc22065b",
   "metadata": {},
   "outputs": [],
   "source": [
    "x_small, _,=my_data.make_dataset(\n",
    "            x[val_idxs[:1]],\n",
    "            y[val_idxs[:1]],\n",
    "            img_size=image_size,\n",
    "            offset=image_size,\n",
    "        )"
   ]
  },
  {
   "cell_type": "code",
   "execution_count": null,
   "id": "b8a2a1e4",
   "metadata": {
    "scrolled": true
   },
   "outputs": [],
   "source": [
    "x_small[test_idxes].min()"
   ]
  },
  {
   "cell_type": "code",
   "execution_count": null,
   "id": "37942291",
   "metadata": {},
   "outputs": [],
   "source": [
    "net(t)"
   ]
  },
  {
   "cell_type": "code",
   "execution_count": null,
   "id": "d03af80f",
   "metadata": {},
   "outputs": [],
   "source": [
    "x.shape"
   ]
  },
  {
   "cell_type": "code",
   "execution_count": null,
   "id": "324007c5",
   "metadata": {},
   "outputs": [],
   "source": [
    "val_loader"
   ]
  },
  {
   "cell_type": "code",
   "execution_count": null,
   "id": "0a84586c",
   "metadata": {},
   "outputs": [],
   "source": [
    "net"
   ]
  },
  {
   "cell_type": "code",
   "execution_count": null,
   "id": "4e87cfe8",
   "metadata": {},
   "outputs": [],
   "source": []
  },
  {
   "cell_type": "code",
   "execution_count": null,
   "id": "321a196b",
   "metadata": {},
   "outputs": [],
   "source": [
    "len(all_train_idxs)"
   ]
  },
  {
   "cell_type": "code",
   "execution_count": null,
   "id": "4905aef4",
   "metadata": {},
   "outputs": [],
   "source": [
    "len(val_loader.dataset)"
   ]
  },
  {
   "cell_type": "code",
   "execution_count": null,
   "id": "c94f3870",
   "metadata": {
    "scrolled": true
   },
   "outputs": [],
   "source": [
    "plt.imshow(x[val_idxs[0]][0])"
   ]
  },
  {
   "cell_type": "code",
   "execution_count": null,
   "id": "49539ec0",
   "metadata": {
    "scrolled": true
   },
   "outputs": [],
   "source": [
    "test_ids_safe = std_cost_function(net, device,val_loader,n_choose =59)\n",
    "\n",
    "# test_ids = np.argsort(test_ids_safe)"
   ]
  },
  {
   "cell_type": "code",
   "execution_count": null,
   "id": "d2592622",
   "metadata": {},
   "outputs": [],
   "source": [
    "len(val_loader.dataset)"
   ]
  },
  {
   "cell_type": "code",
   "execution_count": null,
   "id": "b4cdda89",
   "metadata": {},
   "outputs": [],
   "source": [
    "test_ids_safe"
   ]
  },
  {
   "cell_type": "code",
   "execution_count": null,
   "id": "78ff5da4",
   "metadata": {},
   "outputs": [],
   "source": [
    "plt.imshow(val_set[test_ids_safe[0]][0][0])"
   ]
  },
  {
   "cell_type": "code",
   "execution_count": null,
   "id": "7116ae01",
   "metadata": {},
   "outputs": [],
   "source": [
    "plt.imshow(val_set[test_ids_safe[-20]][0][0])"
   ]
  },
  {
   "cell_type": "code",
   "execution_count": null,
   "id": "3d9189f5",
   "metadata": {
    "scrolled": false
   },
   "outputs": [],
   "source": [
    "test_ids_safe[32]"
   ]
  },
  {
   "cell_type": "code",
   "execution_count": null,
   "id": "7ca14f6f",
   "metadata": {},
   "outputs": [],
   "source": [
    "test_ids_safe[23]"
   ]
  },
  {
   "cell_type": "code",
   "execution_count": null,
   "id": "d5ca6434",
   "metadata": {
    "scrolled": true
   },
   "outputs": [],
   "source": [
    "test_ids_safe"
   ]
  },
  {
   "cell_type": "code",
   "execution_count": null,
   "id": "03d48ef4",
   "metadata": {},
   "outputs": [],
   "source": [
    "test_ids_safe"
   ]
  },
  {
   "cell_type": "code",
   "execution_count": null,
   "id": "d1da3e38",
   "metadata": {},
   "outputs": [],
   "source": [
    "test_ids_safe"
   ]
  },
  {
   "cell_type": "code",
   "execution_count": null,
   "id": "867d4293",
   "metadata": {},
   "outputs": [],
   "source": [
    "test_ids_safe"
   ]
  },
  {
   "cell_type": "code",
   "execution_count": null,
   "id": "32db622b",
   "metadata": {},
   "outputs": [],
   "source": [
    "test_ids_safe"
   ]
  },
  {
   "cell_type": "code",
   "execution_count": null,
   "id": "ebad2ef4",
   "metadata": {},
   "outputs": [],
   "source": [
    "net(val_set[test_ids_safe[1]][0][None,:].to(device))[0].std(dim=1).mean(dim=(0,1))"
   ]
  },
  {
   "cell_type": "code",
   "execution_count": null,
   "id": "a3f21bfc",
   "metadata": {},
   "outputs": [],
   "source": [
    "net(val_set[test_ids_safe[-1]][0][None,:].to(device))[0].std(dim=1).mean(dim=(0,1))"
   ]
  },
  {
   "cell_type": "code",
   "execution_count": null,
   "id": "bab51878",
   "metadata": {},
   "outputs": [],
   "source": [
    "net(val_set[test_ids_safe[-1]][0][None,:].to(device))[0][0].mean()"
   ]
  },
  {
   "cell_type": "code",
   "execution_count": null,
   "id": "02d96408",
   "metadata": {},
   "outputs": [],
   "source": [
    "net(val_set[test_ids_safe[-1]][0][None,:].to(device))[0][2].mean()"
   ]
  },
  {
   "cell_type": "code",
   "execution_count": null,
   "id": "9766c031",
   "metadata": {},
   "outputs": [],
   "source": [
    "net(val_set[test_ids_safe[-1]][0][None,:].to(device))[0].std(dim=1)"
   ]
  },
  {
   "cell_type": "code",
   "execution_count": null,
   "id": "8ad6aa93",
   "metadata": {},
   "outputs": [],
   "source": [
    "test_ids_safe[224]"
   ]
  },
  {
   "cell_type": "code",
   "execution_count": null,
   "id": "05af76dc",
   "metadata": {
    "scrolled": true
   },
   "outputs": [],
   "source": [
    "len(test_ids_safe)"
   ]
  },
  {
   "cell_type": "code",
   "execution_count": null,
   "id": "bbea1944",
   "metadata": {},
   "outputs": [],
   "source": []
  },
  {
   "cell_type": "code",
   "execution_count": null,
   "id": "2f6d522d",
   "metadata": {},
   "outputs": [],
   "source": [
    "test_ids = np.sort(test_ids)"
   ]
  },
  {
   "cell_type": "code",
   "execution_count": null,
   "id": "c682fe18",
   "metadata": {},
   "outputs": [],
   "source": [
    "plt.imshow(val_set[5][0][0])"
   ]
  },
  {
   "cell_type": "code",
   "execution_count": null,
   "id": "5498b1c9",
   "metadata": {},
   "outputs": [],
   "source": []
  },
  {
   "cell_type": "code",
   "execution_count": null,
   "id": "efad24d8",
   "metadata": {},
   "outputs": [],
   "source": []
  },
  {
   "cell_type": "code",
   "execution_count": null,
   "id": "ee6f46dc",
   "metadata": {
    "scrolled": true
   },
   "outputs": [],
   "source": [
    "plt.imshow(val_set[test_ids[10]][0][0])"
   ]
  },
  {
   "cell_type": "code",
   "execution_count": null,
   "id": "7d833a7e",
   "metadata": {},
   "outputs": [],
   "source": [
    "plt.imshow(val_set[test_ids[1]][0][0])"
   ]
  },
  {
   "cell_type": "code",
   "execution_count": null,
   "id": "bcd782d1",
   "metadata": {},
   "outputs": [],
   "source": [
    "plt.imshow(val_set[test_ids[0]][0][0])"
   ]
  },
  {
   "cell_type": "code",
   "execution_count": null,
   "id": "4e029610",
   "metadata": {},
   "outputs": [],
   "source": [
    "img_idx = 0\n",
    "test_img_np  = ((x[img_idx][None, ].astype(np.float32) ))\n",
    "with torch.no_grad():\n",
    "    img_t = torch.Tensor(test_img_np).to(device)\n",
    "    output = F.softmax(net.forward(img_t)[0], dim =0).cpu().detach().numpy()\n"
   ]
  },
  {
   "cell_type": "code",
   "execution_count": null,
   "id": "00195642",
   "metadata": {
    "scrolled": true
   },
   "outputs": [],
   "source": [
    "fig, axes = plt.subplots(ncols = 5, figsize = (20,4))\n",
    "axes[0].imshow(x[img_idx][0])\n",
    "axes[1].imshow(np.argmax(output, axis=0),vmin =-1, vmax = 2)\n",
    "target = np.copy(y[img_idx]).astype(np.int16)\n",
    "target[np.where(target == 255)] =-1\n",
    "axes[2].imshow(target, vmin =-1,vmax = 2)\n",
    "axes[3].imshow((target !=np.argmax(output, axis=0) ))\n",
    "max_val =np.quantile(output.std(axis=0).max() - output.std(axis=0),.90)\n",
    "axes[4].imshow(output.std(axis=0).max() - output.std(axis=0),vmax = max_val)\n",
    "# axes[1].imshow()"
   ]
  },
  {
   "cell_type": "code",
   "execution_count": null,
   "id": "27a16a50",
   "metadata": {},
   "outputs": [],
   "source": [
    "output.std(axis=0).max() - output.std(axis=0)"
   ]
  },
  {
   "cell_type": "code",
   "execution_count": null,
   "id": "dc8af5ea",
   "metadata": {},
   "outputs": [],
   "source": [
    "with torch.no_grad():\n",
    "    img_t = torch.Tensor(x[val_idxs]).to(device)\n",
    "    output = F.softmax(net.forward(img_t), dim =1)\n"
   ]
  },
  {
   "cell_type": "code",
   "execution_count": null,
   "id": "4c10caa9",
   "metadata": {},
   "outputs": [],
   "source": [
    "(torch.argmax(output, dim = 1).detach().cpu().numpy() ==y[val_idxs]).mean()"
   ]
  },
  {
   "cell_type": "code",
   "execution_count": null,
   "id": "6f10d3d4",
   "metadata": {},
   "outputs": [],
   "source": [
    "(torch.argmax(output, dim = 1).detach().cpu().numpy() ==y[val_idxs])[np.where((my_std < np.quantile(my_std, .1)))].mean()"
   ]
  },
  {
   "cell_type": "code",
   "execution_count": null,
   "id": "42d2010a",
   "metadata": {},
   "outputs": [],
   "source": [
    "(torch.argmax(output, dim = 1).detach().cpu().numpy() ==y[val_idxs])[np.where((my_std > np.quantile(my_std, .1)))].mean()"
   ]
  },
  {
   "cell_type": "code",
   "execution_count": null,
   "id": "56ce3c35",
   "metadata": {},
   "outputs": [],
   "source": [
    "len(val_loader)"
   ]
  },
  {
   "cell_type": "code",
   "execution_count": null,
   "id": "5105dad7",
   "metadata": {},
   "outputs": [],
   "source": [
    "val_loader"
   ]
  },
  {
   "cell_type": "code",
   "execution_count": null,
   "id": "b0a3e1f4",
   "metadata": {},
   "outputs": [],
   "source": [
    "eva"
   ]
  },
  {
   "cell_type": "code",
   "execution_count": null,
   "id": "b984fb52",
   "metadata": {},
   "outputs": [],
   "source": [
    "my_std = torch.std(output,dim =1).detach().cpu().numpy()"
   ]
  },
  {
   "cell_type": "code",
   "execution_count": null,
   "id": "b09d89db",
   "metadata": {},
   "outputs": [],
   "source": [
    "torch.argmax(output, dim = 1)"
   ]
  },
  {
   "cell_type": "code",
   "execution_count": null,
   "id": "12d8ccd5",
   "metadata": {},
   "outputs": [],
   "source": [
    "np.where((my_std < np.quantile(my_std, .1)))"
   ]
  },
  {
   "cell_type": "code",
   "execution_count": null,
   "id": "5e84a70f",
   "metadata": {},
   "outputs": [],
   "source": [
    "(torch.argmax(output, dim = 1).detach().cpu().numpy() ==y[val_idxs]).mean()"
   ]
  },
  {
   "cell_type": "code",
   "execution_count": null,
   "id": "fbb6e06d",
   "metadata": {},
   "outputs": [],
   "source": []
  },
  {
   "cell_type": "code",
   "execution_count": null,
   "id": "fc620b16",
   "metadata": {},
   "outputs": [],
   "source": []
  },
  {
   "cell_type": "code",
   "execution_count": null,
   "id": "1f1c3a78",
   "metadata": {},
   "outputs": [],
   "source": [
    "output.shape"
   ]
  },
  {
   "cell_type": "code",
   "execution_count": null,
   "id": "44a5446b",
   "metadata": {},
   "outputs": [],
   "source": [
    "1-dice_loss(output, torch.Tensor(y[val_idxs]).to(device), num_classes, multiclass=True)"
   ]
  },
  {
   "cell_type": "code",
   "execution_count": null,
   "id": "2690ad66",
   "metadata": {},
   "outputs": [],
   "source": []
  },
  {
   "cell_type": "code",
   "execution_count": null,
   "id": "6d426bca",
   "metadata": {},
   "outputs": [],
   "source": []
  },
  {
   "cell_type": "code",
   "execution_count": null,
   "id": "199efcf2",
   "metadata": {},
   "outputs": [],
   "source": [
    "from dice_score import dice_loss"
   ]
  },
  {
   "cell_type": "code",
   "execution_count": null,
   "id": "07c19997",
   "metadata": {},
   "outputs": [],
   "source": [
    "dice_loss()"
   ]
  },
  {
   "cell_type": "code",
   "execution_count": null,
   "id": "8934f4a0",
   "metadata": {},
   "outputs": [],
   "source": [
    "num_classes"
   ]
  },
  {
   "cell_type": "code",
   "execution_count": null,
   "id": "2e9ab8f7",
   "metadata": {},
   "outputs": [],
   "source": []
  },
  {
   "cell_type": "code",
   "execution_count": null,
   "id": "ac66bad3",
   "metadata": {
    "scrolled": true
   },
   "outputs": [],
   "source": []
  },
  {
   "cell_type": "code",
   "execution_count": null,
   "id": "a186d962",
   "metadata": {},
   "outputs": [],
   "source": []
  },
  {
   "cell_type": "code",
   "execution_count": null,
   "id": "33f24262",
   "metadata": {},
   "outputs": [],
   "source": [
    "np.quantile(output.std(axis=0).max() - output.std(axis=0), .9)"
   ]
  },
  {
   "cell_type": "code",
   "execution_count": null,
   "id": "64bbcf1f",
   "metadata": {},
   "outputs": [],
   "source": [
    "output.std(axis=0).max()"
   ]
  },
  {
   "cell_type": "code",
   "execution_count": null,
   "id": "5bfcf333",
   "metadata": {},
   "outputs": [],
   "source": [
    "(target ==np.argmax(output, axis=0) ).mean()"
   ]
  },
  {
   "cell_type": "code",
   "execution_count": null,
   "id": "f16acaf9",
   "metadata": {},
   "outputs": [],
   "source": [
    "output.std(axis=0)"
   ]
  },
  {
   "cell_type": "code",
   "execution_count": null,
   "id": "628c1285",
   "metadata": {},
   "outputs": [],
   "source": []
  },
  {
   "cell_type": "code",
   "execution_count": null,
   "id": "a065bec2",
   "metadata": {},
   "outputs": [],
   "source": []
  },
  {
   "attachments": {},
   "cell_type": "markdown",
   "id": "03e26ab6",
   "metadata": {},
   "source": [
    "# old stuff"
   ]
  },
  {
   "cell_type": "code",
   "execution_count": null,
   "id": "989fda76",
   "metadata": {},
   "outputs": [],
   "source": [
    "for i in range(4):\n",
    "    img_idx = i\n",
    "    test_img_np  = ((x[img_idx][None, ].astype(np.float32) ))\n",
    "    with torch.no_grad():\n",
    "        img_t = torch.Tensor(test_img_np).to(device)\n",
    "        output = net.forward(img_t).cpu().detach().numpy()[0]\n",
    "        show_img = np.zeros_like(y[img_idx])\n",
    "        show_img[np.where(y[img_idx] ==my_data.phase_1)] =1\n",
    "        show_img[np.where(y[img_idx] ==my_data.phase_2)] =2\n",
    "        print((show_img ==np.argmax(output, axis=0)).mean())\n"
   ]
  },
  {
   "cell_type": "code",
   "execution_count": null,
   "id": "f93364aa",
   "metadata": {
    "scrolled": false
   },
   "outputs": [],
   "source": [
    "img_idx = -1\n",
    "test_img_np  = ((x[img_idx][None, ].astype(np.float32) -my_data.mean)/my_data.std)\n",
    "with torch.no_grad():\n",
    "    img_t = torch.Tensor(test_img_np).to(device)\n",
    "    output = net.forward(img_t).cpu().detach().numpy()[0]\n"
   ]
  },
  {
   "cell_type": "code",
   "execution_count": null,
   "id": "8457e75c",
   "metadata": {},
   "outputs": [],
   "source": [
    "show_img = np.zeros_like(y[img_idx])\n",
    "show_img[np.where(y[img_idx] ==my_data.phase_1)] =1\n",
    "show_img[np.where(y[img_idx] ==my_data.phase_2)] =2"
   ]
  },
  {
   "cell_type": "code",
   "execution_count": null,
   "id": "5859fa6c",
   "metadata": {},
   "outputs": [],
   "source": [
    "std_large = output.std(axis=0)<np.quantile(output.std(axis=0), .1)\n",
    "\n",
    "fig, axes = plt.subplots(ncols = 5, figsize = (20,7))\n",
    "axes[0].imshow(x[img_idx,2])\n",
    "axes[1].imshow(np.argmax(output, axis=0))\n",
    "axes[2].imshow(show_img)\n",
    "axes[3].imshow(show_img !=np.argmax(output, axis=0) )\n",
    "\n",
    "axes[4].imshow(std_large)"
   ]
  },
  {
   "cell_type": "code",
   "execution_count": null,
   "id": "d33118fc",
   "metadata": {},
   "outputs": [],
   "source": [
    "x.shape"
   ]
  },
  {
   "cell_type": "code",
   "execution_count": null,
   "id": "05f30cc7",
   "metadata": {},
   "outputs": [],
   "source": [
    "std_large = output.std(axis=0)<np.quantile(output.std(axis=0), .05)\n",
    "\n",
    "fig, axes = plt.subplots(ncols = 3, figsize = (20,8))\n",
    "# axes[0].imshow(x[img_idx,2])\n",
    "axes[0].imshow(np.argmax(output, axis=0))\n",
    "# axes[2].imshow(show_img)\n",
    "axes[1].imshow(show_img !=np.argmax(output, axis=0) )\n",
    "\n",
    "axes[2].imshow(std_large)"
   ]
  },
  {
   "cell_type": "code",
   "execution_count": null,
   "id": "d8607c09",
   "metadata": {},
   "outputs": [],
   "source": [
    "(show_img !=np.argmax(output, axis=0))[np.where(1-std_large)].mean()"
   ]
  },
  {
   "cell_type": "code",
   "execution_count": null,
   "id": "7abc430f",
   "metadata": {},
   "outputs": [],
   "source": [
    "(show_img ==np.argmax(output, axis=0)).mean()"
   ]
  },
  {
   "cell_type": "code",
   "execution_count": null,
   "id": "ae87a03d",
   "metadata": {},
   "outputs": [],
   "source": []
  },
  {
   "cell_type": "code",
   "execution_count": null,
   "id": "5fd228a5",
   "metadata": {},
   "outputs": [],
   "source": [
    "correct = np.reshape(show_img !=np.argmax(output, axis=0),-1)\n",
    "std = np.reshape(output.std(axis=0), -1)"
   ]
  },
  {
   "cell_type": "code",
   "execution_count": null,
   "id": "c7ee65d2",
   "metadata": {},
   "outputs": [],
   "source": [
    "std_large = output.std(axis=0)<np.quantile(output.std(axis=0), .1)\n",
    "\n",
    "fig, axes = plt.subplots(ncols = 5, figsize = (20,7))\n",
    "axes[0].imshow(x[img_idx,2])\n",
    "axes[1].imshow(np.argmax(output, axis=0))\n",
    "axes[2].imshow(show_img)\n",
    "axes[3].imshow(show_img !=np.argmax(output, axis=0) )\n",
    "\n",
    "axes[4].imshow(std_large)"
   ]
  },
  {
   "cell_type": "code",
   "execution_count": null,
   "id": "75995f0c",
   "metadata": {},
   "outputs": [],
   "source": [
    "std_large = output.std(axis=0)<np.quantile(output.std(axis=0), .1)\n",
    "\n",
    "fig, axes = plt.subplots(ncols = 1, figsize = (20,7))\n",
    "axes.imshow(x[img_idx,2][200:400,350:600])\n",
    "\n",
    "# axes[4].imshow(std_large)"
   ]
  },
  {
   "cell_type": "code",
   "execution_count": null,
   "id": "fa2e2ca6",
   "metadata": {},
   "outputs": [],
   "source": [
    "x.shape"
   ]
  },
  {
   "cell_type": "code",
   "execution_count": null,
   "id": "78a9494c",
   "metadata": {},
   "outputs": [],
   "source": [
    "plt.imshow(x[0,2])"
   ]
  },
  {
   "cell_type": "code",
   "execution_count": null,
   "id": "e7fec01f",
   "metadata": {},
   "outputs": [],
   "source": [
    "plt.imshow(x[-1,2])"
   ]
  },
  {
   "cell_type": "code",
   "execution_count": null,
   "id": "dfaa8be0",
   "metadata": {},
   "outputs": [],
   "source": [
    "x[img_idx,2][200:400,350:600]"
   ]
  }
 ],
 "metadata": {
  "kernelspec": {
   "display_name": "basic_ml",
   "language": "python",
   "name": "python3"
  },
  "language_info": {
   "codemirror_mode": {
    "name": "ipython",
    "version": 3
   },
   "file_extension": ".py",
   "mimetype": "text/x-python",
   "name": "python",
   "nbconvert_exporter": "python",
   "pygments_lexer": "ipython3",
   "version": "3.11.3"
  }
 },
 "nbformat": 4,
 "nbformat_minor": 5
}
