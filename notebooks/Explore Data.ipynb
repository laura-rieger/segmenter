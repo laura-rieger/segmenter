{
 "cells": [
  {
   "cell_type": "code",
   "execution_count": 19,
   "id": "9e4e7e49",
   "metadata": {},
   "outputs": [
    {
     "name": "stdout",
     "output_type": "stream",
     "text": [
      "The autoreload extension is already loaded. To reload it, use:\n",
      "  %reload_ext autoreload\n"
     ]
    }
   ],
   "source": [
    "%load_ext autoreload\n",
    "%autoreload 2\n",
    "%matplotlib inline"
   ]
  },
  {
   "cell_type": "code",
   "execution_count": 20,
   "id": "119574ed",
   "metadata": {},
   "outputs": [],
   "source": [
    "from PIL import Image\n"
   ]
  },
  {
   "cell_type": "code",
   "execution_count": 21,
   "id": "a4c07543",
   "metadata": {},
   "outputs": [],
   "source": [
    "import os\n",
    "import sys \n",
    "import configparser\n",
    "import pandas as pd \n",
    "import numpy as np\n",
    "import torch\n",
    "import matplotlib.pyplot as plt\n",
    "from tqdm.notebook import tqdm\n",
    "\n",
    "from matplotlib import cycler\n",
    "from os.path import join as oj\n",
    "from torch.utils.data import TensorDataset, DataLoader\n",
    "import pickle as pkl\n",
    "from sklearn.preprocessing import StandardScaler,MinMaxScaler\n",
    "sys.path.insert(0, \"../src\")\n",
    "import my_data\n",
    "import models\n",
    "import seaborn as sns\n",
    "import pickle as pkl\n",
    "pd.set_option('display.float_format', lambda x: '%.2f' % x)\n",
    "cuda = torch.cuda.is_available()\n",
    "device = torch.device(\"cuda:0\" if cuda else \"cpu\")"
   ]
  },
  {
   "cell_type": "code",
   "execution_count": 22,
   "id": "df9e1027",
   "metadata": {},
   "outputs": [],
   "source": [
    "config = configparser.ConfigParser()\n",
    "config.read('../config.ini');\n",
    "data_path =config['DATASET']['data_path'] "
   ]
  },
  {
   "cell_type": "code",
   "execution_count": 23,
   "id": "4295d12e",
   "metadata": {},
   "outputs": [],
   "source": [
    "files = os.listdir(data_path)"
   ]
  },
  {
   "cell_type": "code",
   "execution_count": 28,
   "id": "dad36c47",
   "metadata": {},
   "outputs": [],
   "source": [
    "my_data = []\n",
    "for file_name in files:\n",
    "    im = Image.open(oj(data_path, file_name))\n",
    "    my_data.append(np.asarray(im))"
   ]
  },
  {
   "cell_type": "code",
   "execution_count": 29,
   "id": "b7e1a860",
   "metadata": {},
   "outputs": [
    {
     "ename": "AttributeError",
     "evalue": "'numpy.ndarray' object has no attribute 'show'",
     "output_type": "error",
     "traceback": [
      "\u001b[1;31m---------------------------------------------------------------------------\u001b[0m",
      "\u001b[1;31mAttributeError\u001b[0m                            Traceback (most recent call last)",
      "\u001b[1;32m~\\AppData\\Local\\Temp\\ipykernel_15216\\1870173898.py\u001b[0m in \u001b[0;36m<cell line: 1>\u001b[1;34m()\u001b[0m\n\u001b[1;32m----> 1\u001b[1;33m \u001b[0mmy_data\u001b[0m\u001b[1;33m[\u001b[0m\u001b[1;36m0\u001b[0m\u001b[1;33m]\u001b[0m\u001b[1;33m.\u001b[0m\u001b[0mshow\u001b[0m\u001b[1;33m(\u001b[0m\u001b[1;33m)\u001b[0m\u001b[1;33m\u001b[0m\u001b[1;33m\u001b[0m\u001b[0m\n\u001b[0m",
      "\u001b[1;31mAttributeError\u001b[0m: 'numpy.ndarray' object has no attribute 'show'"
     ]
    }
   ],
   "source": [
    "my_data[0].show()"
   ]
  },
  {
   "cell_type": "code",
   "execution_count": 33,
   "id": "89e9511c",
   "metadata": {},
   "outputs": [
    {
     "data": {
      "text/plain": [
       "(array([   2672.,  630551., 1358297., 1340786.,  162878.,   94902.,\n",
       "         125007.,  288533.,  181719.,    8959.]),\n",
       " array([ 27. ,  49.8,  72.6,  95.4, 118.2, 141. , 163.8, 186.6, 209.4,\n",
       "        232.2, 255. ]),\n",
       " <BarContainer object of 10 artists>)"
      ]
     },
     "execution_count": 33,
     "metadata": {},
     "output_type": "execute_result"
    },
    {
     "data": {
      "image/png": "[encoded data removed]",
      "text/plain": [
       "<Figure size 432x288 with 1 Axes>"
      ]
     },
     "metadata": {
      "needs_background": "light"
     },
     "output_type": "display_data"
    }
   ],
   "source": [
    "plt.hist(my_data[0].reshape(-1))"
   ]
  },
  {
   "cell_type": "code",
   "execution_count": null,
   "id": "92d9f78b",
   "metadata": {},
   "outputs": [],
   "source": []
  }
 ],
 "metadata": {
  "kernelspec": {
   "display_name": "Python 3 (ipykernel)",
   "language": "python",
   "name": "python3"
  },
  "language_info": {
   "codemirror_mode": {
    "name": "ipython",
    "version": 3
   },
   "file_extension": ".py",
   "mimetype": "text/x-python",
   "name": "python",
   "nbconvert_exporter": "python",
   "pygments_lexer": "ipython3",
   "version": "3.9.12"
  }
 },
 "nbformat": 4,
 "nbformat_minor": 5
}
