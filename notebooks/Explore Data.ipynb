{
 "cells": [
  {
   "cell_type": "code",
   "execution_count": 1,
   "id": "9e4e7e49",
   "metadata": {},
   "outputs": [],
   "source": [
    "%load_ext autoreload\n",
    "%autoreload 2\n",
    "%matplotlib inline"
   ]
  },
  {
   "cell_type": "code",
   "execution_count": 2,
   "id": "6bd43c9e",
   "metadata": {},
   "outputs": [],
   "source": [
    "import my_data\n",
    "import numpy as np\n",
    "import matplotlib.pyplot as plt\n",
    "import configparser\n",
    "from os.path import join as oj\n",
    "import my_data\n",
    "config = configparser.ConfigParser()\n",
    "config.read(\"../config.ini\")\n",
    "save_path = config[\"PATHS\"][\"model_path\"]"
   ]
  },
  {
   "attachments": {},
   "cell_type": "markdown",
   "id": "8c47f598",
   "metadata": {},
   "source": [
    "\n",
    "# load data from new"
   ]
  },
  {
   "cell_type": "code",
   "execution_count": 3,
   "id": "6efc7b82",
   "metadata": {},
   "outputs": [],
   "source": [
    "x, y, num_classes, class_dict = my_data.load_layer_data( oj(config[\"DATASET\"][\"data_path\"], \"DataLNO\")\n",
    ")"
   ]
  },
  {
   "cell_type": "code",
   "execution_count": 4,
   "id": "ca30f943",
   "metadata": {},
   "outputs": [],
   "source": [
    "x_pool = my_data.load_pool_data(\n",
    "            oj(config[\"DATASET\"][\"data_path\"],\"voltif_LNO\")\n",
    ")"
   ]
  },
  {
   "cell_type": "code",
   "execution_count": 10,
   "id": "738513a0",
   "metadata": {},
   "outputs": [],
   "source": [
    "data_min, data_max = np.min(x[:-4]), np.max(x[:-4])\n",
    "x = (x - data_min) / (data_max - data_min)"
   ]
  },
  {
   "cell_type": "code",
   "execution_count": 11,
   "id": "f6aca1a9",
   "metadata": {},
   "outputs": [],
   "source": [
    "x_pool = x_pool.astype(np.float16)\n",
    "x_pool = (x_pool - data_min) / (data_max - data_min)"
   ]
  },
  {
   "cell_type": "code",
   "execution_count": null,
   "id": "070040e4",
   "metadata": {},
   "outputs": [],
   "source": [
    "# plt hist with normalized\n",
    "plt.hist(x_pool.flatten(), bins=100)\n"
   ]
  },
  {
   "cell_type": "code",
   "execution_count": 15,
   "id": "372ee683",
   "metadata": {},
   "outputs": [
    {
     "data": {
      "image/png": "[encoded data removed]",
      "text/plain": [
       "<Figure size 1000x1000 with 1 Axes>"
      ]
     },
     "metadata": {},
     "output_type": "display_data"
    }
   ],
   "source": [
    "# plot the distributions of x and xpool over each other as probality \n",
    "plt.figure(figsize=(10, 10))\n",
    "plt.hist(x.flatten(), bins=100, alpha=0.5, label=\"x\", density = True);\n",
    "\n",
    "plt.hist(x_pool.flatten(), bins=100, alpha=0.5, label=\"x_pool\",density = True);"
   ]
  },
  {
   "cell_type": "code",
   "execution_count": 6,
   "id": "0de16a00",
   "metadata": {},
   "outputs": [
    {
     "data": {
      "text/plain": [
       "12"
      ]
     },
     "execution_count": 6,
     "metadata": {},
     "output_type": "execute_result"
    }
   ],
   "source": [
    "x_pool.min()"
   ]
  },
  {
   "cell_type": "code",
   "execution_count": 7,
   "id": "4c4405a2",
   "metadata": {},
   "outputs": [
    {
     "data": {
      "text/plain": [
       "255.0"
      ]
     },
     "execution_count": 7,
     "metadata": {},
     "output_type": "execute_result"
    }
   ],
   "source": [
    "x.max()"
   ]
  },
  {
   "cell_type": "code",
   "execution_count": 8,
   "id": "5da47bc7",
   "metadata": {},
   "outputs": [
    {
     "data": {
      "text/plain": [
       "0.0"
      ]
     },
     "execution_count": 8,
     "metadata": {},
     "output_type": "execute_result"
    }
   ],
   "source": [
    "x.min()"
   ]
  },
  {
   "cell_type": "code",
   "execution_count": 17,
   "id": "704ac4e7",
   "metadata": {},
   "outputs": [
    {
     "data": {
      "text/plain": [
       "{0: 26, 1: 64, 2: 204}"
      ]
     },
     "execution_count": 17,
     "metadata": {},
     "output_type": "execute_result"
    }
   ],
   "source": [
    "class_dict\n"
   ]
  },
  {
   "cell_type": "code",
   "execution_count": null,
   "id": "a64d0c8f",
   "metadata": {},
   "outputs": [],
   "source": [
    "voltif_LNO"
   ]
  },
  {
   "cell_type": "code",
   "execution_count": 21,
   "id": "2b74e307",
   "metadata": {},
   "outputs": [],
   "source": [
    "\n",
    "from skimage import io\n",
    "data_path = oj(config[\"PATHS\"][\"progress_results\"], '0271415942')\n",
    "import os\n",
    "images_folder = oj(data_path, \"images\")\n",
    "annot_folder = oj(data_path, \"human_annotated\")\n",
    "assert len(os.listdir(images_folder)) == len(os.listdir(annot_folder))\n",
    "images = []\n",
    "annotations = []\n",
    "for file_name in os.listdir(images_folder):\n",
    "    images.append(io.imread(oj(images_folder, file_name)))\n",
    "    annotations.append(io.imread(oj(annot_folder, file_name)))"
   ]
  },
  {
   "cell_type": "code",
   "execution_count": 23,
   "id": "51d8dca9",
   "metadata": {},
   "outputs": [
    {
     "data": {
      "text/plain": [
       "array([ 26,  64, 204], dtype=uint8)"
      ]
     },
     "execution_count": 23,
     "metadata": {},
     "output_type": "execute_result"
    }
   ],
   "source": [
    "np.unique(np.asarray(annotations))"
   ]
  },
  {
   "cell_type": "code",
   "execution_count": 24,
   "id": "95c53d6d",
   "metadata": {},
   "outputs": [
    {
     "data": {
      "text/plain": [
       "{0: 26, 1: 64, 2: 204}"
      ]
     },
     "execution_count": 24,
     "metadata": {},
     "output_type": "execute_result"
    }
   ],
   "source": [
    "class_dict"
   ]
  },
  {
   "cell_type": "code",
   "execution_count": 13,
   "id": "2ab34085",
   "metadata": {},
   "outputs": [
    {
     "name": "stdout",
     "output_type": "stream",
     "text": [
      "[ 64 102 128 242]\n"
     ]
    }
   ],
   "source": [
    "\n",
    "from skimage import io\n",
    "data_path = oj(config[\"PATHS\"][\"progress_results\"], '0271415942')\n",
    "import os\n",
    "images_folder = oj(data_path, \"images\")\n",
    "annot_folder = oj(data_path, \"human_annotated\")\n",
    "assert len(os.listdir(images_folder)) == len(os.listdir(annot_folder))\n",
    "images = []\n",
    "annotations = []\n",
    "for file_name in os.listdir(images_folder):\n",
    "    images.append(io.imread(oj(images_folder, file_name)))\n",
    "    annotations.append(io.imread(oj(annot_folder, file_name)))\n",
    "# print(np.unique(np.asarray(annotations)))\n",
    "# make a list of the values in the predictions\n",
    "annotations = np.asarray(annotations)\n",
    "annotation_vals = np.unique(annotations)\n",
    "inverse_class_dict = {v: k for k, v in class_dict.items()}\n",
    "list_of_old_vals = sorted(list(inverse_class_dict.keys()))\n",
    "\n",
    "annotations = np.asarray(annotations)\n",
    "new_annotations = np.zeros_like(annotations)\n",
    "for i,val in enumerate(annotation_vals):\n",
    "    new_annotations[annotations == val] = list_of_old_vals[np.minimum(i, len(list_of_old_vals)-1)]\n",
    "# go through \n",
    "    \n",
    "\n",
    "\n",
    "\n",
    "# return_dataset = TensorDataset(\n",
    "#     torch.Tensor(np.asarray(images)[:, None]), torch.Tensor(np.asarray(new_annotations))\n",
    "# )\n",
    "# return return_dataset\n"
   ]
  },
  {
   "cell_type": "code",
   "execution_count": 20,
   "id": "743b0fc1",
   "metadata": {},
   "outputs": [],
   "source": [
    "for i in range(annotations.shape[0]):\n",
    "    #save the new annotation under the same file name as the old\n",
    "    io.imsave(oj(annot_folder, os.listdir(images_folder)[i]), new_annotations[i])"
   ]
  },
  {
   "cell_type": "code",
   "execution_count": 19,
   "id": "6bc831bf",
   "metadata": {},
   "outputs": [
    {
     "data": {
      "text/plain": [
       "4"
      ]
     },
     "execution_count": 19,
     "metadata": {},
     "output_type": "execute_result"
    }
   ],
   "source": [
    "len(annotations_list)"
   ]
  },
  {
   "cell_type": "code",
   "execution_count": 14,
   "id": "e1088027",
   "metadata": {},
   "outputs": [
    {
     "data": {
      "text/plain": [
       "array([ 26,  64, 204], dtype=uint8)"
      ]
     },
     "execution_count": 14,
     "metadata": {},
     "output_type": "execute_result"
    }
   ],
   "source": [
    "np.unique(new_annotations)"
   ]
  },
  {
   "cell_type": "code",
   "execution_count": 9,
   "id": "53e117b1",
   "metadata": {},
   "outputs": [],
   "source": [
    "annotated_set = my_data.load_annotated_imgs(oj(config[\"PATHS\"][\"progress_results\"], '0271415942')oj(config[\"PATHS\"][\"progress_results\"], '0271415942'))"
   ]
  },
  {
   "cell_type": "code",
   "execution_count": 10,
   "id": "a01f934b",
   "metadata": {},
   "outputs": [],
   "source": [
    "annot_img = (annotated_set[0][1]).numpy()"
   ]
  },
  {
   "cell_type": "code",
   "execution_count": 11,
   "id": "9d7fb803",
   "metadata": {},
   "outputs": [
    {
     "data": {
      "text/plain": [
       "{0: 26, 1: 64, 2: 204}"
      ]
     },
     "execution_count": 11,
     "metadata": {},
     "output_type": "execute_result"
    }
   ],
   "source": [
    "class_dict"
   ]
  },
  {
   "cell_type": "code",
   "execution_count": 12,
   "id": "2e118eb3",
   "metadata": {},
   "outputs": [
    {
     "data": {
      "text/plain": [
       "array([ 64., 102., 242.], dtype=float32)"
      ]
     },
     "execution_count": 12,
     "metadata": {},
     "output_type": "execute_result"
    }
   ],
   "source": [
    "np.unique(annot_img)"
   ]
  },
  {
   "cell_type": "code",
   "execution_count": 13,
   "id": "2bb9d8a0",
   "metadata": {},
   "outputs": [
    {
     "data": {
      "text/plain": [
       "{0: 26, 1: 64, 2: 204}"
      ]
     },
     "execution_count": 13,
     "metadata": {},
     "output_type": "execute_result"
    }
   ],
   "source": [
    "class_dict"
   ]
  },
  {
   "cell_type": "code",
   "execution_count": 3,
   "id": "ed21a0ca",
   "metadata": {},
   "outputs": [],
   "source": [
    "x, y, num_classes, class_dict = my_data.load_layer_data(\n",
    "    oj(config[\"DATASET\"][\"data_path\"], \"lno\")\n",
    ")"
   ]
  },
  {
   "cell_type": "code",
   "execution_count": 4,
   "id": "1227854f",
   "metadata": {},
   "outputs": [],
   "source": [
    "x_ho, y_ho, num_classes_ho, class_dict_ho = my_data.load_layer_data(\n",
    "    oj(config[\"DATASET\"][\"data_path\"], \"lno_halfHour\")\n",
    ")"
   ]
  },
  {
   "cell_type": "code",
   "execution_count": null,
   "id": "a4e4f6cd",
   "metadata": {},
   "outputs": [],
   "source": [
    "import numpy as np\n",
    "my_arr = [4,5,6,6,7]\n",
    "my_arr = np.asarray(my_arr)\n",
    "print(my_arr[3,2])"
   ]
  },
  {
   "cell_type": "code",
   "execution_count": null,
   "id": "0c26f64f",
   "metadata": {},
   "outputs": [],
   "source": [
    "np.random.choice(10, 3, replace=False)"
   ]
  },
  {
   "cell_type": "code",
   "execution_count": null,
   "id": "b32d192c",
   "metadata": {},
   "outputs": [],
   "source": [
    "np.unique(y)"
   ]
  },
  {
   "cell_type": "code",
   "execution_count": null,
   "id": "657600d3",
   "metadata": {},
   "outputs": [],
   "source": [
    "np.unique(y_ho)"
   ]
  },
  {
   "cell_type": "code",
   "execution_count": null,
   "id": "a446ef2a",
   "metadata": {},
   "outputs": [],
   "source": [
    "fig, axes = plt.subplots(1, 2, figsize=(10, 5))\n",
    "axes[0].imshow(x[0, 0, :, :])\n",
    "axes[1].imshow(y[ 0, :, :], vmin =-1, vmax = 2)\n",
    "# ax"
   ]
  },
  {
   "cell_type": "code",
   "execution_count": null,
   "id": "2ad6d126",
   "metadata": {},
   "outputs": [],
   "source": [
    "fig, axes = plt.subplots(1, 2, figsize=(10, 5))\n",
    "test_show = y_ho[2, :, :].astype(np.int32)\n",
    "test_show[test_show == 255] = -1\n",
    "axes[0].imshow(x_ho[2, 0, :, :])\n",
    "axes[1].imshow(test_show, vmin =-1, vmax = 2)"
   ]
  },
  {
   "cell_type": "code",
   "execution_count": null,
   "id": "f229bc43",
   "metadata": {},
   "outputs": [],
   "source": [
    "plt.hist(x_ho.flatten(), density=True, bins =100);\n",
    "plt.hist(x.flatten(), alpha = 0.5, color = 'red', density=True,bins =100);\n",
    "plt.ylim(0, 0.03)"
   ]
  },
  {
   "cell_type": "code",
   "execution_count": null,
   "id": "df950383",
   "metadata": {},
   "outputs": [],
   "source": [
    "x[0,0,0,0]"
   ]
  },
  {
   "cell_type": "code",
   "execution_count": null,
   "id": "bb5952ba",
   "metadata": {},
   "outputs": [],
   "source": []
  }
 ],
 "metadata": {
  "kernelspec": {
   "display_name": "Python (my_science)",
   "language": "python",
   "name": "my_science"
  },
  "language_info": {
   "codemirror_mode": {
    "name": "ipython",
    "version": 3
   },
   "file_extension": ".py",
   "mimetype": "text/x-python",
   "name": "python",
   "nbconvert_exporter": "python",
   "pygments_lexer": "ipython3",
   "version": "3.9.13"
  },
  "vscode": {
   "interpreter": {
    "hash": "fe90bd0bfe1f7c0a3a21ff6777adbd41ff0f7f2f3655c7130ab5c5c9a3300e3e"
   }
  }
 },
 "nbformat": 4,
 "nbformat_minor": 5
}
