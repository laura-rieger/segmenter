{
 "cells": [
  {
   "cell_type": "code",
   "execution_count": 1,
   "id": "97e44b4c",
   "metadata": {},
   "outputs": [],
   "source": [
    "%load_ext autoreload\n",
    "%autoreload 2\n",
    "%matplotlib inline\n",
    "import os\n",
    "import sys \n",
    "from torch.nn import functional as F\n",
    "import configparser\n",
    "import pandas as pd \n",
    "\n",
    "import numpy as np\n",
    "import torch\n",
    "import matplotlib.pyplot as plt\n",
    "\n",
    "import matplotlib\n",
    "matplotlib.rcParams['mathtext.fontset'] = 'stix'\n",
    "matplotlib.rcParams['font.family'] = 'STIXGeneral'\n",
    "from os.path import join as oj\n",
    "sys.path.insert(0, \"../src\")\n",
    "from unet import UNet\n",
    "import my_data\n",
    "import pickle as pkl\n",
    "pd.set_option('display.float_format', lambda x: '%.3f' % x)\n",
    "cuda = torch.cuda.is_available()\n",
    "device = torch.device(\"cuda:0\" if cuda else \"cpu\")\n",
    "config = configparser.ConfigParser()\n",
    "config.read('../config.ini');\n",
    "data_path =config['DATASET']['data_path'] \n",
    "fig_path =config['PATHS']['figure_path'] \n",
    "import segmentation_models_pytorch as smp\n"
   ]
  },
  {
   "cell_type": "code",
   "execution_count": null,
   "id": "6056e815",
   "metadata": {},
   "outputs": [],
   "source": [
    "# need exp with no active learning\n",
    "# need exp with prop increasingf\n",
    "fnames = sorted([oj(config['PATHS']['model_path'] , fname) for fname in os.listdir(config['PATHS']['model_path'] ) if \"pkl\" in fname]) \n",
    "results_list = [pd.Series(pkl.load(open(fname, \"rb\"))) for fname in (fnames)] \n",
    "results = pd.concat(results_list, axis=1).T.infer_objects()\n",
    "# results = results[results['experiment_name'] == 'ActiveLearningGr2']\n",
    "# results = results[results['add_ratio'] == 0.12]\n",
    "\n",
    "results.reset_index(inplace=True)\n",
    "results[[ 'cost_function', 'add_ratio',  'test_dice_score','test_dice_score_all', \n",
    "         'experiment_name',]].groupby([ 'experiment_name', 'cost_function','add_ratio', \n",
    "     ]).mean()\n",
    "\n"
   ]
  },
  {
   "cell_type": "code",
   "execution_count": null,
   "id": "8a15df80",
   "metadata": {},
   "outputs": [],
   "source": [
    "import seaborn as sns\n",
    "#lineplot\n",
    "results_here = results[results.experiment_name == 'ActiveLearningGr2']\n",
    "\n",
    "\n",
    "results_here_copy = results[results.experiment_name == 'GraphiteNoAq']\n",
    "results_here_copy.cost_function = 'cut_off_cost'\n",
    "results_here = pd.concat([results_here, results_here_copy])\n",
    "results_here_copy = results[results.experiment_name == 'GraphiteNoAq']\n",
    "results_here_copy.cost_function = 'random_cost'\n",
    "results_here = pd.concat([results_here, results_here_copy])\n",
    "results_here_copy = results[results.experiment_name == 'GraphiteNoAq']\n",
    "results_here_copy.cost_function = 'emc'\n",
    "results_here = pd.concat([results_here, results_here_copy])\n",
    "\n",
    "\n",
    "\n",
    "plt.figure(figsize=(20,10))\n",
    "#rename \n",
    "results_here.cost_function = results_here.cost_function.replace('cut_off_cost', 'Uncertainty')\n",
    "results_here.cost_function = results_here.cost_function.replace('random_cost', 'Random')\n",
    "\n",
    "results_here.cost_function = results_here.cost_function.replace('emc', 'EMC')\n",
    "\n",
    "plt.figure(figsize=(10,5))\n",
    "\n",
    "#rename column\n",
    "results_here = results_here.rename(columns={'test_dice_score_all': 'Dice Score'})\n",
    "results_here.add_ratio = results_here.add_ratio*100\n",
    "results_here = results_here.rename (columns={'add_ratio': 'Percentage of data'})\n",
    "\n",
    "results_here = results_here.rename(columns={'cost_function': 'Cost function'})\n",
    "\n",
    "sns.set(font_scale=2)\n",
    "sns.set_style(\"whitegrid\")\n",
    "\n",
    "g_results = sns.lineplot(data=results_here, x=\"Percentage of data\", y=\"Dice Score\", hue=\"Cost function\", errorbar='se', palette=\"tab10\", linewidth=2.5)\n",
    "\n",
    "plt.ylim(.1, .85)\n",
    "line_y = 0.743\n",
    "plt.axhline(line_y, color='k', linestyle='--', label='Full dataset')\n",
    "plt.axhspan(line_y - 0.047, line_y + 0.047, color='gray', alpha=0.3)\n",
    "# an arrow that points to the h line and says \"Full dataset\"\n",
    "plt.annotate('Full dataset', xy=(0, line_y), xytext=(0, line_y +.1), arrowprops=dict(facecolor='black', shrink=0.1),)\n",
    "# savefig\n",
    "plt.savefig(oj(fig_path, 'results_lineplot_graphite_all.pdf'), dpi=300, bbox_inches='tight')"
   ]
  },
  {
   "cell_type": "code",
   "execution_count": null,
   "id": "596d4acc",
   "metadata": {},
   "outputs": [],
   "source": []
  }
 ],
 "metadata": {
  "kernelspec": {
   "display_name": "my_science",
   "language": "python",
   "name": "python3"
  },
  "language_info": {
   "codemirror_mode": {
    "name": "ipython",
    "version": 3
   },
   "file_extension": ".py",
   "mimetype": "text/x-python",
   "name": "python",
   "nbconvert_exporter": "python",
   "pygments_lexer": "ipython3",
   "version": "3.11.3"
  },
  "vscode": {
   "interpreter": {
    "hash": "fe90bd0bfe1f7c0a3a21ff6777adbd41ff0f7f2f3655c7130ab5c5c9a3300e3e"
   }
  }
 },
 "nbformat": 4,
 "nbformat_minor": 5
}
