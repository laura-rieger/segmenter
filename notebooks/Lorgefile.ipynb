{
 "cells": [
  {
   "cell_type": "code",
   "execution_count": 6,
   "id": "97e44b4c",
   "metadata": {},
   "outputs": [
    {
     "name": "stdout",
     "output_type": "stream",
     "text": [
      "The autoreload extension is already loaded. To reload it, use:\n",
      "  %reload_ext autoreload\n"
     ]
    }
   ],
   "source": [
    "%load_ext autoreload\n",
    "%autoreload 2\n",
    "%matplotlib inline\n",
    "import os\n",
    "import sys \n",
    "from skimage import data, io, filters\n",
    "import configparser\n",
    "import pandas as pd \n",
    "import numpy as np\n",
    "import torch\n",
    "import matplotlib.pyplot as plt\n",
    "from tqdm.notebook import tqdm\n",
    "\n",
    "from matplotlib import cycler\n",
    "from os.path import join as oj\n",
    "from torch.utils.data import DataLoader, TensorDataset\n",
    "from sklearn.model_selection import train_test_split\n",
    "from torch.utils.data import TensorDataset, DataLoader\n",
    "import pickle as pkl\n",
    "from sklearn.preprocessing import StandardScaler,MinMaxScaler\n",
    "sys.path.insert(0, \"../src\")\n",
    "\n",
    "from torch import optim\n",
    "from torch.utils.data import DataLoader, TensorDataset\n",
    "import my_data\n",
    "from utils.dice_score import dice_loss\n",
    "from evaluate import evaluate\n",
    "from unet import UNet\n",
    "from predict import predict_img\n",
    "import seaborn as sns\n",
    "import pickle as pkl\n",
    "from evaluate import aq_cost_function\n",
    "pd.set_option('display.float_format', lambda x: '%.2f' % x)\n",
    "cuda = False # torch.cuda.is_available()\n",
    "device = torch.device(\"cuda:0\" if cuda else \"cpu\")\n",
    "config = configparser.ConfigParser()\n",
    "config.read('../config.ini');\n",
    "data_path =config['DATASET']['data_path'] "
   ]
  },
  {
   "cell_type": "code",
   "execution_count": 7,
   "id": "f156b7f7",
   "metadata": {
    "scrolled": true
   },
   "outputs": [],
   "source": [
    "img_list = my_data.load_data(data_path)\n"
   ]
  },
  {
   "cell_type": "code",
   "execution_count": 8,
   "id": "8b460174",
   "metadata": {},
   "outputs": [],
   "source": [
    "in_arr = np.asarray([x[0] for x in img_list])\n"
   ]
  },
  {
   "cell_type": "code",
   "execution_count": 9,
   "id": "0eb70f99",
   "metadata": {},
   "outputs": [
    {
     "data": {
      "text/plain": [
       "(6, 2048, 2048)"
      ]
     },
     "execution_count": 9,
     "metadata": {},
     "output_type": "execute_result"
    }
   ],
   "source": [
    "in_arr.shape"
   ]
  },
  {
   "cell_type": "code",
   "execution_count": 10,
   "id": "0c0aa43e",
   "metadata": {},
   "outputs": [
    {
     "data": {
      "text/plain": [
       "array([[106, 106, 106, ..., 106, 106, 106],\n",
       "       [106, 106, 106, ..., 106, 106, 106],\n",
       "       [106, 106, 106, ..., 106, 106, 106],\n",
       "       ...,\n",
       "       [106, 106, 106, ..., 106, 106, 106],\n",
       "       [106, 106, 106, ..., 106, 106, 106],\n",
       "       [106, 106, 106, ..., 106, 106, 106]], dtype=uint8)"
      ]
     },
     "execution_count": 10,
     "metadata": {},
     "output_type": "execute_result"
    }
   ],
   "source": [
    "img_list[0][0]"
   ]
  },
  {
   "cell_type": "code",
   "execution_count": 64,
   "id": "07766f75",
   "metadata": {},
   "outputs": [],
   "source": [
    "new_data_path = oj(os.path.split(data_path)[0], 'lno_full')"
   ]
  },
  {
   "cell_type": "code",
   "execution_count": 14,
   "id": "219c6e9b",
   "metadata": {},
   "outputs": [],
   "source": [
    "test = my_data.load_data(oj(os.path.split(data_path)[0], 'lno_full'))\n"
   ]
  },
  {
   "cell_type": "code",
   "execution_count": 26,
   "id": "e5415455",
   "metadata": {},
   "outputs": [],
   "source": [
    "from tqdm import tqdm_notebook"
   ]
  },
  {
   "cell_type": "code",
   "execution_count": 39,
   "id": "b78753d5",
   "metadata": {},
   "outputs": [
    {
     "name": "stderr",
     "output_type": "stream",
     "text": [
      "C:\\Users\\lauri\\AppData\\Local\\Temp\\ipykernel_6360\\1403176694.py:2: TqdmDeprecationWarning: This function will be removed in tqdm==5.0.0\n",
      "Please use `tqdm.notebook.tqdm` instead of `tqdm.tqdm_notebook`\n",
      "  for i in tqdm_notebook(range(len(test))):\n"
     ]
    },
    {
     "data": {
      "application/vnd.jupyter.widget-view+json": {
       "model_id": "55165ac9cbe74af58233c3ee05688686",
       "version_major": 2,
       "version_minor": 0
      },
      "text/plain": [
       "  0%|          | 0/2048 [00:00<?, ?it/s]"
      ]
     },
     "metadata": {},
     "output_type": "display_data"
    }
   ],
   "source": [
    "idx_list = []\n",
    "for i in tqdm_notebook(range(len(test))):\n",
    "    if np.any(np.all(test[i][None,:] == in_arr, axis=(1,2)) ):\n",
    "        idx_list.append((i, np.argmax(np.all(test[i][None,:] == in_arr, axis=(1,2)) )))"
   ]
  },
  {
   "cell_type": "code",
   "execution_count": 40,
   "id": "0ad8be2e",
   "metadata": {},
   "outputs": [
    {
     "data": {
      "text/plain": [
       "[(229, 0), (519, 1), (769, 2), (1129, 3), (1529, 4), (1839, 5)]"
      ]
     },
     "execution_count": 40,
     "metadata": {},
     "output_type": "execute_result"
    }
   ],
   "source": [
    "idx_list"
   ]
  },
  {
   "cell_type": "code",
   "execution_count": 61,
   "id": "11063d46",
   "metadata": {},
   "outputs": [],
   "source": [
    "img_list = []\n",
    "for (whole_idx, _) in idx_list:\n",
    "    img_list.append(test[whole_idx-2:whole_idx+3])"
   ]
  },
  {
   "cell_type": "code",
   "execution_count": 62,
   "id": "e907bb66",
   "metadata": {},
   "outputs": [],
   "source": [
    "import pickle as pkl"
   ]
  },
  {
   "cell_type": "code",
   "execution_count": 63,
   "id": "f0ee81f5",
   "metadata": {},
   "outputs": [
    {
     "data": {
      "text/plain": [
       "'C:\\\\Users\\\\lauri\\\\Documents\\\\GitHub\\\\segmenter\\\\data\\\\lno'"
      ]
     },
     "execution_count": 63,
     "metadata": {},
     "output_type": "execute_result"
    }
   ],
   "source": [
    "data_path"
   ]
  },
  {
   "cell_type": "code",
   "execution_count": 66,
   "id": "52012301",
   "metadata": {},
   "outputs": [],
   "source": [
    "with open(oj(new_data_path, 'extended_LNO.pkl'), 'wb') as f:\n",
    "    pkl.dump(np.asarray(img_list), f)"
   ]
  }
 ],
 "metadata": {
  "kernelspec": {
   "display_name": "Python 3 (ipykernel)",
   "language": "python",
   "name": "python3"
  },
  "language_info": {
   "codemirror_mode": {
    "name": "ipython",
    "version": 3
   },
   "file_extension": ".py",
   "mimetype": "text/x-python",
   "name": "python",
   "nbconvert_exporter": "python",
   "pygments_lexer": "ipython3",
   "version": "3.9.12"
  }
 },
 "nbformat": 4,
 "nbformat_minor": 5
}
