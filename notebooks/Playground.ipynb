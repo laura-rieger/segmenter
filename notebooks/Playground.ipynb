{
 "cells": [
  {
   "cell_type": "code",
   "execution_count": 1,
   "id": "9e4e7e49",
   "metadata": {},
   "outputs": [],
   "source": [
    "%load_ext autoreload\n",
    "%autoreload 2\n",
    "%matplotlib inline"
   ]
  },
  {
   "cell_type": "code",
   "execution_count": 2,
   "id": "119574ed",
   "metadata": {},
   "outputs": [],
   "source": [
    "from PIL import Image\n"
   ]
  },
  {
   "cell_type": "code",
   "execution_count": 9,
   "id": "a4c07543",
   "metadata": {},
   "outputs": [],
   "source": [
    "import os\n",
    "import sys \n",
    "import configparser\n",
    "import pandas as pd \n",
    "import numpy as np\n",
    "import torch\n",
    "import matplotlib.pyplot as plt\n",
    "from tqdm.notebook import tqdm\n",
    "\n",
    "from matplotlib import cycler\n",
    "from os.path import join as oj\n",
    "\n",
    "from sklearn.model_selection import train_test_split\n",
    "from torch.utils.data import TensorDataset, DataLoader\n",
    "import pickle as pkl\n",
    "from sklearn.preprocessing import StandardScaler,MinMaxScaler\n",
    "sys.path.insert(0, \"../src\")\n",
    "\n",
    "from torch import optim\n",
    "from torch.utils.data import DataLoader, TensorDataset\n",
    "import my_data\n",
    "import unet_model\n",
    "import models\n",
    "import seaborn as sns\n",
    "import pickle as pkl\n",
    "pd.set_option('display.float_format', lambda x: '%.2f' % x)\n",
    "cuda = torch.cuda.is_available()\n",
    "device = torch.device(\"cuda:0\" if cuda else \"cpu\")"
   ]
  },
  {
   "cell_type": "code",
   "execution_count": 36,
   "id": "df9e1027",
   "metadata": {},
   "outputs": [],
   "source": [
    "config = configparser.ConfigParser()\n",
    "config.read('../config.ini');\n",
    "data_path =config['DATASET']['data_path'] "
   ]
  },
  {
   "cell_type": "code",
   "execution_count": 37,
   "id": "f98e6933",
   "metadata": {},
   "outputs": [],
   "source": [
    "img_list = my_data.load_data(data_path)\n",
    "x, y= my_data.make_rudimentary_dataset(my_data.load_data(data_path),img_size =128,offset=64)\n",
    "x = x[:, None]"
   ]
  },
  {
   "cell_type": "code",
   "execution_count": 38,
   "id": "98b3b3c0",
   "metadata": {},
   "outputs": [
    {
     "data": {
      "text/plain": [
       "(6, 2048, 2048)"
      ]
     },
     "execution_count": 38,
     "metadata": {},
     "output_type": "execute_result"
    }
   ],
   "source": [
    "my_data.load_data(data_path)[0].shape"
   ]
  },
  {
   "cell_type": "code",
   "execution_count": 39,
   "id": "7b3ee220",
   "metadata": {},
   "outputs": [
    {
     "data": {
      "text/plain": [
       "array([0, 1, 2], dtype=uint8)"
      ]
     },
     "execution_count": 39,
     "metadata": {},
     "output_type": "execute_result"
    }
   ],
   "source": [
    "np.unique(y[:,0])"
   ]
  },
  {
   "cell_type": "code",
   "execution_count": 40,
   "id": "4b1991e3",
   "metadata": {},
   "outputs": [
    {
     "data": {
      "text/plain": [
       "-1.0"
      ]
     },
     "execution_count": 40,
     "metadata": {},
     "output_type": "execute_result"
    }
   ],
   "source": [
    "x.min()"
   ]
  },
  {
   "cell_type": "code",
   "execution_count": 41,
   "id": "59ec77a2",
   "metadata": {},
   "outputs": [],
   "source": [
    "img_list = my_data.load_data(data_path)"
   ]
  },
  {
   "cell_type": "code",
   "execution_count": 45,
   "id": "4e65c2de",
   "metadata": {},
   "outputs": [
    {
     "data": {
      "text/plain": [
       "(5400, 128, 128)"
      ]
     },
     "execution_count": 45,
     "metadata": {},
     "output_type": "execute_result"
    }
   ],
   "source": [
    "y.shape"
   ]
  },
  {
   "cell_type": "code",
   "execution_count": 43,
   "id": "e3ff75b8",
   "metadata": {},
   "outputs": [],
   "source": [
    "background_color = 2\n",
    "phase_1 = 67\n",
    "phase_2 = 224"
   ]
  },
  {
   "cell_type": "code",
   "execution_count": 46,
   "id": "fb137b4b",
   "metadata": {},
   "outputs": [
    {
     "data": {
      "text/plain": [
       "1"
      ]
     },
     "execution_count": 46,
     "metadata": {},
     "output_type": "execute_result"
    }
   ],
   "source": [
    "y[300][120,120]"
   ]
  },
  {
   "cell_type": "code",
   "execution_count": 47,
   "id": "32cf9c54",
   "metadata": {},
   "outputs": [
    {
     "data": {
      "text/plain": [
       "<matplotlib.image.AxesImage at 0x1e978653160>"
      ]
     },
     "execution_count": 47,
     "metadata": {},
     "output_type": "execute_result"
    },
    {
     "data": {
      "image/png": "[encoded data removed]",
      "text/plain": [
       "<Figure size 432x288 with 1 Axes>"
      ]
     },
     "metadata": {
      "needs_background": "light"
     },
     "output_type": "display_data"
    }
   ],
   "source": [
    "plt.imshow(y[300])"
   ]
  },
  {
   "cell_type": "code",
   "execution_count": 16,
   "id": "1575475c",
   "metadata": {},
   "outputs": [
    {
     "data": {
      "text/plain": [
       "array([  2,  67, 224], dtype=uint8)"
      ]
     },
     "execution_count": 16,
     "metadata": {},
     "output_type": "execute_result"
    }
   ],
   "source": [
    "np.unique(img_list[1][2])"
   ]
  },
  {
   "cell_type": "code",
   "execution_count": null,
   "id": "9ea255da",
   "metadata": {},
   "outputs": [],
   "source": [
    "zip(img_list)"
   ]
  },
  {
   "cell_type": "code",
   "execution_count": 8,
   "id": "23077eac",
   "metadata": {},
   "outputs": [
    {
     "data": {
      "text/plain": [
       "4"
      ]
     },
     "execution_count": 8,
     "metadata": {},
     "output_type": "execute_result"
    }
   ],
   "source": [
    "len(img_list)"
   ]
  },
  {
   "cell_type": "code",
   "execution_count": 5,
   "id": "6b12f4de",
   "metadata": {},
   "outputs": [],
   "source": [
    "img_list = my_data.load_data(data_path)\n",
    "x, y= my_data.make_rudimentary_dataset(my_data.load_data(data_path),img_size =20,offset=50)\n",
    "x = x[:, None]\n",
    "\n",
    "X_train, X_test, y_train, y_test = train_test_split(x,\n",
    "                                                    y,\n",
    "                                                    test_size=0.15,\n",
    "                                                    random_state=1)\n",
    "\n",
    "X_train, X_val, y_train, y_val = train_test_split(\n",
    "    X_train, y_train, test_size=0.18, random_state=1)  # 0.25 x 0.8 = 0.2\n",
    "\n",
    "torch.manual_seed(0)\n",
    "train_dataset = TensorDataset(\n",
    "    *[torch.Tensor(input) for input in [X_train, y_train]])\n",
    "train_loader = DataLoader(train_dataset,\n",
    "                          batch_size=32,\n",
    "                          shuffle=True)\n",
    "\n",
    "val_dataset = TensorDataset(\n",
    "    *[torch.Tensor(input) for input in [\n",
    "        X_val,\n",
    "        y_val,\n",
    "    ]])\n",
    "val_loader = DataLoader(val_dataset, batch_size=32, shuffle=False)"
   ]
  },
  {
   "cell_type": "code",
   "execution_count": 6,
   "id": "ed835c08",
   "metadata": {},
   "outputs": [],
   "source": [
    "input_dim = X_train.shape[\n",
    "    2]  # Number of input features (e.g. discharge capacity)\n",
    "\n",
    "model = unet_model.UNet(1, 1, use_small=True).to(device)\n",
    "\n",
    "optimizer = optim.Adam(model.parameters(), )\n",
    "loss_function = torch.nn.BCEWithLogitsLoss(reduction='none')\n",
    "training_loss = []\n",
    "validation_loss = []\n",
    "\n",
    "best_val_loss = 500000\n",
    "\n",
    "cur_patience = 0\n",
    "max_patience = 5\n",
    "patience_delta = 0.0\n",
    "best_weights = None"
   ]
  },
  {
   "cell_type": "code",
   "execution_count": 7,
   "id": "bb263304",
   "metadata": {},
   "outputs": [],
   "source": [
    "for batch_idx, (\n",
    "        input_data,\n",
    "        y_hat,\n",
    ") in enumerate(train_loader):\n",
    "    pass"
   ]
  },
  {
   "cell_type": "code",
   "execution_count": 8,
   "id": "fd2e1556",
   "metadata": {},
   "outputs": [],
   "source": [
    "input_data = input_data.to(device)\n",
    "y_hat = y_hat.to(device)\n",
    "optimizer.zero_grad()\n",
    "y_pred = model(input_data, )"
   ]
  },
  {
   "cell_type": "code",
   "execution_count": 9,
   "id": "8e3ebc96",
   "metadata": {},
   "outputs": [
    {
     "data": {
      "text/plain": [
       "tensor([[[False, False, False,  ..., False, False, False],\n",
       "         [False, False, False,  ..., False, False, False],\n",
       "         [False, False, False,  ..., False, False, False],\n",
       "         ...,\n",
       "         [False, False, False,  ..., False, False, False],\n",
       "         [False, False, False,  ..., False, False, False],\n",
       "         [False, False, False,  ..., False, False, False]],\n",
       "\n",
       "        [[ True,  True,  True,  ...,  True,  True,  True],\n",
       "         [ True,  True,  True,  ...,  True,  True,  True],\n",
       "         [ True,  True,  True,  ...,  True,  True,  True],\n",
       "         ...,\n",
       "         [ True,  True,  True,  ...,  True,  True,  True],\n",
       "         [ True,  True,  True,  ...,  True,  True,  True],\n",
       "         [ True,  True,  True,  ...,  True,  True,  True]],\n",
       "\n",
       "        [[False, False, False,  ..., False, False, False],\n",
       "         [False, False, False,  ..., False, False, False],\n",
       "         [False, False, False,  ..., False, False, False],\n",
       "         ...,\n",
       "         [False, False, False,  ..., False, False, False],\n",
       "         [False, False, False,  ..., False, False, False],\n",
       "         [False, False, False,  ..., False, False, False]],\n",
       "\n",
       "        [[ True,  True,  True,  ...,  True,  True,  True],\n",
       "         [ True,  True,  True,  ...,  True,  True,  True],\n",
       "         [ True,  True,  True,  ...,  True,  True,  True],\n",
       "         ...,\n",
       "         [ True,  True,  True,  ...,  True,  True,  True],\n",
       "         [ True,  True,  True,  ...,  True,  True,  True],\n",
       "         [ True,  True,  True,  ...,  True,  True,  True]],\n",
       "\n",
       "        [[ True,  True,  True,  ...,  True,  True,  True],\n",
       "         [ True,  True,  True,  ...,  True,  True,  True],\n",
       "         [ True,  True,  True,  ...,  True,  True,  True],\n",
       "         ...,\n",
       "         [ True,  True,  True,  ...,  True,  True,  True],\n",
       "         [ True,  True,  True,  ...,  True,  True,  True],\n",
       "         [ True,  True,  True,  ...,  True,  True,  True]],\n",
       "\n",
       "        [[ True,  True,  True,  ...,  True,  True,  True],\n",
       "         [ True,  True,  True,  ...,  True,  True,  True],\n",
       "         [ True,  True,  True,  ...,  True,  True,  True],\n",
       "         ...,\n",
       "         [ True,  True,  True,  ...,  True,  True,  True],\n",
       "         [ True,  True,  True,  ...,  True,  True,  True],\n",
       "         [ True,  True,  True,  ...,  True,  True,  True]]], device='cuda:0')"
      ]
     },
     "execution_count": 9,
     "metadata": {},
     "output_type": "execute_result"
    }
   ],
   "source": [
    "y_hat[:,1] >0"
   ]
  },
  {
   "cell_type": "code",
   "execution_count": null,
   "id": "9e0ca18b",
   "metadata": {},
   "outputs": [],
   "source": []
  },
  {
   "cell_type": "code",
   "execution_count": 10,
   "id": "f86de8a0",
   "metadata": {},
   "outputs": [],
   "source": [
    "loss = loss_function(y_pred[:, 0], y_hat[:, 0])"
   ]
  },
  {
   "cell_type": "code",
   "execution_count": 11,
   "id": "e9424e85",
   "metadata": {},
   "outputs": [
    {
     "data": {
      "text/plain": [
       "tensor([[[0.8818, 0.8931, 0.8945,  ..., 0.9152, 0.9137, 0.9319],\n",
       "         [0.8316, 0.8381, 0.8065,  ..., 0.9293, 0.9242, 0.9482],\n",
       "         [0.8311, 0.8549, 0.8188,  ..., 0.8986, 0.8896, 0.9088],\n",
       "         ...,\n",
       "         [0.8231, 0.8554, 0.8518,  ..., 0.8210, 0.8030, 0.7947],\n",
       "         [0.8476, 0.8822, 0.8952,  ..., 0.8471, 0.8280, 0.8097],\n",
       "         [0.8833, 0.9222, 0.9886,  ..., 0.9067, 0.8938, 0.8694]],\n",
       "\n",
       "        [[0.9315, 1.5362, 0.9388,  ..., 0.7417, 1.0328, 0.8899],\n",
       "         [1.4935, 1.3822, 0.8694,  ..., 0.6973, 0.9628, 0.9492],\n",
       "         [0.7037, 1.0431, 0.8229,  ..., 1.0526, 0.5761, 0.7477],\n",
       "         ...,\n",
       "         [1.2423, 0.6223, 0.6341,  ..., 1.2593, 0.9939, 1.0102],\n",
       "         [1.0491, 0.7338, 0.8213,  ..., 1.1313, 1.2109, 1.1903],\n",
       "         [1.0076, 0.7863, 0.8516,  ..., 0.6046, 0.5853, 0.7200]],\n",
       "\n",
       "        [[0.8818, 0.8931, 0.8945,  ..., 0.9152, 0.9137, 0.9319],\n",
       "         [0.8316, 0.8381, 0.8065,  ..., 0.9293, 0.9242, 0.9482],\n",
       "         [0.8311, 0.8549, 0.8188,  ..., 0.8986, 0.8896, 0.9088],\n",
       "         ...,\n",
       "         [0.8231, 0.8554, 0.8518,  ..., 0.8210, 0.8030, 0.7947],\n",
       "         [0.8476, 0.8822, 0.8952,  ..., 0.8471, 0.8280, 0.8097],\n",
       "         [0.8833, 0.9222, 0.9886,  ..., 0.9067, 0.8938, 0.8694]],\n",
       "\n",
       "        [[0.5606, 0.4273, 0.7574,  ..., 0.4187, 0.3375, 0.7551],\n",
       "         [0.4936, 0.5794, 0.6292,  ..., 0.4660, 0.4996, 0.6000],\n",
       "         [0.4991, 0.3780, 0.5322,  ..., 0.5251, 0.3823, 0.6047],\n",
       "         ...,\n",
       "         [0.5603, 0.5407, 0.6446,  ..., 0.6179, 0.5340, 0.8719],\n",
       "         [0.5849, 0.7148, 0.5470,  ..., 0.5973, 0.6311, 0.6560],\n",
       "         [0.5774, 0.4727, 0.5392,  ..., 0.5513, 0.4206, 0.8400]],\n",
       "\n",
       "        [[0.6641, 0.6008, 0.6838,  ..., 0.5418, 0.8076, 0.6928],\n",
       "         [0.7559, 0.4299, 0.8050,  ..., 0.7126, 0.7382, 0.8260],\n",
       "         [0.7673, 0.7084, 0.7535,  ..., 0.6586, 0.6352, 0.6732],\n",
       "         ...,\n",
       "         [0.7879, 0.5707, 0.7412,  ..., 0.4951, 0.7201, 0.5142],\n",
       "         [0.4722, 0.9828, 0.6945,  ..., 0.5984, 0.7629, 0.5902],\n",
       "         [0.5890, 0.7254, 0.4958,  ..., 0.5889, 0.5122, 0.5119]],\n",
       "\n",
       "        [[0.4091, 0.4468, 0.3967,  ..., 0.7283, 0.4569, 0.5523],\n",
       "         [0.7751, 0.8179, 0.5956,  ..., 0.8289, 0.6577, 0.6430],\n",
       "         [0.6184, 0.7112, 0.5332,  ..., 0.6295, 0.5708, 0.7602],\n",
       "         ...,\n",
       "         [0.2905, 0.5423, 0.6080,  ..., 0.3217, 0.2849, 0.2915],\n",
       "         [0.4984, 0.5498, 0.7224,  ..., 0.5410, 0.4524, 0.6490],\n",
       "         [0.5970, 0.7693, 0.6680,  ..., 0.5835, 0.4756, 0.5156]]],\n",
       "       device='cuda:0', grad_fn=<BinaryCrossEntropyWithLogitsBackward0>)"
      ]
     },
     "execution_count": 11,
     "metadata": {},
     "output_type": "execute_result"
    }
   ],
   "source": [
    " loss"
   ]
  },
  {
   "cell_type": "code",
   "execution_count": 12,
   "id": "666ef52c",
   "metadata": {},
   "outputs": [],
   "source": [
    "loss_num = torch.masked_select(loss, y_hat[:, 1]>0).mean()"
   ]
  },
  {
   "cell_type": "code",
   "execution_count": null,
   "id": "d74e00c0",
   "metadata": {},
   "outputs": [],
   "source": [
    "\n",
    "\n",
    "# loss\n",
    "loss = loss_function(y_pred[:, 0], y_hat[:, 0])\n",
    "loss = torch.masked_select(loss, y_hat[:, 1].bool()).mean()\n",
    "\n",
    "(loss).backward()\n",
    "tr_loss += loss.item()\n",
    "optimizer.step()"
   ]
  },
  {
   "cell_type": "code",
   "execution_count": null,
   "id": "08f6c763",
   "metadata": {},
   "outputs": [],
   "source": []
  },
  {
   "cell_type": "code",
   "execution_count": null,
   "id": "fe2f48a9",
   "metadata": {},
   "outputs": [],
   "source": [
    "model.train()\n",
    "tr_loss = 0\n",
    "\n",
    "for batch_idx, (\n",
    "        input_data,\n",
    "        y_hat,\n",
    ") in enumerate(train_loader):\n",
    "\n",
    "    input_data = input_data.to(device)\n",
    "    y_hat = y_hat.to(device)\n",
    "    optimizer.zero_grad()\n",
    "    y_pred = model(input_data, )\n",
    "\n",
    "    # loss\n",
    "    loss = loss_function(y_pred[:, 0], y_hat[:, 0])\n",
    "    loss = torch.masked_select(loss, y_hat[:, 1].bool()).mean()\n",
    "\n",
    "    (loss).backward()\n",
    "    tr_loss += loss.item()\n",
    "    optimizer.step()\n",
    "\n",
    "tr_loss /= len(train_loader.dataset)\n",
    "training_loss.append(tr_loss)\n",
    "\n",
    "model.eval()\n",
    "val_loss = 0\n",
    "val_loss_state = 0\n",
    "val_loss_lifetime = 0"
   ]
  },
  {
   "cell_type": "code",
   "execution_count": null,
   "id": "8a013a13",
   "metadata": {},
   "outputs": [],
   "source": []
  },
  {
   "cell_type": "code",
   "execution_count": null,
   "id": "13f2965a",
   "metadata": {},
   "outputs": [],
   "source": []
  },
  {
   "cell_type": "code",
   "execution_count": null,
   "id": "feab66fc",
   "metadata": {},
   "outputs": [],
   "source": [
    "y.dtype"
   ]
  },
  {
   "cell_type": "code",
   "execution_count": null,
   "id": "b8bea036",
   "metadata": {},
   "outputs": [],
   "source": [
    "x = ((x.astype(np.int16)-128)/128).max()"
   ]
  },
  {
   "cell_type": "code",
   "execution_count": null,
   "id": "f731b69b",
   "metadata": {},
   "outputs": [],
   "source": [
    "np.unique(y[:,0])"
   ]
  },
  {
   "cell_type": "code",
   "execution_count": null,
   "id": "8aaafa5c",
   "metadata": {},
   "outputs": [],
   "source": [
    "y.shape"
   ]
  },
  {
   "cell_type": "code",
   "execution_count": null,
   "id": "cc66e044",
   "metadata": {},
   "outputs": [],
   "source": [
    "256/2"
   ]
  },
  {
   "cell_type": "code",
   "execution_count": null,
   "id": "8b4df4c7",
   "metadata": {},
   "outputs": [],
   "source": [
    "x.max()"
   ]
  },
  {
   "cell_type": "code",
   "execution_count": null,
   "id": "d9f0aa37",
   "metadata": {},
   "outputs": [],
   "source": [
    "plt.imshow(x[500, ])"
   ]
  },
  {
   "cell_type": "code",
   "execution_count": null,
   "id": "a87370a3",
   "metadata": {},
   "outputs": [],
   "source": [
    "y[500, 1,0,0]"
   ]
  },
  {
   "cell_type": "code",
   "execution_count": null,
   "id": "d8a7d7f1",
   "metadata": {},
   "outputs": [],
   "source": [
    "plt.imshow(y[500, 0])"
   ]
  },
  {
   "cell_type": "code",
   "execution_count": null,
   "id": "fee7def5",
   "metadata": {},
   "outputs": [],
   "source": [
    "plt.imshow(y[5000,0 ])"
   ]
  },
  {
   "cell_type": "code",
   "execution_count": null,
   "id": "f6a0047e",
   "metadata": {},
   "outputs": [],
   "source": [
    "model = unet_model.UNet(1, 1, use_small=True).to(device)"
   ]
  },
  {
   "cell_type": "code",
   "execution_count": null,
   "id": "d086325d",
   "metadata": {},
   "outputs": [],
   "source": [
    "model(torch.Tensor(x[:2, None]).to(device))"
   ]
  },
  {
   "cell_type": "code",
   "execution_count": null,
   "id": "f28ef453",
   "metadata": {},
   "outputs": [],
   "source": []
  }
 ],
 "metadata": {
  "kernelspec": {
   "display_name": "Python 3 (ipykernel)",
   "language": "python",
   "name": "python3"
  },
  "language_info": {
   "codemirror_mode": {
    "name": "ipython",
    "version": 3
   },
   "file_extension": ".py",
   "mimetype": "text/x-python",
   "name": "python",
   "nbconvert_exporter": "python",
   "pygments_lexer": "ipython3",
   "version": "3.9.12"
  }
 },
 "nbformat": 4,
 "nbformat_minor": 5
}
