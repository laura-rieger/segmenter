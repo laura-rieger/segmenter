{
 "cells": [
  {
   "cell_type": "code",
   "execution_count": 40,
   "id": "97e44b4c",
   "metadata": {},
   "outputs": [
    {
     "name": "stdout",
     "output_type": "stream",
     "text": [
      "The autoreload extension is already loaded. To reload it, use:\n",
      "  %reload_ext autoreload\n"
     ]
    }
   ],
   "source": [
    "%load_ext autoreload\n",
    "%autoreload 2\n",
    "%matplotlib inline\n",
    "import os\n",
    "import sys \n",
    "from skimage import data, io, filters\n",
    "import configparser\n",
    "import pandas as pd \n",
    "import numpy as np\n",
    "import torch\n",
    "import matplotlib.pyplot as plt\n",
    "from tqdm.notebook import tqdm\n",
    "\n",
    "from matplotlib import cycler\n",
    "from os.path import join as oj\n",
    "from torch.utils.data import DataLoader, TensorDataset\n",
    "from sklearn.model_selection import train_test_split\n",
    "from torch.utils.data import TensorDataset, DataLoader\n",
    "import pickle as pkl\n",
    "from sklearn.preprocessing import StandardScaler,MinMaxScaler\n",
    "sys.path.insert(0, \"../src\")\n",
    "\n",
    "from torch import optim\n",
    "from torch.utils.data import DataLoader, TensorDataset\n",
    "import my_data\n",
    "from utils.dice_score import dice_loss\n",
    "from evaluate import evaluate,random_cost_function,std_cost_function\n",
    "from unet import UNet\n",
    "from predict import predict_img\n",
    "import seaborn as sns\n",
    "import pickle as pkl\n",
    "pd.set_option('display.float_format', lambda x: '%.2f' % x)\n",
    "cuda = False # torch.cuda.is_available()\n",
    "device = torch.device(\"cuda:0\" if cuda else \"cpu\")\n",
    "config = configparser.ConfigParser()\n",
    "config.read('../config.ini');\n",
    "data_path =config['DATASET']['data_path'] \n",
    "from torch.nn import functional as F"
   ]
  },
  {
   "cell_type": "code",
   "execution_count": 41,
   "id": "ec9c243b",
   "metadata": {},
   "outputs": [],
   "source": [
    "fnames = sorted([oj(config['PATHS']['model_path'] , fname) for fname in os.listdir(config['PATHS']['model_path'] ) if \"pkl\" in fname]) \n",
    "results_list = [pd.Series(pkl.load(open(fname, \"rb\"))) for fname in (fnames)] \n"
   ]
  },
  {
   "cell_type": "code",
   "execution_count": 42,
   "id": "e3369917",
   "metadata": {},
   "outputs": [],
   "source": [
    "results = pd.concat(results_list, axis=1).T.infer_objects()\n",
    "\n",
    "results.experiment_name.unique()\n",
    "results['best_val_score'] = [max(x) for x in results.val_scores]"
   ]
  },
  {
   "cell_type": "code",
   "execution_count": 43,
   "id": "555a2f91",
   "metadata": {},
   "outputs": [
    {
     "data": {
      "text/plain": [
       "array(['LNOSweepLong3'], dtype=object)"
      ]
     },
     "execution_count": 43,
     "metadata": {},
     "output_type": "execute_result"
    }
   ],
   "source": [
    "results.experiment_name.unique()"
   ]
  },
  {
   "cell_type": "code",
   "execution_count": 44,
   "id": "786dec20",
   "metadata": {},
   "outputs": [
    {
     "data": {
      "text/plain": [
       "9"
      ]
     },
     "execution_count": 44,
     "metadata": {},
     "output_type": "execute_result"
    }
   ],
   "source": [
    "len(results)"
   ]
  },
  {
   "cell_type": "code",
   "execution_count": 45,
   "id": "76976cff",
   "metadata": {},
   "outputs": [],
   "source": [
    "# results = results[results.foldername == \"lno_halfHour\"]\n",
    "results = results[results.experiment_name == results.experiment_name.unique()[0]]\n",
    "results = results.reset_index()"
   ]
  },
  {
   "cell_type": "code",
   "execution_count": 46,
   "id": "9f9c632d",
   "metadata": {},
   "outputs": [
    {
     "data": {
      "image/png": "[encoded data removed]",
      "text/plain": [
       "<Figure size 432x288 with 1 Axes>"
      ]
     },
     "metadata": {
      "needs_background": "light"
     },
     "output_type": "display_data"
    }
   ],
   "source": [
    "import seaborn as sns\n",
    "for cost_function in results.cost_function.unique():\n",
    "    sns.lineplot(data=results[results.cost_function == cost_function], x=\"add_ratio\", y=\"final_dice_score\", label =cost_function, )\n"
   ]
  },
  {
   "cell_type": "code",
   "execution_count": 47,
   "id": "b9c3151f",
   "metadata": {
    "scrolled": true
   },
   "outputs": [
    {
     "data": {
      "text/html": [
       "<div>\n",
       "<style scoped>\n",
       "    .dataframe tbody tr th:only-of-type {\n",
       "        vertical-align: middle;\n",
       "    }\n",
       "\n",
       "    .dataframe tbody tr th {\n",
       "        vertical-align: top;\n",
       "    }\n",
       "\n",
       "    .dataframe thead th {\n",
       "        text-align: right;\n",
       "    }\n",
       "</style>\n",
       "<table border=\"1\" class=\"dataframe\">\n",
       "  <thead>\n",
       "    <tr style=\"text-align: right;\">\n",
       "      <th></th>\n",
       "      <th></th>\n",
       "      <th></th>\n",
       "      <th>final_dice_score</th>\n",
       "    </tr>\n",
       "    <tr>\n",
       "      <th>cost_function</th>\n",
       "      <th>foldername</th>\n",
       "      <th>add_ratio</th>\n",
       "      <th></th>\n",
       "    </tr>\n",
       "  </thead>\n",
       "  <tbody>\n",
       "    <tr>\n",
       "      <th rowspan=\"4\" valign=\"top\">Mean</th>\n",
       "      <th rowspan=\"4\" valign=\"top\">lno_halfHour</th>\n",
       "      <th>0.00</th>\n",
       "      <td>0.85</td>\n",
       "    </tr>\n",
       "    <tr>\n",
       "      <th>0.05</th>\n",
       "      <td>0.79</td>\n",
       "    </tr>\n",
       "    <tr>\n",
       "      <th>0.10</th>\n",
       "      <td>0.95</td>\n",
       "    </tr>\n",
       "    <tr>\n",
       "      <th>0.30</th>\n",
       "      <td>0.94</td>\n",
       "    </tr>\n",
       "    <tr>\n",
       "      <th rowspan=\"5\" valign=\"top\">Random</th>\n",
       "      <th>lno</th>\n",
       "      <th>0.00</th>\n",
       "      <td>0.96</td>\n",
       "    </tr>\n",
       "    <tr>\n",
       "      <th rowspan=\"4\" valign=\"top\">lno_halfHour</th>\n",
       "      <th>0.00</th>\n",
       "      <td>0.85</td>\n",
       "    </tr>\n",
       "    <tr>\n",
       "      <th>0.05</th>\n",
       "      <td>0.91</td>\n",
       "    </tr>\n",
       "    <tr>\n",
       "      <th>0.10</th>\n",
       "      <td>0.94</td>\n",
       "    </tr>\n",
       "    <tr>\n",
       "      <th>0.30</th>\n",
       "      <td>0.95</td>\n",
       "    </tr>\n",
       "  </tbody>\n",
       "</table>\n",
       "</div>"
      ],
      "text/plain": [
       "                                      final_dice_score\n",
       "cost_function foldername   add_ratio                  \n",
       "Mean          lno_halfHour 0.00                   0.85\n",
       "                           0.05                   0.79\n",
       "                           0.10                   0.95\n",
       "                           0.30                   0.94\n",
       "Random        lno          0.00                   0.96\n",
       "              lno_halfHour 0.00                   0.85\n",
       "                           0.05                   0.91\n",
       "                           0.10                   0.94\n",
       "                           0.30                   0.95"
      ]
     },
     "execution_count": 47,
     "metadata": {},
     "output_type": "execute_result"
    }
   ],
   "source": [
    "results[['foldername',  'final_dice_score','cost_function', 'add_ratio',]].groupby(['cost_function','foldername','add_ratio' ]).mean()"
   ]
  },
  {
   "cell_type": "code",
   "execution_count": null,
   "id": "16ebee37",
   "metadata": {},
   "outputs": [],
   "source": [
    "results = results[results.foldername == 'lno_halfHour']\n",
    "results = results.reset_index()"
   ]
  },
  {
   "cell_type": "code",
   "execution_count": null,
   "id": "34dd223a",
   "metadata": {},
   "outputs": [],
   "source": [
    "best_idx =results.best_val_score.argmax()\n"
   ]
  },
  {
   "cell_type": "code",
   "execution_count": null,
   "id": "db0ce644",
   "metadata": {},
   "outputs": [],
   "source": [
    "net = UNet(1, results.num_classes[best_idx], bilinear = results.bilinear[best_idx]).to(device)\n",
    "# my_models = [UNet(1, 3, bilinear = results_all.bilinear[0]).to(device) for i, _ in enumerate(results.file_name)] \n",
    "\n",
    "net.load_state_dict(torch.load(oj(config['PATHS']['model_path'] ,results.file_name[best_idx]+\".pt\")))\n",
    "net = net.to(device).eval()"
   ]
  },
  {
   "cell_type": "code",
   "execution_count": null,
   "id": "091aa8d7",
   "metadata": {},
   "outputs": [],
   "source": [
    "x,y,num_classes = my_data.load_layer_data(oj(data_path, results.foldername[best_idx]))\n",
    "\n",
    "x, y = x[:-4], y[:-4]  # just don't touch the last four\n",
    "x = x/x.max()\n",
    "val_percent = .25\n",
    "init_train_ratio =1\n",
    "image_size = 128\n",
    "offset = 64\n",
    "all_idxs = np.arange(len(x))\n",
    "np.random.seed(0)\n",
    "np.random.shuffle(all_idxs)\n",
    "n_val = np.maximum(int(len(x) * val_percent), 1)\n",
    "n_train = len(x) - n_val\n",
    "all_train_idxs = all_idxs[:n_train]\n",
    "val_idxs = all_idxs[n_train:]\n",
    "init_train_idxs = all_train_idxs[: np.maximum(1, int(init_train_ratio * n_train))]\n",
    "pool_idxs = all_train_idxs[np.maximum(1, int(init_train_ratio * n_train)) :]\n",
    "\n"
   ]
  },
  {
   "cell_type": "code",
   "execution_count": null,
   "id": "a0c55760",
   "metadata": {},
   "outputs": [],
   "source": [
    "img_idx = 2\n",
    "test_img_np  = ((x[val_idxs[img_idx]][None, ].astype(np.float32) ))\n",
    "with torch.no_grad():\n",
    "    img_t = torch.Tensor(test_img_np).to(device)\n",
    "    output = net.forward(img_t).cpu().detach().numpy()[0]"
   ]
  },
  {
   "cell_type": "code",
   "execution_count": null,
   "id": "b40be948",
   "metadata": {},
   "outputs": [],
   "source": [
    "fig, axes = plt.subplots(ncols = 4, figsize = (20,4))\n",
    "axes[0].imshow(x[val_idxs[img_idx]][0])\n",
    "axes[1].imshow(np.argmax(output, axis=0),vmin =-1, vmax = 2)\n",
    "target = np.copy(y[val_idxs[img_idx]]).astype(np.int16)\n",
    "target[np.where(target == 255)] =-1\n",
    "axes[2].imshow(target, vmin =-1,vmax = 2)\n",
    "axes[3].imshow((target !=np.argmax(output, axis=0) ) * (target !=-1))\n",
    "# axes[1].imshow()"
   ]
  },
  {
   "cell_type": "markdown",
   "id": "ee7d1849",
   "metadata": {},
   "source": [
    "# try with detailed"
   ]
  },
  {
   "cell_type": "code",
   "execution_count": null,
   "id": "08e16921",
   "metadata": {},
   "outputs": [],
   "source": [
    "x,y,num_classes = my_data.load_layer_data(oj(data_path, 'lno'))\n",
    "\n",
    "x, y = x[:-4], y[:-4]  # just don't touch the last four\n",
    "x = x/x.max()\n",
    "val_percent = .25\n",
    "init_train_ratio =1\n",
    "image_size = 128\n",
    "offset = 64\n",
    "all_idxs = np.arange(len(x))\n",
    "np.random.seed(0)\n",
    "np.random.shuffle(all_idxs)\n",
    "n_val = np.maximum(int(len(x) * val_percent), 1)\n",
    "n_train = len(x) - n_val\n",
    "all_train_idxs = all_idxs[:n_train]\n",
    "val_idxs = all_idxs[n_train:]\n",
    "init_train_idxs = all_train_idxs[: np.maximum(1, int(init_train_ratio * n_train))]\n",
    "pool_idxs = all_train_idxs[np.maximum(1, int(init_train_ratio * n_train)) :]\n",
    "\n",
    "val_set = TensorDataset(\n",
    "    *[\n",
    "        torch.Tensor(input)\n",
    "        for input in my_data.make_dataset(\n",
    "            x[val_idxs[:1]],\n",
    "            y[val_idxs[:1]],\n",
    "            img_size=image_size,\n",
    "            offset=image_size,\n",
    "        )\n",
    "    ]\n",
    ")\n",
    "val_loader = DataLoader(val_set, shuffle=False, drop_last=False, batch_size = 16)"
   ]
  },
  {
   "cell_type": "code",
   "execution_count": null,
   "id": "321a196b",
   "metadata": {},
   "outputs": [],
   "source": [
    "len(all_train_idxs)"
   ]
  },
  {
   "cell_type": "code",
   "execution_count": null,
   "id": "4905aef4",
   "metadata": {},
   "outputs": [],
   "source": [
    "len(val_loader.dataset)"
   ]
  },
  {
   "cell_type": "code",
   "execution_count": null,
   "id": "c94f3870",
   "metadata": {
    "scrolled": true
   },
   "outputs": [],
   "source": [
    "plt.imshow(x[val_idxs[0]][0])"
   ]
  },
  {
   "cell_type": "code",
   "execution_count": null,
   "id": "49539ec0",
   "metadata": {
    "scrolled": true
   },
   "outputs": [],
   "source": [
    "test_ids_safe = std_cost_function(net, device,val_loader,n_choose =59)\n",
    "\n",
    "# test_ids = np.argsort(test_ids_safe)"
   ]
  },
  {
   "cell_type": "code",
   "execution_count": null,
   "id": "d2592622",
   "metadata": {},
   "outputs": [],
   "source": [
    "len(val_loader.dataset)"
   ]
  },
  {
   "cell_type": "code",
   "execution_count": null,
   "id": "b4cdda89",
   "metadata": {},
   "outputs": [],
   "source": [
    "test_ids_safe"
   ]
  },
  {
   "cell_type": "code",
   "execution_count": null,
   "id": "78ff5da4",
   "metadata": {},
   "outputs": [],
   "source": [
    "plt.imshow(val_set[test_ids_safe[0]][0][0])"
   ]
  },
  {
   "cell_type": "code",
   "execution_count": null,
   "id": "7116ae01",
   "metadata": {},
   "outputs": [],
   "source": [
    "plt.imshow(val_set[test_ids_safe[-20]][0][0])"
   ]
  },
  {
   "cell_type": "code",
   "execution_count": null,
   "id": "3d9189f5",
   "metadata": {
    "scrolled": false
   },
   "outputs": [],
   "source": [
    "test_ids_safe[32]"
   ]
  },
  {
   "cell_type": "code",
   "execution_count": null,
   "id": "7ca14f6f",
   "metadata": {},
   "outputs": [],
   "source": [
    "test_ids_safe[23]"
   ]
  },
  {
   "cell_type": "code",
   "execution_count": null,
   "id": "d5ca6434",
   "metadata": {
    "scrolled": true
   },
   "outputs": [],
   "source": [
    "test_ids_safe"
   ]
  },
  {
   "cell_type": "code",
   "execution_count": null,
   "id": "03d48ef4",
   "metadata": {},
   "outputs": [],
   "source": [
    "test_ids_safe"
   ]
  },
  {
   "cell_type": "code",
   "execution_count": null,
   "id": "d1da3e38",
   "metadata": {},
   "outputs": [],
   "source": [
    "test_ids_safe"
   ]
  },
  {
   "cell_type": "code",
   "execution_count": null,
   "id": "867d4293",
   "metadata": {},
   "outputs": [],
   "source": [
    "test_ids_safe"
   ]
  },
  {
   "cell_type": "code",
   "execution_count": null,
   "id": "32db622b",
   "metadata": {},
   "outputs": [],
   "source": [
    "test_ids_safe"
   ]
  },
  {
   "cell_type": "code",
   "execution_count": null,
   "id": "ebad2ef4",
   "metadata": {},
   "outputs": [],
   "source": [
    "net(val_set[test_ids_safe[1]][0][None,:].to(device))[0].std(dim=1).mean(dim=(0,1))"
   ]
  },
  {
   "cell_type": "code",
   "execution_count": null,
   "id": "a3f21bfc",
   "metadata": {},
   "outputs": [],
   "source": [
    "net(val_set[test_ids_safe[-1]][0][None,:].to(device))[0].std(dim=1).mean(dim=(0,1))"
   ]
  },
  {
   "cell_type": "code",
   "execution_count": null,
   "id": "bab51878",
   "metadata": {},
   "outputs": [],
   "source": [
    "net(val_set[test_ids_safe[-1]][0][None,:].to(device))[0][0].mean()"
   ]
  },
  {
   "cell_type": "code",
   "execution_count": null,
   "id": "02d96408",
   "metadata": {},
   "outputs": [],
   "source": [
    "net(val_set[test_ids_safe[-1]][0][None,:].to(device))[0][2].mean()"
   ]
  },
  {
   "cell_type": "code",
   "execution_count": null,
   "id": "9766c031",
   "metadata": {},
   "outputs": [],
   "source": [
    "net(val_set[test_ids_safe[-1]][0][None,:].to(device))[0].std(dim=1)"
   ]
  },
  {
   "cell_type": "code",
   "execution_count": null,
   "id": "8ad6aa93",
   "metadata": {},
   "outputs": [],
   "source": [
    "test_ids_safe[224]"
   ]
  },
  {
   "cell_type": "code",
   "execution_count": null,
   "id": "05af76dc",
   "metadata": {
    "scrolled": true
   },
   "outputs": [],
   "source": [
    "len(test_ids_safe)"
   ]
  },
  {
   "cell_type": "code",
   "execution_count": null,
   "id": "bbea1944",
   "metadata": {},
   "outputs": [],
   "source": []
  },
  {
   "cell_type": "code",
   "execution_count": null,
   "id": "2f6d522d",
   "metadata": {},
   "outputs": [],
   "source": [
    "test_ids = np.sort(test_ids)"
   ]
  },
  {
   "cell_type": "code",
   "execution_count": null,
   "id": "c682fe18",
   "metadata": {},
   "outputs": [],
   "source": [
    "plt.imshow(val_set[5][0][0])"
   ]
  },
  {
   "cell_type": "code",
   "execution_count": null,
   "id": "5498b1c9",
   "metadata": {},
   "outputs": [],
   "source": []
  },
  {
   "cell_type": "code",
   "execution_count": null,
   "id": "efad24d8",
   "metadata": {},
   "outputs": [],
   "source": []
  },
  {
   "cell_type": "code",
   "execution_count": null,
   "id": "ee6f46dc",
   "metadata": {
    "scrolled": true
   },
   "outputs": [],
   "source": [
    "plt.imshow(val_set[test_ids[10]][0][0])"
   ]
  },
  {
   "cell_type": "code",
   "execution_count": null,
   "id": "7d833a7e",
   "metadata": {},
   "outputs": [],
   "source": [
    "plt.imshow(val_set[test_ids[1]][0][0])"
   ]
  },
  {
   "cell_type": "code",
   "execution_count": null,
   "id": "bcd782d1",
   "metadata": {},
   "outputs": [],
   "source": [
    "plt.imshow(val_set[test_ids[0]][0][0])"
   ]
  },
  {
   "cell_type": "code",
   "execution_count": null,
   "id": "4e029610",
   "metadata": {},
   "outputs": [],
   "source": [
    "img_idx = 0\n",
    "test_img_np  = ((x[img_idx][None, ].astype(np.float32) ))\n",
    "with torch.no_grad():\n",
    "    img_t = torch.Tensor(test_img_np).to(device)\n",
    "    output = F.softmax(net.forward(img_t)[0], dim =0).cpu().detach().numpy()\n"
   ]
  },
  {
   "cell_type": "code",
   "execution_count": null,
   "id": "00195642",
   "metadata": {
    "scrolled": true
   },
   "outputs": [],
   "source": [
    "fig, axes = plt.subplots(ncols = 5, figsize = (20,4))\n",
    "axes[0].imshow(x[img_idx][0])\n",
    "axes[1].imshow(np.argmax(output, axis=0),vmin =-1, vmax = 2)\n",
    "target = np.copy(y[img_idx]).astype(np.int16)\n",
    "target[np.where(target == 255)] =-1\n",
    "axes[2].imshow(target, vmin =-1,vmax = 2)\n",
    "axes[3].imshow((target !=np.argmax(output, axis=0) ))\n",
    "max_val =np.quantile(output.std(axis=0).max() - output.std(axis=0),.90)\n",
    "axes[4].imshow(output.std(axis=0).max() - output.std(axis=0),vmax = max_val)\n",
    "# axes[1].imshow()"
   ]
  },
  {
   "cell_type": "code",
   "execution_count": null,
   "id": "27a16a50",
   "metadata": {},
   "outputs": [],
   "source": [
    "output.std(axis=0).max() - output.std(axis=0)"
   ]
  },
  {
   "cell_type": "code",
   "execution_count": null,
   "id": "dc8af5ea",
   "metadata": {},
   "outputs": [],
   "source": [
    "with torch.no_grad():\n",
    "    img_t = torch.Tensor(x[val_idxs]).to(device)\n",
    "    output = F.softmax(net.forward(img_t), dim =1)\n"
   ]
  },
  {
   "cell_type": "code",
   "execution_count": null,
   "id": "4c10caa9",
   "metadata": {},
   "outputs": [],
   "source": [
    "(torch.argmax(output, dim = 1).detach().cpu().numpy() ==y[val_idxs]).mean()"
   ]
  },
  {
   "cell_type": "code",
   "execution_count": null,
   "id": "6f10d3d4",
   "metadata": {},
   "outputs": [],
   "source": [
    "(torch.argmax(output, dim = 1).detach().cpu().numpy() ==y[val_idxs])[np.where((my_std < np.quantile(my_std, .1)))].mean()"
   ]
  },
  {
   "cell_type": "code",
   "execution_count": null,
   "id": "42d2010a",
   "metadata": {},
   "outputs": [],
   "source": [
    "(torch.argmax(output, dim = 1).detach().cpu().numpy() ==y[val_idxs])[np.where((my_std > np.quantile(my_std, .1)))].mean()"
   ]
  },
  {
   "cell_type": "code",
   "execution_count": null,
   "id": "56ce3c35",
   "metadata": {},
   "outputs": [],
   "source": [
    "len(val_loader)"
   ]
  },
  {
   "cell_type": "code",
   "execution_count": null,
   "id": "5105dad7",
   "metadata": {},
   "outputs": [],
   "source": [
    "val_loader"
   ]
  },
  {
   "cell_type": "code",
   "execution_count": null,
   "id": "b0a3e1f4",
   "metadata": {},
   "outputs": [],
   "source": [
    "eva"
   ]
  },
  {
   "cell_type": "code",
   "execution_count": null,
   "id": "b984fb52",
   "metadata": {},
   "outputs": [],
   "source": [
    "my_std = torch.std(output,dim =1).detach().cpu().numpy()"
   ]
  },
  {
   "cell_type": "code",
   "execution_count": null,
   "id": "b09d89db",
   "metadata": {},
   "outputs": [],
   "source": [
    "torch.argmax(output, dim = 1)"
   ]
  },
  {
   "cell_type": "code",
   "execution_count": null,
   "id": "12d8ccd5",
   "metadata": {},
   "outputs": [],
   "source": [
    "np.where((my_std < np.quantile(my_std, .1)))"
   ]
  },
  {
   "cell_type": "code",
   "execution_count": null,
   "id": "5e84a70f",
   "metadata": {},
   "outputs": [],
   "source": [
    "(torch.argmax(output, dim = 1).detach().cpu().numpy() ==y[val_idxs]).mean()"
   ]
  },
  {
   "cell_type": "code",
   "execution_count": null,
   "id": "fbb6e06d",
   "metadata": {},
   "outputs": [],
   "source": []
  },
  {
   "cell_type": "code",
   "execution_count": null,
   "id": "fc620b16",
   "metadata": {},
   "outputs": [],
   "source": []
  },
  {
   "cell_type": "code",
   "execution_count": null,
   "id": "1f1c3a78",
   "metadata": {},
   "outputs": [],
   "source": [
    "output.shape"
   ]
  },
  {
   "cell_type": "code",
   "execution_count": null,
   "id": "44a5446b",
   "metadata": {},
   "outputs": [],
   "source": [
    "1-dice_loss(output, torch.Tensor(y[val_idxs]).to(device), num_classes, multiclass=True)"
   ]
  },
  {
   "cell_type": "code",
   "execution_count": null,
   "id": "2690ad66",
   "metadata": {},
   "outputs": [],
   "source": []
  },
  {
   "cell_type": "code",
   "execution_count": null,
   "id": "6d426bca",
   "metadata": {},
   "outputs": [],
   "source": []
  },
  {
   "cell_type": "code",
   "execution_count": null,
   "id": "199efcf2",
   "metadata": {},
   "outputs": [],
   "source": [
    "from dice_score import dice_loss"
   ]
  },
  {
   "cell_type": "code",
   "execution_count": null,
   "id": "07c19997",
   "metadata": {},
   "outputs": [],
   "source": [
    "dice_loss()"
   ]
  },
  {
   "cell_type": "code",
   "execution_count": null,
   "id": "8934f4a0",
   "metadata": {},
   "outputs": [],
   "source": [
    "num_classes"
   ]
  },
  {
   "cell_type": "code",
   "execution_count": null,
   "id": "2e9ab8f7",
   "metadata": {},
   "outputs": [],
   "source": []
  },
  {
   "cell_type": "code",
   "execution_count": null,
   "id": "ac66bad3",
   "metadata": {
    "scrolled": true
   },
   "outputs": [],
   "source": []
  },
  {
   "cell_type": "code",
   "execution_count": null,
   "id": "a186d962",
   "metadata": {},
   "outputs": [],
   "source": []
  },
  {
   "cell_type": "code",
   "execution_count": null,
   "id": "33f24262",
   "metadata": {},
   "outputs": [],
   "source": [
    "np.quantile(output.std(axis=0).max() - output.std(axis=0), .9)"
   ]
  },
  {
   "cell_type": "code",
   "execution_count": null,
   "id": "64bbcf1f",
   "metadata": {},
   "outputs": [],
   "source": [
    "output.std(axis=0).max()"
   ]
  },
  {
   "cell_type": "code",
   "execution_count": null,
   "id": "5bfcf333",
   "metadata": {},
   "outputs": [],
   "source": [
    "(target ==np.argmax(output, axis=0) ).mean()"
   ]
  },
  {
   "cell_type": "code",
   "execution_count": null,
   "id": "f16acaf9",
   "metadata": {},
   "outputs": [],
   "source": [
    "output.std(axis=0)"
   ]
  },
  {
   "cell_type": "code",
   "execution_count": null,
   "id": "628c1285",
   "metadata": {},
   "outputs": [],
   "source": []
  },
  {
   "cell_type": "code",
   "execution_count": null,
   "id": "a065bec2",
   "metadata": {},
   "outputs": [],
   "source": []
  },
  {
   "cell_type": "markdown",
   "id": "03e26ab6",
   "metadata": {},
   "source": [
    "# old stuff"
   ]
  },
  {
   "cell_type": "code",
   "execution_count": null,
   "id": "989fda76",
   "metadata": {},
   "outputs": [],
   "source": [
    "for i in range(4):\n",
    "    img_idx = i\n",
    "    test_img_np  = ((x[img_idx][None, ].astype(np.float32) ))\n",
    "    with torch.no_grad():\n",
    "        img_t = torch.Tensor(test_img_np).to(device)\n",
    "        output = net.forward(img_t).cpu().detach().numpy()[0]\n",
    "        show_img = np.zeros_like(y[img_idx])\n",
    "        show_img[np.where(y[img_idx] ==my_data.phase_1)] =1\n",
    "        show_img[np.where(y[img_idx] ==my_data.phase_2)] =2\n",
    "        print((show_img ==np.argmax(output, axis=0)).mean())\n"
   ]
  },
  {
   "cell_type": "code",
   "execution_count": null,
   "id": "f93364aa",
   "metadata": {
    "scrolled": false
   },
   "outputs": [],
   "source": [
    "img_idx = -1\n",
    "test_img_np  = ((x[img_idx][None, ].astype(np.float32) -my_data.mean)/my_data.std)\n",
    "with torch.no_grad():\n",
    "    img_t = torch.Tensor(test_img_np).to(device)\n",
    "    output = net.forward(img_t).cpu().detach().numpy()[0]\n"
   ]
  },
  {
   "cell_type": "code",
   "execution_count": null,
   "id": "8457e75c",
   "metadata": {},
   "outputs": [],
   "source": [
    "show_img = np.zeros_like(y[img_idx])\n",
    "show_img[np.where(y[img_idx] ==my_data.phase_1)] =1\n",
    "show_img[np.where(y[img_idx] ==my_data.phase_2)] =2"
   ]
  },
  {
   "cell_type": "code",
   "execution_count": null,
   "id": "5859fa6c",
   "metadata": {},
   "outputs": [],
   "source": [
    "std_large = output.std(axis=0)<np.quantile(output.std(axis=0), .1)\n",
    "\n",
    "fig, axes = plt.subplots(ncols = 5, figsize = (20,7))\n",
    "axes[0].imshow(x[img_idx,2])\n",
    "axes[1].imshow(np.argmax(output, axis=0))\n",
    "axes[2].imshow(show_img)\n",
    "axes[3].imshow(show_img !=np.argmax(output, axis=0) )\n",
    "\n",
    "axes[4].imshow(std_large)"
   ]
  },
  {
   "cell_type": "code",
   "execution_count": null,
   "id": "d33118fc",
   "metadata": {},
   "outputs": [],
   "source": [
    "x.shape"
   ]
  },
  {
   "cell_type": "code",
   "execution_count": null,
   "id": "05f30cc7",
   "metadata": {},
   "outputs": [],
   "source": [
    "std_large = output.std(axis=0)<np.quantile(output.std(axis=0), .05)\n",
    "\n",
    "fig, axes = plt.subplots(ncols = 3, figsize = (20,8))\n",
    "# axes[0].imshow(x[img_idx,2])\n",
    "axes[0].imshow(np.argmax(output, axis=0))\n",
    "# axes[2].imshow(show_img)\n",
    "axes[1].imshow(show_img !=np.argmax(output, axis=0) )\n",
    "\n",
    "axes[2].imshow(std_large)"
   ]
  },
  {
   "cell_type": "code",
   "execution_count": null,
   "id": "d8607c09",
   "metadata": {},
   "outputs": [],
   "source": [
    "(show_img !=np.argmax(output, axis=0))[np.where(1-std_large)].mean()"
   ]
  },
  {
   "cell_type": "code",
   "execution_count": null,
   "id": "7abc430f",
   "metadata": {},
   "outputs": [],
   "source": [
    "(show_img ==np.argmax(output, axis=0)).mean()"
   ]
  },
  {
   "cell_type": "code",
   "execution_count": null,
   "id": "ae87a03d",
   "metadata": {},
   "outputs": [],
   "source": []
  },
  {
   "cell_type": "code",
   "execution_count": null,
   "id": "5fd228a5",
   "metadata": {},
   "outputs": [],
   "source": [
    "correct = np.reshape(show_img !=np.argmax(output, axis=0),-1)\n",
    "std = np.reshape(output.std(axis=0), -1)"
   ]
  },
  {
   "cell_type": "code",
   "execution_count": null,
   "id": "c7ee65d2",
   "metadata": {},
   "outputs": [],
   "source": [
    "std_large = output.std(axis=0)<np.quantile(output.std(axis=0), .1)\n",
    "\n",
    "fig, axes = plt.subplots(ncols = 5, figsize = (20,7))\n",
    "axes[0].imshow(x[img_idx,2])\n",
    "axes[1].imshow(np.argmax(output, axis=0))\n",
    "axes[2].imshow(show_img)\n",
    "axes[3].imshow(show_img !=np.argmax(output, axis=0) )\n",
    "\n",
    "axes[4].imshow(std_large)"
   ]
  },
  {
   "cell_type": "code",
   "execution_count": null,
   "id": "75995f0c",
   "metadata": {},
   "outputs": [],
   "source": [
    "std_large = output.std(axis=0)<np.quantile(output.std(axis=0), .1)\n",
    "\n",
    "fig, axes = plt.subplots(ncols = 1, figsize = (20,7))\n",
    "axes.imshow(x[img_idx,2][200:400,350:600])\n",
    "\n",
    "# axes[4].imshow(std_large)"
   ]
  },
  {
   "cell_type": "code",
   "execution_count": null,
   "id": "fa2e2ca6",
   "metadata": {},
   "outputs": [],
   "source": [
    "x.shape"
   ]
  },
  {
   "cell_type": "code",
   "execution_count": null,
   "id": "78a9494c",
   "metadata": {},
   "outputs": [],
   "source": [
    "plt.imshow(x[0,2])"
   ]
  },
  {
   "cell_type": "code",
   "execution_count": null,
   "id": "e7fec01f",
   "metadata": {},
   "outputs": [],
   "source": [
    "plt.imshow(x[-1,2])"
   ]
  },
  {
   "cell_type": "code",
   "execution_count": null,
   "id": "dfaa8be0",
   "metadata": {},
   "outputs": [],
   "source": [
    "x[img_idx,2][200:400,350:600]"
   ]
  }
 ],
 "metadata": {
  "kernelspec": {
   "display_name": "Python 3 (ipykernel)",
   "language": "python",
   "name": "python3"
  },
  "language_info": {
   "codemirror_mode": {
    "name": "ipython",
    "version": 3
   },
   "file_extension": ".py",
   "mimetype": "text/x-python",
   "name": "python",
   "nbconvert_exporter": "python",
   "pygments_lexer": "ipython3",
   "version": "3.9.12"
  }
 },
 "nbformat": 4,
 "nbformat_minor": 5
}
